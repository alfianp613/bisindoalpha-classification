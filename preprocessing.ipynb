{
 "cells": [
  {
   "cell_type": "code",
   "execution_count": 1,
   "metadata": {
    "executionInfo": {
     "elapsed": 567,
     "status": "ok",
     "timestamp": 1669212480525,
     "user": {
      "displayName": "Muhammad Alfian Pratama",
      "userId": "01942155657121003661"
     },
     "user_tz": -420
    },
    "id": "irkNLgq1bWgr"
   },
   "outputs": [],
   "source": [
    "import PIL\n",
    "import os\n",
    "from PIL import Image\n",
    "import glob"
   ]
  },
  {
   "cell_type": "code",
   "execution_count": 1,
   "metadata": {
    "colab": {
     "base_uri": "https://localhost:8080/"
    },
    "executionInfo": {
     "elapsed": 30617,
     "status": "ok",
     "timestamp": 1669212319248,
     "user": {
      "displayName": "Muhammad Alfian Pratama",
      "userId": "01942155657121003661"
     },
     "user_tz": -420
    },
    "id": "slxX9I5Shtzb",
    "outputId": "333e4194-728f-4a93-84b2-7291dbc66976"
   },
   "outputs": [
    {
     "name": "stdout",
     "output_type": "stream",
     "text": [
      "Mounted at /content/drive\n"
     ]
    }
   ],
   "source": [
    "# from google.colab import drive\n",
    "# drive.mount('/content/drive')"
   ]
  },
  {
   "cell_type": "code",
   "execution_count": 2,
   "metadata": {
    "executionInfo": {
     "elapsed": 1374,
     "status": "ok",
     "timestamp": 1669212337481,
     "user": {
      "displayName": "Muhammad Alfian Pratama",
      "userId": "01942155657121003661"
     },
     "user_tz": -420
    },
    "id": "Pp7Rb6NviOeL"
   },
   "outputs": [],
   "source": [
    "path = \"/Sign Language Image Resize\""
   ]
  },
  {
   "cell_type": "markdown",
   "metadata": {
    "id": "ZEZMUTZw4_i8"
   },
   "source": [
    "# Data Preprocessing\n",
    "## Resize Image"
   ]
  },
  {
   "cell_type": "code",
   "execution_count": 3,
   "metadata": {
    "executionInfo": {
     "elapsed": 213934,
     "status": "ok",
     "timestamp": 1669213883579,
     "user": {
      "displayName": "Muhammad Alfian Pratama",
      "userId": "01942155657121003661"
     },
     "user_tz": -420
    },
    "id": "-2fQeYqu0zQB"
   },
   "outputs": [
    {
     "name": "stdout",
     "output_type": "stream",
     "text": [
      "Abjad A Selesai!\n",
      "Abjad B Selesai!\n",
      "Abjad C Selesai!\n",
      "Abjad D Selesai!\n",
      "Abjad E Selesai!\n",
      "Abjad F Selesai!\n",
      "Abjad G Selesai!\n",
      "Abjad H Selesai!\n",
      "Abjad I Selesai!\n",
      "Abjad J Selesai!\n",
      "Abjad K Selesai!\n",
      "Abjad L Selesai!\n",
      "Abjad M Selesai!\n",
      "Abjad N Selesai!\n",
      "Abjad O Selesai!\n",
      "Abjad P Selesai!\n",
      "Abjad Q Selesai!\n",
      "Abjad R Selesai!\n",
      "Abjad S Selesai!\n",
      "Abjad T Selesai!\n",
      "Abjad U Selesai!\n",
      "Abjad V Selesai!\n",
      "Abjad W Selesai!\n",
      "Abjad X Selesai!\n",
      "Abjad Y Selesai!\n",
      "Abjad Z Selesai!\n"
     ]
    }
   ],
   "source": [
    "abjad = ['A','B','C','D','E','F','G','H','I','J','K','L','M','N','O','P','Q','R','S','T','U','V','W','X','Y','Z']\n",
    "for i in abjad:\n",
    "    path_abjad = path+\"/\"+i\n",
    "    path_re = path+\"/Image Resize/\"+i\n",
    "    isExist = os.path.exists(path_re)\n",
    "    if not isExist:\n",
    "        os.mkdir(path_re)\n",
    "        print(path_re,\"is created!\")\n",
    "    for gambar in os.listdir(path_abjad):\n",
    "        img_re = path+'/'+i+'/'+gambar\n",
    "        resize = path+f\"/Image Resize/{i}/\"+gambar\n",
    "        img = Image.open(img_re)\n",
    "        img = img.resize((250,250))\n",
    "        img.save(resize)\n",
    "    print(\"Abjad\",i,\"Selesai!\")"
   ]
  },
  {
   "cell_type": "code",
   "execution_count": 20,
   "metadata": {
    "colab": {
     "base_uri": "https://localhost:8080/"
    },
    "executionInfo": {
     "elapsed": 628,
     "status": "ok",
     "timestamp": 1669214247294,
     "user": {
      "displayName": "Muhammad Alfian Pratama",
      "userId": "01942155657121003661"
     },
     "user_tz": -420
    },
    "id": "hlLnsbIR4SQN",
    "outputId": "a2074720-ee98-4d42-9e5c-307b8a4d61c0"
   },
   "outputs": [
    {
     "name": "stdout",
     "output_type": "stream",
     "text": [
      "A : 20\n",
      "B : 20\n",
      "C : 20\n",
      "D : 20\n",
      "E : 20\n",
      "F : 20\n",
      "G : 20\n",
      "H : 20\n",
      "I : 20\n",
      "J : 20\n",
      "K : 20\n",
      "L : 20\n",
      "M : 20\n",
      "N : 20\n",
      "O : 20\n",
      "P : 20\n",
      "Q : 20\n",
      "R : 20\n",
      "S : 20\n",
      "T : 20\n",
      "U : 20\n",
      "V : 20\n",
      "W : 20\n",
      "X : 20\n",
      "Y : 20\n",
      "Z : 20\n"
     ]
    }
   ],
   "source": [
    "abjad = ['A','B','C','D','E','F','G','H','I','J','K','L','M','N','O','P','Q','R','S','T','U','V','W','X','Y','Z']\n",
    "for i in abjad:\n",
    "    path_abjad = os.listdir(f\"/Sign Language Image Resize/Image Resize/{i}\")\n",
    "    print(i,\":\",len(path_abjad))"
   ]
  },
  {
   "cell_type": "code",
   "execution_count": 27,
   "metadata": {},
   "outputs": [
    {
     "data": {
      "text/plain": [
       "8"
      ]
     },
     "execution_count": 27,
     "metadata": {},
     "output_type": "execute_result"
    }
   ],
   "source": [
    "os.listdir(path+\"/A\")[5].find('.JPG')"
   ]
  },
  {
   "cell_type": "code",
   "execution_count": 28,
   "metadata": {},
   "outputs": [
    {
     "data": {
      "text/plain": [
       "'.JPG'"
      ]
     },
     "execution_count": 28,
     "metadata": {},
     "output_type": "execute_result"
    }
   ],
   "source": [
    "os.listdir(path+\"/A\")[5][8:]"
   ]
  },
  {
   "cell_type": "code",
   "execution_count": 37,
   "metadata": {},
   "outputs": [
    {
     "name": "stdout",
     "output_type": "stream",
     "text": [
      "IMG_1012.JPG berhasil di rename\n",
      "IMG_1013.JPG berhasil di rename\n",
      "IMG_1014.JPG berhasil di rename\n",
      "IMG_1015.JPG berhasil di rename\n",
      "IMG_1016.JPG berhasil di rename\n",
      "IMG_1022.JPG berhasil di rename\n",
      "IMG_1023.JPG berhasil di rename\n",
      "IMG_1024.JPG berhasil di rename\n",
      "IMG_1025.JPG berhasil di rename\n",
      "IMG_1026.JPG berhasil di rename\n",
      "IMG_1032.JPG berhasil di rename\n",
      "IMG_1033.JPG berhasil di rename\n",
      "IMG_1034.JPG berhasil di rename\n",
      "IMG_1035.JPG berhasil di rename\n",
      "IMG_1036.JPG berhasil di rename\n",
      "IMG_1052.JPG berhasil di rename\n",
      "IMG_1053.JPG berhasil di rename\n",
      "IMG_1054.JPG berhasil di rename\n",
      "IMG_1055.JPG berhasil di rename\n",
      "IMG_1056.JPG berhasil di rename\n",
      "IMG_1062.JPG berhasil di rename\n",
      "IMG_1063.JPG berhasil di rename\n",
      "IMG_1064.JPG berhasil di rename\n",
      "IMG_1065.JPG berhasil di rename\n",
      "IMG_1066.JPG berhasil di rename\n",
      "IMG_1072.JPG berhasil di rename\n",
      "IMG_1073.JPG berhasil di rename\n",
      "IMG_1074.JPG berhasil di rename\n",
      "IMG_1075.JPG berhasil di rename\n",
      "IMG_1076.JPG berhasil di rename\n",
      "IMG_1082.JPG berhasil di rename\n",
      "IMG_1083.JPG berhasil di rename\n",
      "IMG_1084.JPG berhasil di rename\n",
      "IMG_1085.JPG berhasil di rename\n",
      "IMG_1088.JPG berhasil di rename\n",
      "IMG_1093.JPG berhasil di rename\n",
      "IMG_1094.JPG berhasil di rename\n",
      "IMG_1095.JPG berhasil di rename\n",
      "IMG_1096.JPG berhasil di rename\n",
      "IMG_1097.JPG berhasil di rename\n",
      "IMG_1107.JPG berhasil di rename\n",
      "IMG_1108.JPG berhasil di rename\n",
      "IMG_1109.JPG berhasil di rename\n",
      "IMG_1110.JPG berhasil di rename\n",
      "IMG_1111.JPG berhasil di rename\n",
      "IMG_1132.JPG berhasil di rename\n",
      "IMG_1133.JPG berhasil di rename\n",
      "IMG_1134.JPG berhasil di rename\n",
      "IMG_1135.JPG berhasil di rename\n",
      "IMG_1136.JPG berhasil di rename\n",
      "IMG_1142.JPG berhasil di rename\n",
      "IMG_1143.JPG berhasil di rename\n",
      "IMG_1144.JPG berhasil di rename\n",
      "IMG_1145.JPG berhasil di rename\n",
      "IMG_1146.JPG berhasil di rename\n",
      "IMG_1157.JPG berhasil di rename\n",
      "IMG_1158.JPG berhasil di rename\n",
      "IMG_1159.JPG berhasil di rename\n",
      "IMG_1160.JPG berhasil di rename\n",
      "IMG_1161.JPG berhasil di rename\n",
      "IMG_1172.JPG berhasil di rename\n",
      "IMG_1173.JPG berhasil di rename\n",
      "IMG_1174.JPG berhasil di rename\n",
      "IMG_1175.JPG berhasil di rename\n",
      "IMG_1176.JPG berhasil di rename\n",
      "IMG_1187.JPG berhasil di rename\n",
      "IMG_1188.JPG berhasil di rename\n",
      "IMG_1189.JPG berhasil di rename\n",
      "IMG_1190.JPG berhasil di rename\n",
      "IMG_1191.JPG berhasil di rename\n",
      "IMG_1197.JPG berhasil di rename\n",
      "IMG_1198.JPG berhasil di rename\n",
      "IMG_1199.JPG berhasil di rename\n",
      "IMG_1200.JPG berhasil di rename\n",
      "IMG_1201.JPG berhasil di rename\n",
      "IMG_1207.JPG berhasil di rename\n",
      "IMG_1208.JPG berhasil di rename\n",
      "IMG_1209.JPG berhasil di rename\n",
      "IMG_1210.JPG berhasil di rename\n",
      "IMG_1211.JPG berhasil di rename\n",
      "IMG_1217.JPG berhasil di rename\n",
      "IMG_1218.JPG berhasil di rename\n",
      "IMG_1219.JPG berhasil di rename\n",
      "IMG_1220.JPG berhasil di rename\n",
      "IMG_1221.JPG berhasil di rename\n",
      "IMG_1227.JPG berhasil di rename\n",
      "IMG_1228.JPG berhasil di rename\n",
      "IMG_1229.JPG berhasil di rename\n",
      "IMG_1230.JPG berhasil di rename\n",
      "IMG_1231.JPG berhasil di rename\n",
      "IMG_1237.JPG berhasil di rename\n",
      "IMG_1238.JPG berhasil di rename\n",
      "IMG_1239.JPG berhasil di rename\n",
      "IMG_1240.JPG berhasil di rename\n",
      "IMG_1241.JPG berhasil di rename\n",
      "IMG_1242.JPG berhasil di rename\n",
      "IMG_1243.JPG berhasil di rename\n",
      "IMG_1244.JPG berhasil di rename\n",
      "IMG_1245.JPG berhasil di rename\n",
      "IMG_1246.JPG berhasil di rename\n",
      "IMG_1257.JPG berhasil di rename\n",
      "IMG_1258.JPG berhasil di rename\n",
      "IMG_1259.JPG berhasil di rename\n",
      "IMG_1260.JPG berhasil di rename\n",
      "IMG_1261.JPG berhasil di rename\n",
      "IMG_1267.JPG berhasil di rename\n",
      "IMG_1268.JPG berhasil di rename\n",
      "IMG_1269.JPG berhasil di rename\n",
      "IMG_1270.JPG berhasil di rename\n",
      "IMG_1271.JPG berhasil di rename\n",
      "IMG_1272.JPG berhasil di rename\n",
      "IMG_1273.JPG berhasil di rename\n",
      "IMG_1274.JPG berhasil di rename\n",
      "IMG_1275.JPG berhasil di rename\n",
      "IMG_1276.JPG berhasil di rename\n",
      "IMG_1287.JPG berhasil di rename\n",
      "IMG_1288.JPG berhasil di rename\n",
      "IMG_1289.JPG berhasil di rename\n",
      "IMG_1290.JPG berhasil di rename\n",
      "IMG_1291.JPG berhasil di rename\n",
      "IMG_1292.JPG berhasil di rename\n",
      "IMG_1293.JPG berhasil di rename\n",
      "IMG_1294.JPG berhasil di rename\n",
      "IMG_1295.JPG berhasil di rename\n",
      "IMG_1296.JPG berhasil di rename\n",
      "IMG_1302.JPG berhasil di rename\n",
      "IMG_1303.JPG berhasil di rename\n",
      "IMG_1304.JPG berhasil di rename\n",
      "IMG_1305.JPG berhasil di rename\n",
      "IMG_1306.JPG berhasil di rename\n"
     ]
    }
   ],
   "source": [
    "abjad = ['A','B','C','D','E','F','G','H','I','J','K','L','M','N','O','P','Q','R','S','T','U','V','W','X','Y','Z']\n",
    "for i in abjad:\n",
    "    path_abjad = path+\"/Image Resize/\"+i\n",
    "    for j in os.listdir(path_abjad):\n",
    "        if j[8:] == '.JPG':\n",
    "            a = j.replace(\".JPG\",'.jpg')\n",
    "            os.rename(path_abjad+\"/\"+j,path_abjad+\"/\"+a)\n",
    "            print(j, \"berhasil di rename\")"
   ]
  },
  {
   "cell_type": "code",
   "execution_count": 33,
   "metadata": {},
   "outputs": [
    {
     "data": {
      "text/plain": [
       "'IMG_20221123_204026.jpg'"
      ]
     },
     "execution_count": 33,
     "metadata": {},
     "output_type": "execute_result"
    }
   ],
   "source": [
    "i"
   ]
  },
  {
   "cell_type": "code",
   "execution_count": null,
   "metadata": {},
   "outputs": [],
   "source": []
  }
 ],
 "metadata": {
  "colab": {
   "authorship_tag": "ABX9TyNRReudinRp/s1m25ji2aja",
   "provenance": []
  },
  "kernelspec": {
   "display_name": "Python 3 (ipykernel)",
   "language": "python",
   "name": "python3"
  },
  "language_info": {
   "codemirror_mode": {
    "name": "ipython",
    "version": 3
   },
   "file_extension": ".py",
   "mimetype": "text/x-python",
   "name": "python",
   "nbconvert_exporter": "python",
   "pygments_lexer": "ipython3",
   "version": "3.9.7"
  }
 },
 "nbformat": 4,
 "nbformat_minor": 1
}
