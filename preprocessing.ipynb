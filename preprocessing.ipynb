{
 "cells": [
  {
   "cell_type": "code",
   "execution_count": 1,
   "metadata": {
    "executionInfo": {
     "elapsed": 567,
     "status": "ok",
     "timestamp": 1669212480525,
     "user": {
      "displayName": "Muhammad Alfian Pratama",
      "userId": "01942155657121003661"
     },
     "user_tz": -420
    },
    "id": "irkNLgq1bWgr"
   },
   "outputs": [],
   "source": [
    "import PIL\n",
    "import os\n",
    "from PIL import Image\n",
    "import glob"
   ]
  },
  {
   "cell_type": "code",
   "execution_count": 1,
   "metadata": {
    "colab": {
     "base_uri": "https://localhost:8080/"
    },
    "executionInfo": {
     "elapsed": 30617,
     "status": "ok",
     "timestamp": 1669212319248,
     "user": {
      "displayName": "Muhammad Alfian Pratama",
      "userId": "01942155657121003661"
     },
     "user_tz": -420
    },
    "id": "slxX9I5Shtzb",
    "outputId": "333e4194-728f-4a93-84b2-7291dbc66976"
   },
   "outputs": [
    {
     "name": "stdout",
     "output_type": "stream",
     "text": [
      "Mounted at /content/drive\n"
     ]
    }
   ],
   "source": [
    "# from google.colab import drive\n",
    "# drive.mount('/content/drive')"
   ]
  },
  {
   "cell_type": "code",
   "execution_count": 3,
   "metadata": {
    "executionInfo": {
     "elapsed": 1374,
     "status": "ok",
     "timestamp": 1669212337481,
     "user": {
      "displayName": "Muhammad Alfian Pratama",
      "userId": "01942155657121003661"
     },
     "user_tz": -420
    },
    "id": "Pp7Rb6NviOeL"
   },
   "outputs": [],
   "source": [
    "path = r\"D:\\Kuliah\\Tugas, PPT, Buku Kuliah\\Semester 5\\Data Mining II\\Project\""
   ]
  },
  {
   "cell_type": "markdown",
   "metadata": {
    "id": "ZEZMUTZw4_i8"
   },
   "source": [
    "# Data Preprocessing\n",
    "## Resize Image"
   ]
  },
  {
   "cell_type": "code",
   "execution_count": 7,
   "metadata": {
    "executionInfo": {
     "elapsed": 213934,
     "status": "ok",
     "timestamp": 1669213883579,
     "user": {
      "displayName": "Muhammad Alfian Pratama",
      "userId": "01942155657121003661"
     },
     "user_tz": -420
    },
    "id": "-2fQeYqu0zQB"
   },
   "outputs": [
    {
     "name": "stdout",
     "output_type": "stream",
     "text": [
      "D:\\Kuliah\\Tugas, PPT, Buku Kuliah\\Semester 5\\Data Mining II\\Project\\Image Augmentation\\A is created!\n",
      "D:\\Kuliah\\Tugas, PPT, Buku Kuliah\\Semester 5\\Data Mining II\\Project\\Image Augmentation\\B is created!\n",
      "D:\\Kuliah\\Tugas, PPT, Buku Kuliah\\Semester 5\\Data Mining II\\Project\\Image Augmentation\\C is created!\n",
      "D:\\Kuliah\\Tugas, PPT, Buku Kuliah\\Semester 5\\Data Mining II\\Project\\Image Augmentation\\D is created!\n",
      "D:\\Kuliah\\Tugas, PPT, Buku Kuliah\\Semester 5\\Data Mining II\\Project\\Image Augmentation\\E is created!\n",
      "D:\\Kuliah\\Tugas, PPT, Buku Kuliah\\Semester 5\\Data Mining II\\Project\\Image Augmentation\\F is created!\n",
      "D:\\Kuliah\\Tugas, PPT, Buku Kuliah\\Semester 5\\Data Mining II\\Project\\Image Augmentation\\G is created!\n",
      "D:\\Kuliah\\Tugas, PPT, Buku Kuliah\\Semester 5\\Data Mining II\\Project\\Image Augmentation\\H is created!\n",
      "D:\\Kuliah\\Tugas, PPT, Buku Kuliah\\Semester 5\\Data Mining II\\Project\\Image Augmentation\\I is created!\n",
      "D:\\Kuliah\\Tugas, PPT, Buku Kuliah\\Semester 5\\Data Mining II\\Project\\Image Augmentation\\J is created!\n",
      "D:\\Kuliah\\Tugas, PPT, Buku Kuliah\\Semester 5\\Data Mining II\\Project\\Image Augmentation\\K is created!\n",
      "D:\\Kuliah\\Tugas, PPT, Buku Kuliah\\Semester 5\\Data Mining II\\Project\\Image Augmentation\\L is created!\n",
      "D:\\Kuliah\\Tugas, PPT, Buku Kuliah\\Semester 5\\Data Mining II\\Project\\Image Augmentation\\M is created!\n",
      "D:\\Kuliah\\Tugas, PPT, Buku Kuliah\\Semester 5\\Data Mining II\\Project\\Image Augmentation\\N is created!\n",
      "D:\\Kuliah\\Tugas, PPT, Buku Kuliah\\Semester 5\\Data Mining II\\Project\\Image Augmentation\\O is created!\n",
      "D:\\Kuliah\\Tugas, PPT, Buku Kuliah\\Semester 5\\Data Mining II\\Project\\Image Augmentation\\P is created!\n",
      "D:\\Kuliah\\Tugas, PPT, Buku Kuliah\\Semester 5\\Data Mining II\\Project\\Image Augmentation\\Q is created!\n",
      "D:\\Kuliah\\Tugas, PPT, Buku Kuliah\\Semester 5\\Data Mining II\\Project\\Image Augmentation\\R is created!\n",
      "D:\\Kuliah\\Tugas, PPT, Buku Kuliah\\Semester 5\\Data Mining II\\Project\\Image Augmentation\\S is created!\n",
      "D:\\Kuliah\\Tugas, PPT, Buku Kuliah\\Semester 5\\Data Mining II\\Project\\Image Augmentation\\T is created!\n",
      "D:\\Kuliah\\Tugas, PPT, Buku Kuliah\\Semester 5\\Data Mining II\\Project\\Image Augmentation\\U is created!\n",
      "D:\\Kuliah\\Tugas, PPT, Buku Kuliah\\Semester 5\\Data Mining II\\Project\\Image Augmentation\\V is created!\n",
      "D:\\Kuliah\\Tugas, PPT, Buku Kuliah\\Semester 5\\Data Mining II\\Project\\Image Augmentation\\W is created!\n",
      "D:\\Kuliah\\Tugas, PPT, Buku Kuliah\\Semester 5\\Data Mining II\\Project\\Image Augmentation\\X is created!\n",
      "D:\\Kuliah\\Tugas, PPT, Buku Kuliah\\Semester 5\\Data Mining II\\Project\\Image Augmentation\\Y is created!\n",
      "D:\\Kuliah\\Tugas, PPT, Buku Kuliah\\Semester 5\\Data Mining II\\Project\\Image Augmentation\\Z is created!\n"
     ]
    }
   ],
   "source": [
    "abjad = ['A','B','C','D','E','F','G','H','I','J','K','L','M','N','O','P','Q','R','S','T','U','V','W','X','Y','Z']\n",
    "for i in abjad:\n",
    "    path_abjad = path+i\n",
    "    path_re = path+\"\\Image Augmentation\"+f\"\\{i}\"\n",
    "    isExist = os.path.exists(path_re)\n",
    "    if not isExist:\n",
    "        os.mkdir(path_re)\n",
    "        print(path_re,\"is created!\")\n",
    "    # for gambar in os.listdir(path_abjad):\n",
    "    #     img_re = path+'/'+i+'/'+gambar\n",
    "    #     resize = path+f\"/Image Resize/{i}/\"+gambar\n",
    "    #     img = Image.open(img_re)\n",
    "    #     img = img.resize((250,250))\n",
    "    #     img.save(resize)\n",
    "    # print(\"Abjad\",i,\"Selesai!\")"
   ]
  },
  {
   "cell_type": "code",
   "execution_count": 20,
   "metadata": {
    "colab": {
     "base_uri": "https://localhost:8080/"
    },
    "executionInfo": {
     "elapsed": 628,
     "status": "ok",
     "timestamp": 1669214247294,
     "user": {
      "displayName": "Muhammad Alfian Pratama",
      "userId": "01942155657121003661"
     },
     "user_tz": -420
    },
    "id": "hlLnsbIR4SQN",
    "outputId": "a2074720-ee98-4d42-9e5c-307b8a4d61c0"
   },
   "outputs": [
    {
     "name": "stdout",
     "output_type": "stream",
     "text": [
      "A : 20\n",
      "B : 20\n",
      "C : 20\n",
      "D : 20\n",
      "E : 20\n",
      "F : 20\n",
      "G : 20\n",
      "H : 20\n",
      "I : 20\n",
      "J : 20\n",
      "K : 20\n",
      "L : 20\n",
      "M : 20\n",
      "N : 20\n",
      "O : 20\n",
      "P : 20\n",
      "Q : 20\n",
      "R : 20\n",
      "S : 20\n",
      "T : 20\n",
      "U : 20\n",
      "V : 20\n",
      "W : 20\n",
      "X : 20\n",
      "Y : 20\n",
      "Z : 20\n"
     ]
    }
   ],
   "source": [
    "abjad = ['A','B','C','D','E','F','G','H','I','J','K','L','M','N','O','P','Q','R','S','T','U','V','W','X','Y','Z']\n",
    "for i in abjad:\n",
    "    path_abjad = os.listdir(f\"/Sign Language Image Resize/Image Resize/{i}\")\n",
    "    print(i,\":\",len(path_abjad))"
   ]
  },
  {
   "cell_type": "code",
   "execution_count": 27,
   "metadata": {},
   "outputs": [
    {
     "data": {
      "text/plain": [
       "8"
      ]
     },
     "execution_count": 27,
     "metadata": {},
     "output_type": "execute_result"
    }
   ],
   "source": [
    "os.listdir(path+\"/A\")[5].find('.JPG')"
   ]
  },
  {
   "cell_type": "code",
   "execution_count": 28,
   "metadata": {},
   "outputs": [
    {
     "data": {
      "text/plain": [
       "'.JPG'"
      ]
     },
     "execution_count": 28,
     "metadata": {},
     "output_type": "execute_result"
    }
   ],
   "source": [
    "os.listdir(path+\"/A\")[5][8:]"
   ]
  },
  {
   "cell_type": "code",
   "execution_count": 5,
   "metadata": {},
   "outputs": [
    {
     "name": "stdout",
     "output_type": "stream",
     "text": [
      "IMG_1373.JPG berhasil di rename\n",
      "IMG_1374.JPG berhasil di rename\n",
      "IMG_1375.JPG berhasil di rename\n",
      "IMG_1376.JPG berhasil di rename\n"
     ]
    }
   ],
   "source": [
    "abjad = ['A','B','C','D','E','F','G','H','I','J','K','L','M','N','O','P','Q','R','S','T','U','V','W','X','Y','Z']\n",
    "for i in abjad:\n",
    "    path_abjad = r\"D:\\Kuliah\\Tugas, PPT, Buku Kuliah\\Semester 5\\Data Mining II\\Project\\A\"\n",
    "    for j in os.listdir(path_abjad):\n",
    "        if j[8:] == '.JPG':\n",
    "            a = j.replace(\".JPG\",'.jpg')\n",
    "            os.rename(path_abjad+\"/\"+j,path_abjad+\"/\"+a)\n",
    "            print(j, \"berhasil di rename\")"
   ]
  },
  {
   "cell_type": "code",
   "execution_count": 33,
   "metadata": {},
   "outputs": [
    {
     "data": {
      "text/plain": [
       "'IMG_20221123_204026.jpg'"
      ]
     },
     "execution_count": 33,
     "metadata": {},
     "output_type": "execute_result"
    }
   ],
   "source": [
    "i"
   ]
  },
  {
   "cell_type": "code",
   "execution_count": null,
   "metadata": {},
   "outputs": [],
   "source": []
  }
 ],
 "metadata": {
  "colab": {
   "authorship_tag": "ABX9TyNRReudinRp/s1m25ji2aja",
   "provenance": []
  },
  "kernelspec": {
   "display_name": "Python 3.9.7 ('base')",
   "language": "python",
   "name": "python3"
  },
  "language_info": {
   "codemirror_mode": {
    "name": "ipython",
    "version": 3
   },
   "file_extension": ".py",
   "mimetype": "text/x-python",
   "name": "python",
   "nbconvert_exporter": "python",
   "pygments_lexer": "ipython3",
   "version": "3.9.7"
  },
  "vscode": {
   "interpreter": {
    "hash": "c45a8fd23574db316d2ea29d17c826963fdfde91ff67bc571ca5132ac0fdb06f"
   }
  }
 },
 "nbformat": 4,
 "nbformat_minor": 1
}
