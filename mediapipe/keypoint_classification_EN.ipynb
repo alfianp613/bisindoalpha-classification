{
  "cells": [
    {
      "cell_type": "code",
      "execution_count": 3,
      "metadata": {
        "id": "igMyGnjE9hEp"
      },
      "outputs": [],
      "source": [
        "import csv\n",
        "\n",
        "import numpy as np\n",
        "import tensorflow as tf\n",
        "from sklearn.model_selection import train_test_split\n",
        "\n",
        "RANDOM_SEED = 42"
      ]
    },
    {
      "cell_type": "markdown",
      "metadata": {
        "id": "t2HDvhIu9hEr"
      },
      "source": [
        "# Specify each path"
      ]
    },
    {
      "cell_type": "code",
      "execution_count": 4,
      "metadata": {
        "id": "9NvZP2Zn9hEy"
      },
      "outputs": [],
      "source": [
        "dataset = 'model/keypoint_classifier/keypoint.csv'\n",
        "model_save_path = 'model/keypoint_classifier/keypoint_classifier.hdf5'\n",
        "tflite_save_path = 'model/keypoint_classifier/keypoint_classifier.tflite'"
      ]
    },
    {
      "cell_type": "markdown",
      "metadata": {
        "id": "s5oMH7x19hEz"
      },
      "source": [
        "# Set number of classes"
      ]
    },
    {
      "cell_type": "code",
      "execution_count": 5,
      "metadata": {
        "id": "du4kodXL9hEz"
      },
      "outputs": [],
      "source": [
        "NUM_CLASSES = 26"
      ]
    },
    {
      "cell_type": "markdown",
      "metadata": {
        "id": "XjnL0uso9hEz"
      },
      "source": [
        "# Dataset reading"
      ]
    },
    {
      "cell_type": "code",
      "execution_count": 6,
      "metadata": {
        "id": "QT5ZqtEz9hE0"
      },
      "outputs": [],
      "source": [
        "X_dataset = np.loadtxt(dataset, delimiter=',', dtype='float32', usecols=list(range(1, (21 * 2) + 1)))"
      ]
    },
    {
      "cell_type": "code",
      "execution_count": 7,
      "metadata": {
        "id": "QmoKFsp49hE0"
      },
      "outputs": [],
      "source": [
        "y_dataset = np.loadtxt(dataset, delimiter=',', dtype='int32', usecols=(0))"
      ]
    },
    {
      "cell_type": "code",
      "execution_count": 8,
      "metadata": {
        "id": "xQU7JTZ_9hE0"
      },
      "outputs": [],
      "source": [
        "X_train, X_test, y_train, y_test = train_test_split(X_dataset, y_dataset, train_size=0.75, random_state=RANDOM_SEED)"
      ]
    },
    {
      "cell_type": "markdown",
      "metadata": {
        "id": "mxK_lETT9hE0"
      },
      "source": [
        "# Model building"
      ]
    },
    {
      "cell_type": "code",
      "execution_count": 9,
      "metadata": {
        "id": "vHBmUf1t9hE1"
      },
      "outputs": [],
      "source": [
        "model = tf.keras.models.Sequential([\n",
        "    tf.keras.layers.Input((21 * 2, )),\n",
        "    tf.keras.layers.Dropout(0.2),\n",
        "    tf.keras.layers.Dense(512, activation='relu'),\n",
        "    tf.keras.layers.Dropout(0.4),\n",
        "    tf.keras.layers.Dense(256, activation='relu'),\n",
        "    tf.keras.layers.Dense(NUM_CLASSES, activation='softmax')\n",
        "])"
      ]
    },
    {
      "cell_type": "code",
      "execution_count": 10,
      "metadata": {
        "colab": {
          "base_uri": "https://localhost:8080/"
        },
        "id": "ypqky9tc9hE1",
        "outputId": "5db082bb-30e3-4110-bf63-a1ee777ecd46"
      },
      "outputs": [
        {
          "name": "stdout",
          "output_type": "stream",
          "text": [
            "Model: \"sequential\"\n",
            "_________________________________________________________________\n",
            " Layer (type)                Output Shape              Param #   \n",
            "=================================================================\n",
            " dropout (Dropout)           (None, 42)                0         \n",
            "                                                                 \n",
            " dense (Dense)               (None, 512)               22016     \n",
            "                                                                 \n",
            " dropout_1 (Dropout)         (None, 512)               0         \n",
            "                                                                 \n",
            " dense_1 (Dense)             (None, 256)               131328    \n",
            "                                                                 \n",
            " dense_2 (Dense)             (None, 26)                6682      \n",
            "                                                                 \n",
            "=================================================================\n",
            "Total params: 160,026\n",
            "Trainable params: 160,026\n",
            "Non-trainable params: 0\n",
            "_________________________________________________________________\n"
          ]
        }
      ],
      "source": [
        "model.summary()  # tf.keras.utils.plot_model(model, show_shapes=True)"
      ]
    },
    {
      "cell_type": "code",
      "execution_count": 11,
      "metadata": {
        "id": "MbMjOflQ9hE1"
      },
      "outputs": [],
      "source": [
        "# Model checkpoint callback\n",
        "cp_callback = tf.keras.callbacks.ModelCheckpoint(\n",
        "    model_save_path, verbose=1, save_weights_only=False)"
      ]
    },
    {
      "cell_type": "code",
      "execution_count": 12,
      "metadata": {
        "id": "c3Dac0M_9hE2"
      },
      "outputs": [],
      "source": [
        "# Model compilation\n",
        "model.compile(\n",
        "    optimizer='adam',\n",
        "    loss='sparse_categorical_crossentropy',\n",
        "    metrics=['accuracy']\n",
        ")"
      ]
    },
    {
      "cell_type": "markdown",
      "metadata": {
        "id": "7XI0j1Iu9hE2"
      },
      "source": [
        "# Model training"
      ]
    },
    {
      "cell_type": "code",
      "execution_count": 13,
      "metadata": {
        "colab": {
          "base_uri": "https://localhost:8080/"
        },
        "id": "WirBl-JE9hE3",
        "outputId": "71b30ca2-8294-4d9d-8aa2-800d90d399de",
        "scrolled": true
      },
      "outputs": [
        {
          "name": "stdout",
          "output_type": "stream",
          "text": [
            "Epoch 1/100\n",
            "49/50 [============================>.] - ETA: 0s - loss: 2.8114 - accuracy: 0.1926\n",
            "Epoch 1: saving model to model/keypoint_classifier\\keypoint_classifier.hdf5\n",
            "50/50 [==============================] - 5s 36ms/step - loss: 2.8077 - accuracy: 0.1934 - val_loss: 2.0898 - val_accuracy: 0.4152\n",
            "Epoch 2/100\n",
            "49/50 [============================>.] - ETA: 0s - loss: 2.0656 - accuracy: 0.3543\n",
            "Epoch 2: saving model to model/keypoint_classifier\\keypoint_classifier.hdf5\n",
            "50/50 [==============================] - 1s 17ms/step - loss: 2.0649 - accuracy: 0.3542 - val_loss: 1.4355 - val_accuracy: 0.6062\n",
            "Epoch 3/100\n",
            "48/50 [===========================>..] - ETA: 0s - loss: 1.7488 - accuracy: 0.4484\n",
            "Epoch 3: saving model to model/keypoint_classifier\\keypoint_classifier.hdf5\n",
            "50/50 [==============================] - 1s 17ms/step - loss: 1.7492 - accuracy: 0.4462 - val_loss: 1.1201 - val_accuracy: 0.7502\n",
            "Epoch 4/100\n",
            "46/50 [==========================>...] - ETA: 0s - loss: 1.5529 - accuracy: 0.4932\n",
            "Epoch 4: saving model to model/keypoint_classifier\\keypoint_classifier.hdf5\n",
            "50/50 [==============================] - 1s 21ms/step - loss: 1.5449 - accuracy: 0.4972 - val_loss: 0.9318 - val_accuracy: 0.7664\n",
            "Epoch 5/100\n",
            "48/50 [===========================>..] - ETA: 0s - loss: 1.4260 - accuracy: 0.5312\n",
            "Epoch 5: saving model to model/keypoint_classifier\\keypoint_classifier.hdf5\n",
            "50/50 [==============================] - 1s 20ms/step - loss: 1.4223 - accuracy: 0.5309 - val_loss: 0.8199 - val_accuracy: 0.8024\n",
            "Epoch 6/100\n",
            "45/50 [==========================>...] - ETA: 0s - loss: 1.3192 - accuracy: 0.5641\n",
            "Epoch 6: saving model to model/keypoint_classifier\\keypoint_classifier.hdf5\n",
            "50/50 [==============================] - 1s 17ms/step - loss: 1.3127 - accuracy: 0.5658 - val_loss: 0.7123 - val_accuracy: 0.8270\n",
            "Epoch 7/100\n",
            "49/50 [============================>.] - ETA: 0s - loss: 1.2229 - accuracy: 0.5834\n",
            "Epoch 7: saving model to model/keypoint_classifier\\keypoint_classifier.hdf5\n",
            "50/50 [==============================] - 1s 21ms/step - loss: 1.2211 - accuracy: 0.5845 - val_loss: 0.6308 - val_accuracy: 0.8607\n",
            "Epoch 8/100\n",
            "48/50 [===========================>..] - ETA: 0s - loss: 1.1583 - accuracy: 0.6156\n",
            "Epoch 8: saving model to model/keypoint_classifier\\keypoint_classifier.hdf5\n",
            "50/50 [==============================] - 1s 21ms/step - loss: 1.1554 - accuracy: 0.6164 - val_loss: 0.5925 - val_accuracy: 0.8659\n",
            "Epoch 9/100\n",
            "47/50 [===========================>..] - ETA: 0s - loss: 1.0949 - accuracy: 0.6328\n",
            "Epoch 9: saving model to model/keypoint_classifier\\keypoint_classifier.hdf5\n",
            "50/50 [==============================] - 1s 20ms/step - loss: 1.0946 - accuracy: 0.6333 - val_loss: 0.5280 - val_accuracy: 0.8829\n",
            "Epoch 10/100\n",
            "48/50 [===========================>..] - ETA: 0s - loss: 1.0151 - accuracy: 0.6543\n",
            "Epoch 10: saving model to model/keypoint_classifier\\keypoint_classifier.hdf5\n",
            "50/50 [==============================] - 1s 15ms/step - loss: 1.0132 - accuracy: 0.6537 - val_loss: 0.4862 - val_accuracy: 0.9028\n",
            "Epoch 11/100\n",
            "47/50 [===========================>..] - ETA: 0s - loss: 0.9918 - accuracy: 0.6591\n",
            "Epoch 11: saving model to model/keypoint_classifier\\keypoint_classifier.hdf5\n",
            "50/50 [==============================] - 1s 16ms/step - loss: 0.9935 - accuracy: 0.6570 - val_loss: 0.4897 - val_accuracy: 0.9033\n",
            "Epoch 12/100\n",
            "48/50 [===========================>..] - ETA: 0s - loss: 0.9380 - accuracy: 0.6808\n",
            "Epoch 12: saving model to model/keypoint_classifier\\keypoint_classifier.hdf5\n",
            "50/50 [==============================] - 1s 21ms/step - loss: 0.9371 - accuracy: 0.6810 - val_loss: 0.4682 - val_accuracy: 0.8815\n",
            "Epoch 13/100\n",
            "45/50 [==========================>...] - ETA: 0s - loss: 0.8942 - accuracy: 0.6924\n",
            "Epoch 13: saving model to model/keypoint_classifier\\keypoint_classifier.hdf5\n",
            "50/50 [==============================] - 1s 18ms/step - loss: 0.8936 - accuracy: 0.6921 - val_loss: 0.4326 - val_accuracy: 0.9000\n",
            "Epoch 14/100\n",
            "48/50 [===========================>..] - ETA: 0s - loss: 0.8639 - accuracy: 0.7036\n",
            "Epoch 14: saving model to model/keypoint_classifier\\keypoint_classifier.hdf5\n",
            "50/50 [==============================] - 1s 16ms/step - loss: 0.8645 - accuracy: 0.7042 - val_loss: 0.4337 - val_accuracy: 0.8882\n",
            "Epoch 15/100\n",
            "50/50 [==============================] - ETA: 0s - loss: 0.8199 - accuracy: 0.7227\n",
            "Epoch 15: saving model to model/keypoint_classifier\\keypoint_classifier.hdf5\n",
            "50/50 [==============================] - 1s 19ms/step - loss: 0.8199 - accuracy: 0.7227 - val_loss: 0.3958 - val_accuracy: 0.9223\n",
            "Epoch 16/100\n",
            "47/50 [===========================>..] - ETA: 0s - loss: 0.7915 - accuracy: 0.7309\n",
            "Epoch 16: saving model to model/keypoint_classifier\\keypoint_classifier.hdf5\n",
            "50/50 [==============================] - 1s 21ms/step - loss: 0.7930 - accuracy: 0.7309 - val_loss: 0.4050 - val_accuracy: 0.9090\n",
            "Epoch 17/100\n",
            "46/50 [==========================>...] - ETA: 0s - loss: 0.7886 - accuracy: 0.7288\n",
            "Epoch 17: saving model to model/keypoint_classifier\\keypoint_classifier.hdf5\n",
            "50/50 [==============================] - 1s 17ms/step - loss: 0.7893 - accuracy: 0.7276 - val_loss: 0.3931 - val_accuracy: 0.9071\n",
            "Epoch 18/100\n",
            "47/50 [===========================>..] - ETA: 0s - loss: 0.7126 - accuracy: 0.7532\n",
            "Epoch 18: saving model to model/keypoint_classifier\\keypoint_classifier.hdf5\n",
            "50/50 [==============================] - 1s 16ms/step - loss: 0.7136 - accuracy: 0.7519 - val_loss: 0.3406 - val_accuracy: 0.9109\n",
            "Epoch 19/100\n",
            "50/50 [==============================] - ETA: 0s - loss: 0.6951 - accuracy: 0.7584\n",
            "Epoch 19: saving model to model/keypoint_classifier\\keypoint_classifier.hdf5\n",
            "50/50 [==============================] - 1s 16ms/step - loss: 0.6951 - accuracy: 0.7584 - val_loss: 0.3338 - val_accuracy: 0.9261\n",
            "Epoch 20/100\n",
            "47/50 [===========================>..] - ETA: 0s - loss: 0.6904 - accuracy: 0.7608\n",
            "Epoch 20: saving model to model/keypoint_classifier\\keypoint_classifier.hdf5\n",
            "50/50 [==============================] - 1s 21ms/step - loss: 0.6905 - accuracy: 0.7603 - val_loss: 0.3357 - val_accuracy: 0.9313\n",
            "Epoch 21/100\n",
            "50/50 [==============================] - ETA: 0s - loss: 0.6520 - accuracy: 0.7706\n",
            "Epoch 21: saving model to model/keypoint_classifier\\keypoint_classifier.hdf5\n",
            "50/50 [==============================] - 1s 22ms/step - loss: 0.6520 - accuracy: 0.7706 - val_loss: 0.3110 - val_accuracy: 0.9412\n",
            "Epoch 22/100\n",
            "48/50 [===========================>..] - ETA: 0s - loss: 0.6451 - accuracy: 0.7767\n",
            "Epoch 22: saving model to model/keypoint_classifier\\keypoint_classifier.hdf5\n",
            "50/50 [==============================] - 1s 17ms/step - loss: 0.6436 - accuracy: 0.7766 - val_loss: 0.3080 - val_accuracy: 0.9431\n",
            "Epoch 23/100\n",
            "47/50 [===========================>..] - ETA: 0s - loss: 0.6084 - accuracy: 0.7859\n",
            "Epoch 23: saving model to model/keypoint_classifier\\keypoint_classifier.hdf5\n",
            "50/50 [==============================] - 1s 17ms/step - loss: 0.6087 - accuracy: 0.7870 - val_loss: 0.3005 - val_accuracy: 0.9318\n",
            "Epoch 24/100\n",
            "46/50 [==========================>...] - ETA: 0s - loss: 0.6010 - accuracy: 0.7906\n",
            "Epoch 24: saving model to model/keypoint_classifier\\keypoint_classifier.hdf5\n",
            "50/50 [==============================] - 1s 15ms/step - loss: 0.6003 - accuracy: 0.7914 - val_loss: 0.3119 - val_accuracy: 0.9308\n",
            "Epoch 25/100\n",
            "49/50 [============================>.] - ETA: 0s - loss: 0.5674 - accuracy: 0.8007\n",
            "Epoch 25: saving model to model/keypoint_classifier\\keypoint_classifier.hdf5\n",
            "50/50 [==============================] - 1s 16ms/step - loss: 0.5680 - accuracy: 0.8009 - val_loss: 0.2677 - val_accuracy: 0.9536\n",
            "Epoch 26/100\n",
            "48/50 [===========================>..] - ETA: 0s - loss: 0.5880 - accuracy: 0.7933\n",
            "Epoch 26: saving model to model/keypoint_classifier\\keypoint_classifier.hdf5\n",
            "50/50 [==============================] - 1s 13ms/step - loss: 0.5855 - accuracy: 0.7938 - val_loss: 0.3012 - val_accuracy: 0.9299\n",
            "Epoch 27/100\n",
            "45/50 [==========================>...] - ETA: 0s - loss: 0.5617 - accuracy: 0.8003\n",
            "Epoch 27: saving model to model/keypoint_classifier\\keypoint_classifier.hdf5\n",
            "50/50 [==============================] - 1s 16ms/step - loss: 0.5624 - accuracy: 0.8009 - val_loss: 0.2624 - val_accuracy: 0.9531\n",
            "Epoch 28/100\n",
            "50/50 [==============================] - ETA: 0s - loss: 0.5251 - accuracy: 0.8213\n",
            "Epoch 28: saving model to model/keypoint_classifier\\keypoint_classifier.hdf5\n",
            "50/50 [==============================] - 1s 22ms/step - loss: 0.5251 - accuracy: 0.8213 - val_loss: 0.2532 - val_accuracy: 0.9564\n",
            "Epoch 29/100\n",
            "48/50 [===========================>..] - ETA: 0s - loss: 0.5195 - accuracy: 0.8166\n",
            "Epoch 29: saving model to model/keypoint_classifier\\keypoint_classifier.hdf5\n",
            "50/50 [==============================] - 1s 23ms/step - loss: 0.5175 - accuracy: 0.8183 - val_loss: 0.2495 - val_accuracy: 0.9379\n",
            "Epoch 30/100\n",
            "47/50 [===========================>..] - ETA: 0s - loss: 0.5158 - accuracy: 0.8213\n",
            "Epoch 30: saving model to model/keypoint_classifier\\keypoint_classifier.hdf5\n",
            "50/50 [==============================] - 1s 16ms/step - loss: 0.5146 - accuracy: 0.8215 - val_loss: 0.2463 - val_accuracy: 0.9370\n",
            "Epoch 31/100\n",
            "47/50 [===========================>..] - ETA: 0s - loss: 0.4990 - accuracy: 0.8231\n",
            "Epoch 31: saving model to model/keypoint_classifier\\keypoint_classifier.hdf5\n",
            "50/50 [==============================] - 1s 14ms/step - loss: 0.4970 - accuracy: 0.8232 - val_loss: 0.2338 - val_accuracy: 0.9393\n",
            "Epoch 32/100\n",
            "46/50 [==========================>...] - ETA: 0s - loss: 0.4934 - accuracy: 0.8259\n",
            "Epoch 32: saving model to model/keypoint_classifier\\keypoint_classifier.hdf5\n",
            "50/50 [==============================] - 1s 15ms/step - loss: 0.4919 - accuracy: 0.8265 - val_loss: 0.2416 - val_accuracy: 0.9360\n",
            "Epoch 33/100\n",
            "49/50 [============================>.] - ETA: 0s - loss: 0.4841 - accuracy: 0.8272\n",
            "Epoch 33: saving model to model/keypoint_classifier\\keypoint_classifier.hdf5\n",
            "50/50 [==============================] - 1s 17ms/step - loss: 0.4841 - accuracy: 0.8273 - val_loss: 0.2231 - val_accuracy: 0.9422\n",
            "Epoch 34/100\n",
            "49/50 [============================>.] - ETA: 0s - loss: 0.4820 - accuracy: 0.8323\n",
            "Epoch 34: saving model to model/keypoint_classifier\\keypoint_classifier.hdf5\n",
            "50/50 [==============================] - 1s 15ms/step - loss: 0.4807 - accuracy: 0.8324 - val_loss: 0.2116 - val_accuracy: 0.9578\n",
            "Epoch 35/100\n",
            "45/50 [==========================>...] - ETA: 0s - loss: 0.4587 - accuracy: 0.8399\n",
            "Epoch 35: saving model to model/keypoint_classifier\\keypoint_classifier.hdf5\n",
            "50/50 [==============================] - 1s 20ms/step - loss: 0.4595 - accuracy: 0.8403 - val_loss: 0.2179 - val_accuracy: 0.9526\n",
            "Epoch 36/100\n",
            "48/50 [===========================>..] - ETA: 0s - loss: 0.4476 - accuracy: 0.8431\n",
            "Epoch 36: saving model to model/keypoint_classifier\\keypoint_classifier.hdf5\n",
            "50/50 [==============================] - 1s 15ms/step - loss: 0.4508 - accuracy: 0.8417 - val_loss: 0.2219 - val_accuracy: 0.9588\n",
            "Epoch 37/100\n",
            "45/50 [==========================>...] - ETA: 0s - loss: 0.4549 - accuracy: 0.8417\n",
            "Epoch 37: saving model to model/keypoint_classifier\\keypoint_classifier.hdf5\n",
            "50/50 [==============================] - 1s 12ms/step - loss: 0.4538 - accuracy: 0.8410 - val_loss: 0.2056 - val_accuracy: 0.9635\n",
            "Epoch 38/100\n",
            "47/50 [===========================>..] - ETA: 0s - loss: 0.4461 - accuracy: 0.8431\n",
            "Epoch 38: saving model to model/keypoint_classifier\\keypoint_classifier.hdf5\n",
            "50/50 [==============================] - 1s 14ms/step - loss: 0.4439 - accuracy: 0.8434 - val_loss: 0.2065 - val_accuracy: 0.9393\n",
            "Epoch 39/100\n",
            "48/50 [===========================>..] - ETA: 0s - loss: 0.4541 - accuracy: 0.8416\n",
            "Epoch 39: saving model to model/keypoint_classifier\\keypoint_classifier.hdf5\n",
            "50/50 [==============================] - 1s 11ms/step - loss: 0.4578 - accuracy: 0.8406 - val_loss: 0.2222 - val_accuracy: 0.9536\n",
            "Epoch 40/100\n",
            "49/50 [============================>.] - ETA: 0s - loss: 0.4175 - accuracy: 0.8551\n",
            "Epoch 40: saving model to model/keypoint_classifier\\keypoint_classifier.hdf5\n",
            "50/50 [==============================] - 1s 12ms/step - loss: 0.4159 - accuracy: 0.8559 - val_loss: 0.1942 - val_accuracy: 0.9735\n",
            "Epoch 41/100\n",
            "44/50 [=========================>....] - ETA: 0s - loss: 0.4171 - accuracy: 0.8533\n",
            "Epoch 41: saving model to model/keypoint_classifier\\keypoint_classifier.hdf5\n",
            "50/50 [==============================] - 1s 12ms/step - loss: 0.4270 - accuracy: 0.8485 - val_loss: 0.2053 - val_accuracy: 0.9531\n",
            "Epoch 42/100\n",
            "50/50 [==============================] - ETA: 0s - loss: 0.4252 - accuracy: 0.8516\n",
            "Epoch 42: saving model to model/keypoint_classifier\\keypoint_classifier.hdf5\n",
            "50/50 [==============================] - 1s 12ms/step - loss: 0.4252 - accuracy: 0.8516 - val_loss: 0.2307 - val_accuracy: 0.9275\n",
            "Epoch 43/100\n",
            "50/50 [==============================] - ETA: 0s - loss: 0.4029 - accuracy: 0.8538\n",
            "Epoch 43: saving model to model/keypoint_classifier\\keypoint_classifier.hdf5\n",
            "50/50 [==============================] - 1s 15ms/step - loss: 0.4029 - accuracy: 0.8538 - val_loss: 0.2141 - val_accuracy: 0.9427\n",
            "Epoch 44/100\n",
            "45/50 [==========================>...] - ETA: 0s - loss: 0.3961 - accuracy: 0.8627\n",
            "Epoch 44: saving model to model/keypoint_classifier\\keypoint_classifier.hdf5\n",
            "50/50 [==============================] - 1s 13ms/step - loss: 0.3988 - accuracy: 0.8617 - val_loss: 0.1893 - val_accuracy: 0.9445\n",
            "Epoch 45/100\n",
            "44/50 [=========================>....] - ETA: 0s - loss: 0.3764 - accuracy: 0.8629\n",
            "Epoch 45: saving model to model/keypoint_classifier\\keypoint_classifier.hdf5\n",
            "50/50 [==============================] - 1s 12ms/step - loss: 0.3805 - accuracy: 0.8624 - val_loss: 0.2040 - val_accuracy: 0.9550\n",
            "Epoch 46/100\n",
            "46/50 [==========================>...] - ETA: 0s - loss: 0.3818 - accuracy: 0.8590\n",
            "Epoch 46: saving model to model/keypoint_classifier\\keypoint_classifier.hdf5\n",
            "50/50 [==============================] - 1s 12ms/step - loss: 0.3829 - accuracy: 0.8586 - val_loss: 0.2169 - val_accuracy: 0.9289\n",
            "Epoch 47/100\n",
            "49/50 [============================>.] - ETA: 0s - loss: 0.3844 - accuracy: 0.8632\n",
            "Epoch 47: saving model to model/keypoint_classifier\\keypoint_classifier.hdf5\n",
            "50/50 [==============================] - 1s 12ms/step - loss: 0.3836 - accuracy: 0.8632 - val_loss: 0.1890 - val_accuracy: 0.9531\n",
            "Epoch 48/100\n",
            "48/50 [===========================>..] - ETA: 0s - loss: 0.3804 - accuracy: 0.8660\n",
            "Epoch 48: saving model to model/keypoint_classifier\\keypoint_classifier.hdf5\n",
            "50/50 [==============================] - 1s 14ms/step - loss: 0.3823 - accuracy: 0.8651 - val_loss: 0.1792 - val_accuracy: 0.9502\n",
            "Epoch 49/100\n",
            "49/50 [============================>.] - ETA: 0s - loss: 0.3708 - accuracy: 0.8659\n",
            "Epoch 49: saving model to model/keypoint_classifier\\keypoint_classifier.hdf5\n",
            "50/50 [==============================] - 1s 13ms/step - loss: 0.3705 - accuracy: 0.8662 - val_loss: 0.1829 - val_accuracy: 0.9536\n",
            "Epoch 50/100\n",
            "49/50 [============================>.] - ETA: 0s - loss: 0.3658 - accuracy: 0.8704\n",
            "Epoch 50: saving model to model/keypoint_classifier\\keypoint_classifier.hdf5\n",
            "50/50 [==============================] - 1s 13ms/step - loss: 0.3657 - accuracy: 0.8704 - val_loss: 0.1751 - val_accuracy: 0.9536\n",
            "Epoch 51/100\n",
            "50/50 [==============================] - ETA: 0s - loss: 0.3648 - accuracy: 0.8646\n",
            "Epoch 51: saving model to model/keypoint_classifier\\keypoint_classifier.hdf5\n",
            "50/50 [==============================] - 1s 16ms/step - loss: 0.3648 - accuracy: 0.8646 - val_loss: 0.1951 - val_accuracy: 0.9597\n",
            "Epoch 52/100\n",
            "49/50 [============================>.] - ETA: 0s - loss: 0.3617 - accuracy: 0.8739\n",
            "Epoch 52: saving model to model/keypoint_classifier\\keypoint_classifier.hdf5\n",
            "50/50 [==============================] - 1s 15ms/step - loss: 0.3619 - accuracy: 0.8741 - val_loss: 0.1927 - val_accuracy: 0.9270\n",
            "Epoch 53/100\n",
            "46/50 [==========================>...] - ETA: 0s - loss: 0.3543 - accuracy: 0.8748\n",
            "Epoch 53: saving model to model/keypoint_classifier\\keypoint_classifier.hdf5\n",
            "50/50 [==============================] - 1s 16ms/step - loss: 0.3528 - accuracy: 0.8755 - val_loss: 0.1851 - val_accuracy: 0.9578\n",
            "Epoch 54/100\n",
            "47/50 [===========================>..] - ETA: 0s - loss: 0.3467 - accuracy: 0.8765\n",
            "Epoch 54: saving model to model/keypoint_classifier\\keypoint_classifier.hdf5\n",
            "50/50 [==============================] - 1s 11ms/step - loss: 0.3491 - accuracy: 0.8750 - val_loss: 0.1860 - val_accuracy: 0.9322\n",
            "Epoch 55/100\n",
            "48/50 [===========================>..] - ETA: 0s - loss: 0.3492 - accuracy: 0.8770\n",
            "Epoch 55: saving model to model/keypoint_classifier\\keypoint_classifier.hdf5\n",
            "50/50 [==============================] - 1s 11ms/step - loss: 0.3489 - accuracy: 0.8766 - val_loss: 0.2027 - val_accuracy: 0.9408\n",
            "Epoch 56/100\n",
            "49/50 [============================>.] - ETA: 0s - loss: 0.3462 - accuracy: 0.8791\n",
            "Epoch 56: saving model to model/keypoint_classifier\\keypoint_classifier.hdf5\n",
            "50/50 [==============================] - 1s 12ms/step - loss: 0.3457 - accuracy: 0.8791 - val_loss: 0.1895 - val_accuracy: 0.9536\n",
            "Epoch 57/100\n",
            "50/50 [==============================] - ETA: 0s - loss: 0.3319 - accuracy: 0.8775\n",
            "Epoch 57: saving model to model/keypoint_classifier\\keypoint_classifier.hdf5\n",
            "50/50 [==============================] - 1s 13ms/step - loss: 0.3319 - accuracy: 0.8775 - val_loss: 0.1823 - val_accuracy: 0.9289\n",
            "Epoch 58/100\n",
            "49/50 [============================>.] - ETA: 0s - loss: 0.3415 - accuracy: 0.8782\n",
            "Epoch 58: saving model to model/keypoint_classifier\\keypoint_classifier.hdf5\n",
            "50/50 [==============================] - 1s 16ms/step - loss: 0.3410 - accuracy: 0.8783 - val_loss: 0.1971 - val_accuracy: 0.9303\n",
            "Epoch 59/100\n",
            "46/50 [==========================>...] - ETA: 0s - loss: 0.3258 - accuracy: 0.8843\n",
            "Epoch 59: saving model to model/keypoint_classifier\\keypoint_classifier.hdf5\n",
            "50/50 [==============================] - 1s 15ms/step - loss: 0.3249 - accuracy: 0.8843 - val_loss: 0.1662 - val_accuracy: 0.9645\n",
            "Epoch 60/100\n",
            "50/50 [==============================] - ETA: 0s - loss: 0.3302 - accuracy: 0.8842\n",
            "Epoch 60: saving model to model/keypoint_classifier\\keypoint_classifier.hdf5\n",
            "50/50 [==============================] - 1s 11ms/step - loss: 0.3302 - accuracy: 0.8842 - val_loss: 0.1995 - val_accuracy: 0.9280\n",
            "Epoch 61/100\n",
            "47/50 [===========================>..] - ETA: 0s - loss: 0.3103 - accuracy: 0.8905\n",
            "Epoch 61: saving model to model/keypoint_classifier\\keypoint_classifier.hdf5\n",
            "50/50 [==============================] - 1s 11ms/step - loss: 0.3087 - accuracy: 0.8911 - val_loss: 0.1749 - val_accuracy: 0.9578\n",
            "Epoch 62/100\n",
            "46/50 [==========================>...] - ETA: 0s - loss: 0.3182 - accuracy: 0.8874\n",
            "Epoch 62: saving model to model/keypoint_classifier\\keypoint_classifier.hdf5\n",
            "50/50 [==============================] - 1s 11ms/step - loss: 0.3163 - accuracy: 0.8872 - val_loss: 0.1963 - val_accuracy: 0.9346\n",
            "Epoch 63/100\n",
            "46/50 [==========================>...] - ETA: 0s - loss: 0.3178 - accuracy: 0.8837\n",
            "Epoch 63: saving model to model/keypoint_classifier\\keypoint_classifier.hdf5\n",
            "50/50 [==============================] - 0s 10ms/step - loss: 0.3165 - accuracy: 0.8842 - val_loss: 0.1673 - val_accuracy: 0.9512\n",
            "Epoch 64/100\n",
            "46/50 [==========================>...] - ETA: 0s - loss: 0.3052 - accuracy: 0.8952\n",
            "Epoch 64: saving model to model/keypoint_classifier\\keypoint_classifier.hdf5\n",
            "50/50 [==============================] - 1s 11ms/step - loss: 0.3041 - accuracy: 0.8962 - val_loss: 0.1785 - val_accuracy: 0.9583\n",
            "Epoch 65/100\n",
            "49/50 [============================>.] - ETA: 0s - loss: 0.3074 - accuracy: 0.8874\n",
            "Epoch 65: saving model to model/keypoint_classifier\\keypoint_classifier.hdf5\n",
            "50/50 [==============================] - 1s 12ms/step - loss: 0.3068 - accuracy: 0.8878 - val_loss: 0.1869 - val_accuracy: 0.9327\n",
            "Epoch 66/100\n",
            "50/50 [==============================] - ETA: 0s - loss: 0.3069 - accuracy: 0.8856\n",
            "Epoch 66: saving model to model/keypoint_classifier\\keypoint_classifier.hdf5\n",
            "50/50 [==============================] - 1s 11ms/step - loss: 0.3069 - accuracy: 0.8856 - val_loss: 0.1662 - val_accuracy: 0.9417\n",
            "Epoch 67/100\n",
            "47/50 [===========================>..] - ETA: 0s - loss: 0.2844 - accuracy: 0.9014\n",
            "Epoch 67: saving model to model/keypoint_classifier\\keypoint_classifier.hdf5\n",
            "50/50 [==============================] - 0s 10ms/step - loss: 0.2871 - accuracy: 0.9003 - val_loss: 0.1550 - val_accuracy: 0.9621\n",
            "Epoch 68/100\n",
            "43/50 [========================>.....] - ETA: 0s - loss: 0.2981 - accuracy: 0.8946\n",
            "Epoch 68: saving model to model/keypoint_classifier\\keypoint_classifier.hdf5\n",
            "50/50 [==============================] - 1s 10ms/step - loss: 0.3005 - accuracy: 0.8956 - val_loss: 0.1549 - val_accuracy: 0.9621\n",
            "Epoch 69/100\n",
            "50/50 [==============================] - ETA: 0s - loss: 0.2916 - accuracy: 0.8951\n",
            "Epoch 69: saving model to model/keypoint_classifier\\keypoint_classifier.hdf5\n",
            "50/50 [==============================] - 1s 10ms/step - loss: 0.2916 - accuracy: 0.8951 - val_loss: 0.1657 - val_accuracy: 0.9536\n",
            "Epoch 70/100\n",
            "49/50 [============================>.] - ETA: 0s - loss: 0.2832 - accuracy: 0.9007\n",
            "Epoch 70: saving model to model/keypoint_classifier\\keypoint_classifier.hdf5\n",
            "50/50 [==============================] - 1s 10ms/step - loss: 0.2838 - accuracy: 0.9001 - val_loss: 0.2014 - val_accuracy: 0.9213\n",
            "Epoch 71/100\n",
            "47/50 [===========================>..] - ETA: 0s - loss: 0.2855 - accuracy: 0.9011\n",
            "Epoch 71: saving model to model/keypoint_classifier\\keypoint_classifier.hdf5\n",
            "50/50 [==============================] - 1s 14ms/step - loss: 0.2880 - accuracy: 0.9003 - val_loss: 0.1671 - val_accuracy: 0.9621\n",
            "Epoch 72/100\n",
            "43/50 [========================>.....] - ETA: 0s - loss: 0.2955 - accuracy: 0.8955\n",
            "Epoch 72: saving model to model/keypoint_classifier\\keypoint_classifier.hdf5\n",
            "50/50 [==============================] - 1s 12ms/step - loss: 0.2942 - accuracy: 0.8943 - val_loss: 0.1893 - val_accuracy: 0.9346\n",
            "Epoch 73/100\n",
            "50/50 [==============================] - ETA: 0s - loss: 0.2902 - accuracy: 0.8952\n",
            "Epoch 73: saving model to model/keypoint_classifier\\keypoint_classifier.hdf5\n",
            "50/50 [==============================] - 1s 17ms/step - loss: 0.2902 - accuracy: 0.8952 - val_loss: 0.1698 - val_accuracy: 0.9412\n",
            "Epoch 74/100\n",
            "48/50 [===========================>..] - ETA: 0s - loss: 0.2684 - accuracy: 0.9053\n",
            "Epoch 74: saving model to model/keypoint_classifier\\keypoint_classifier.hdf5\n",
            "50/50 [==============================] - 1s 11ms/step - loss: 0.2695 - accuracy: 0.9041 - val_loss: 0.1623 - val_accuracy: 0.9445\n",
            "Epoch 75/100\n",
            "48/50 [===========================>..] - ETA: 0s - loss: 0.2910 - accuracy: 0.8962\n",
            "Epoch 75: saving model to model/keypoint_classifier\\keypoint_classifier.hdf5\n",
            "50/50 [==============================] - 1s 11ms/step - loss: 0.2920 - accuracy: 0.8957 - val_loss: 0.1725 - val_accuracy: 0.9408\n",
            "Epoch 76/100\n",
            "49/50 [============================>.] - ETA: 0s - loss: 0.2798 - accuracy: 0.8997\n",
            "Epoch 76: saving model to model/keypoint_classifier\\keypoint_classifier.hdf5\n",
            "50/50 [==============================] - 1s 16ms/step - loss: 0.2788 - accuracy: 0.9000 - val_loss: 0.1780 - val_accuracy: 0.9275\n",
            "Epoch 77/100\n",
            "47/50 [===========================>..] - ETA: 0s - loss: 0.2707 - accuracy: 0.9048\n",
            "Epoch 77: saving model to model/keypoint_classifier\\keypoint_classifier.hdf5\n",
            "50/50 [==============================] - 1s 13ms/step - loss: 0.2691 - accuracy: 0.9050 - val_loss: 0.1786 - val_accuracy: 0.9341\n",
            "Epoch 78/100\n",
            "43/50 [========================>.....] - ETA: 0s - loss: 0.2640 - accuracy: 0.9032\n",
            "Epoch 78: saving model to model/keypoint_classifier\\keypoint_classifier.hdf5\n",
            "50/50 [==============================] - 1s 12ms/step - loss: 0.2602 - accuracy: 0.9036 - val_loss: 0.1702 - val_accuracy: 0.9237\n",
            "Epoch 79/100\n",
            "46/50 [==========================>...] - ETA: 0s - loss: 0.2633 - accuracy: 0.9015\n",
            "Epoch 79: saving model to model/keypoint_classifier\\keypoint_classifier.hdf5\n",
            "50/50 [==============================] - 1s 11ms/step - loss: 0.2627 - accuracy: 0.9011 - val_loss: 0.1586 - val_accuracy: 0.9474\n",
            "Epoch 80/100\n",
            "43/50 [========================>.....] - ETA: 0s - loss: 0.2556 - accuracy: 0.9053\n",
            "Epoch 80: saving model to model/keypoint_classifier\\keypoint_classifier.hdf5\n",
            "50/50 [==============================] - 0s 10ms/step - loss: 0.2591 - accuracy: 0.9055 - val_loss: 0.1916 - val_accuracy: 0.9370\n",
            "Epoch 81/100\n",
            "49/50 [============================>.] - ETA: 0s - loss: 0.2661 - accuracy: 0.9031\n",
            "Epoch 81: saving model to model/keypoint_classifier\\keypoint_classifier.hdf5\n",
            "50/50 [==============================] - 1s 14ms/step - loss: 0.2663 - accuracy: 0.9027 - val_loss: 0.1696 - val_accuracy: 0.9384\n",
            "Epoch 82/100\n",
            "49/50 [============================>.] - ETA: 0s - loss: 0.2591 - accuracy: 0.9099\n",
            "Epoch 82: saving model to model/keypoint_classifier\\keypoint_classifier.hdf5\n",
            "50/50 [==============================] - 1s 12ms/step - loss: 0.2588 - accuracy: 0.9099 - val_loss: 0.1581 - val_accuracy: 0.9545\n",
            "Epoch 83/100\n",
            "43/50 [========================>.....] - ETA: 0s - loss: 0.2716 - accuracy: 0.9035\n",
            "Epoch 83: saving model to model/keypoint_classifier\\keypoint_classifier.hdf5\n",
            "50/50 [==============================] - 1s 12ms/step - loss: 0.2694 - accuracy: 0.9065 - val_loss: 0.1712 - val_accuracy: 0.9564\n",
            "Epoch 84/100\n",
            "48/50 [===========================>..] - ETA: 0s - loss: 0.2618 - accuracy: 0.9077\n",
            "Epoch 84: saving model to model/keypoint_classifier\\keypoint_classifier.hdf5\n",
            "50/50 [==============================] - 1s 18ms/step - loss: 0.2595 - accuracy: 0.9090 - val_loss: 0.1696 - val_accuracy: 0.9308\n",
            "Epoch 85/100\n",
            "50/50 [==============================] - ETA: 0s - loss: 0.2556 - accuracy: 0.9077\n",
            "Epoch 85: saving model to model/keypoint_classifier\\keypoint_classifier.hdf5\n",
            "50/50 [==============================] - 1s 12ms/step - loss: 0.2556 - accuracy: 0.9077 - val_loss: 0.1943 - val_accuracy: 0.9171\n",
            "Epoch 86/100\n",
            "46/50 [==========================>...] - ETA: 0s - loss: 0.2752 - accuracy: 0.9006\n",
            "Epoch 86: saving model to model/keypoint_classifier\\keypoint_classifier.hdf5\n",
            "50/50 [==============================] - 0s 10ms/step - loss: 0.2748 - accuracy: 0.9008 - val_loss: 0.2076 - val_accuracy: 0.9351\n",
            "Epoch 87/100\n",
            "44/50 [=========================>....] - ETA: 0s - loss: 0.2522 - accuracy: 0.9116\n",
            "Epoch 87: saving model to model/keypoint_classifier\\keypoint_classifier.hdf5\n",
            "50/50 [==============================] - 1s 13ms/step - loss: 0.2491 - accuracy: 0.9136 - val_loss: 0.1385 - val_accuracy: 0.9588\n",
            "Epoch 88/100\n",
            "45/50 [==========================>...] - ETA: 0s - loss: 0.2551 - accuracy: 0.9057\n",
            "Epoch 88: saving model to model/keypoint_classifier\\keypoint_classifier.hdf5\n",
            "50/50 [==============================] - 1s 12ms/step - loss: 0.2531 - accuracy: 0.9069 - val_loss: 0.1876 - val_accuracy: 0.9393\n",
            "Epoch 89/100\n",
            "50/50 [==============================] - ETA: 0s - loss: 0.2521 - accuracy: 0.9076\n",
            "Epoch 89: saving model to model/keypoint_classifier\\keypoint_classifier.hdf5\n",
            "50/50 [==============================] - 1s 11ms/step - loss: 0.2521 - accuracy: 0.9076 - val_loss: 0.1575 - val_accuracy: 0.9403\n",
            "Epoch 90/100\n",
            "47/50 [===========================>..] - ETA: 0s - loss: 0.2453 - accuracy: 0.9164\n",
            "Epoch 90: saving model to model/keypoint_classifier\\keypoint_classifier.hdf5\n",
            "50/50 [==============================] - 1s 19ms/step - loss: 0.2452 - accuracy: 0.9166 - val_loss: 0.1644 - val_accuracy: 0.9441\n",
            "Epoch 91/100\n",
            "47/50 [===========================>..] - ETA: 0s - loss: 0.2326 - accuracy: 0.9207\n",
            "Epoch 91: saving model to model/keypoint_classifier\\keypoint_classifier.hdf5\n",
            "50/50 [==============================] - 1s 11ms/step - loss: 0.2314 - accuracy: 0.9207 - val_loss: 0.1587 - val_accuracy: 0.9351\n",
            "Epoch 92/100\n",
            "49/50 [============================>.] - ETA: 0s - loss: 0.2332 - accuracy: 0.9182\n",
            "Epoch 92: saving model to model/keypoint_classifier\\keypoint_classifier.hdf5\n",
            "50/50 [==============================] - 1s 12ms/step - loss: 0.2342 - accuracy: 0.9178 - val_loss: 0.1591 - val_accuracy: 0.9431\n",
            "Epoch 93/100\n",
            "45/50 [==========================>...] - ETA: 0s - loss: 0.2455 - accuracy: 0.9108\n",
            "Epoch 93: saving model to model/keypoint_classifier\\keypoint_classifier.hdf5\n",
            "50/50 [==============================] - 1s 11ms/step - loss: 0.2459 - accuracy: 0.9095 - val_loss: 0.1485 - val_accuracy: 0.9498\n",
            "Epoch 94/100\n",
            "47/50 [===========================>..] - ETA: 0s - loss: 0.2460 - accuracy: 0.9126\n",
            "Epoch 94: saving model to model/keypoint_classifier\\keypoint_classifier.hdf5\n",
            "50/50 [==============================] - 1s 13ms/step - loss: 0.2476 - accuracy: 0.9122 - val_loss: 0.1734 - val_accuracy: 0.9403\n",
            "Epoch 95/100\n",
            "48/50 [===========================>..] - ETA: 0s - loss: 0.2389 - accuracy: 0.9152\n",
            "Epoch 95: saving model to model/keypoint_classifier\\keypoint_classifier.hdf5\n",
            "50/50 [==============================] - 1s 10ms/step - loss: 0.2372 - accuracy: 0.9156 - val_loss: 0.1686 - val_accuracy: 0.9336\n",
            "Epoch 96/100\n",
            "45/50 [==========================>...] - ETA: 0s - loss: 0.2346 - accuracy: 0.9141\n",
            "Epoch 96: saving model to model/keypoint_classifier\\keypoint_classifier.hdf5\n",
            "50/50 [==============================] - 1s 12ms/step - loss: 0.2350 - accuracy: 0.9148 - val_loss: 0.2133 - val_accuracy: 0.9118\n",
            "Epoch 97/100\n",
            "50/50 [==============================] - ETA: 0s - loss: 0.2402 - accuracy: 0.9118\n",
            "Epoch 97: saving model to model/keypoint_classifier\\keypoint_classifier.hdf5\n",
            "50/50 [==============================] - 1s 11ms/step - loss: 0.2402 - accuracy: 0.9118 - val_loss: 0.1677 - val_accuracy: 0.9436\n",
            "Epoch 98/100\n",
            "43/50 [========================>.....] - ETA: 0s - loss: 0.2511 - accuracy: 0.9092\n",
            "Epoch 98: saving model to model/keypoint_classifier\\keypoint_classifier.hdf5\n",
            "50/50 [==============================] - 1s 11ms/step - loss: 0.2546 - accuracy: 0.9077 - val_loss: 0.1466 - val_accuracy: 0.9479\n",
            "Epoch 99/100\n",
            "48/50 [===========================>..] - ETA: 0s - loss: 0.2359 - accuracy: 0.9189\n",
            "Epoch 99: saving model to model/keypoint_classifier\\keypoint_classifier.hdf5\n",
            "50/50 [==============================] - 1s 10ms/step - loss: 0.2364 - accuracy: 0.9186 - val_loss: 0.1681 - val_accuracy: 0.9389\n",
            "Epoch 100/100\n",
            "49/50 [============================>.] - ETA: 0s - loss: 0.2245 - accuracy: 0.9161\n",
            "Epoch 100: saving model to model/keypoint_classifier\\keypoint_classifier.hdf5\n",
            "50/50 [==============================] - 0s 10ms/step - loss: 0.2243 - accuracy: 0.9163 - val_loss: 0.1757 - val_accuracy: 0.9374\n"
          ]
        },
        {
          "data": {
            "text/plain": [
              "<keras.callbacks.History at 0x2b4ddaf7970>"
            ]
          },
          "execution_count": 13,
          "metadata": {},
          "output_type": "execute_result"
        }
      ],
      "source": [
        "model.fit(\n",
        "    X_train,\n",
        "    y_train,\n",
        "    epochs=100,\n",
        "    batch_size=128,\n",
        "    validation_data=(X_test, y_test),\n",
        "    callbacks=[cp_callback]\n",
        ")"
      ]
    },
    {
      "cell_type": "code",
      "execution_count": 14,
      "metadata": {
        "colab": {
          "base_uri": "https://localhost:8080/"
        },
        "id": "pxvb2Y299hE3",
        "outputId": "59eb3185-2e37-4b9e-bc9d-ab1b8ac29b7f"
      },
      "outputs": [
        {
          "name": "stdout",
          "output_type": "stream",
          "text": [
            "17/17 [==============================] - 0s 7ms/step - loss: 0.1757 - accuracy: 0.9374\n"
          ]
        }
      ],
      "source": [
        "# Model evaluation\n",
        "val_loss, val_acc = model.evaluate(X_test, y_test, batch_size=128)"
      ]
    },
    {
      "cell_type": "code",
      "execution_count": 15,
      "metadata": {
        "id": "RBkmDeUW9hE4"
      },
      "outputs": [],
      "source": [
        "# Loading the saved model\n",
        "model = tf.keras.models.load_model(model_save_path)"
      ]
    },
    {
      "cell_type": "code",
      "execution_count": 16,
      "metadata": {
        "colab": {
          "base_uri": "https://localhost:8080/"
        },
        "id": "tFz9Tb0I9hE4",
        "outputId": "1c3b3528-54ae-4ee2-ab04-77429211cbef"
      },
      "outputs": [
        {
          "name": "stdout",
          "output_type": "stream",
          "text": [
            "1/1 [==============================] - 1s 612ms/step\n",
            "[7.5115272e-06 5.1000425e-06 4.4092762e-06 1.7822421e-01 3.3663395e-07\n",
            " 9.6308248e-12 1.7525072e-03 2.8349221e-04 1.4570419e-07 2.0968794e-06\n",
            " 2.9392808e-05 6.7615551e-03 6.4273277e-06 1.1093253e-05 5.1819917e-08\n",
            " 2.3186256e-05 2.9351770e-05 9.0162398e-04 2.1677817e-05 2.0402011e-02\n",
            " 4.2862399e-04 2.4096492e-04 1.6450302e-05 6.4796197e-01 1.0258681e-09\n",
            " 1.4288571e-01]\n",
            "23\n"
          ]
        }
      ],
      "source": [
        "# Inference test\n",
        "predict_result = model.predict(np.array([X_test[0]]))\n",
        "print(np.squeeze(predict_result))\n",
        "print(np.argmax(np.squeeze(predict_result)))"
      ]
    },
    {
      "cell_type": "markdown",
      "metadata": {
        "id": "S3U4yNWx9hE4"
      },
      "source": [
        "# Confusion matrix"
      ]
    },
    {
      "cell_type": "code",
      "execution_count": 18,
      "metadata": {
        "colab": {
          "base_uri": "https://localhost:8080/",
          "height": 582
        },
        "id": "AP1V6SCk9hE5",
        "outputId": "08e41a80-7a4a-4619-8125-ecc371368d19"
      },
      "outputs": [
        {
          "name": "stdout",
          "output_type": "stream",
          "text": [
            "66/66 [==============================] - 1s 5ms/step\n"
          ]
        },
        {
          "data": {
            "image/png": "[encoded data removed]",
            "text/plain": [
              "<Figure size 700x600 with 2 Axes>"
            ]
          },
          "metadata": {},
          "output_type": "display_data"
        },
        {
          "name": "stdout",
          "output_type": "stream",
          "text": [
            "Classification Report\n",
            "              precision    recall  f1-score   support\n",
            "\n",
            "           0       1.00      1.00      1.00        83\n",
            "           1       1.00      1.00      1.00        96\n",
            "           2       1.00      0.99      0.99        67\n",
            "           3       0.99      0.99      0.99        88\n",
            "           4       1.00      0.81      0.90        91\n",
            "           5       1.00      1.00      1.00       117\n",
            "           6       1.00      1.00      1.00        70\n",
            "           7       1.00      1.00      1.00        70\n",
            "           8       0.89      1.00      0.94       103\n",
            "           9       1.00      1.00      1.00        63\n",
            "          10       0.99      0.99      0.99        81\n",
            "          11       0.95      1.00      0.97       107\n",
            "          12       1.00      1.00      1.00        80\n",
            "          13       1.00      0.98      0.99        66\n",
            "          14       1.00      1.00      1.00        52\n",
            "          15       1.00      1.00      1.00        67\n",
            "          16       1.00      0.99      0.99        80\n",
            "          17       0.95      0.80      0.87        66\n",
            "          18       0.91      0.98      0.94       105\n",
            "          19       1.00      1.00      1.00        83\n",
            "          20       0.71      0.14      0.24        84\n",
            "          21       0.50      1.00      0.67        79\n",
            "          22       1.00      1.00      1.00        97\n",
            "          23       1.00      0.71      0.83        45\n",
            "          24       1.00      0.89      0.94        94\n",
            "          25       0.84      1.00      0.91        76\n",
            "\n",
            "    accuracy                           0.94      2110\n",
            "   macro avg       0.95      0.93      0.93      2110\n",
            "weighted avg       0.95      0.94      0.93      2110\n",
            "\n"
          ]
        }
      ],
      "source": [
        "import pandas as pd\n",
        "import seaborn as sns\n",
        "import matplotlib.pyplot as plt\n",
        "from sklearn.metrics import confusion_matrix, classification_report\n",
        "\n",
        "def print_confusion_matrix(y_true, y_pred, report=True):\n",
        "    labels = sorted(list(set(y_true)))\n",
        "    cmx_data = confusion_matrix(y_true, y_pred, labels=labels)\n",
        "    \n",
        "    df_cmx = pd.DataFrame(cmx_data, index=labels, columns=labels)\n",
        " \n",
        "    fig, ax = plt.subplots(figsize=(7, 6))\n",
        "    sns.heatmap(df_cmx, annot=True, fmt='g' ,square=False)\n",
        "    ax.set_ylim(len(set(y_true)), 0)\n",
        "    plt.show()\n",
        "    \n",
        "    if report:\n",
        "        print('Classification Report')\n",
        "        print(classification_report(y_test, y_pred))\n",
        "\n",
        "Y_pred = model.predict(X_test)\n",
        "y_pred = np.argmax(Y_pred, axis=1)\n",
        "\n",
        "print_confusion_matrix(y_test, y_pred)"
      ]
    },
    {
      "cell_type": "markdown",
      "metadata": {
        "id": "FNP6aqzc9hE5"
      },
      "source": [
        "# Convert to model for Tensorflow-Lite"
      ]
    },
    {
      "cell_type": "code",
      "execution_count": 19,
      "metadata": {
        "id": "ODjnYyld9hE6"
      },
      "outputs": [],
      "source": [
        "# Save as a model dedicated to inference\n",
        "model.save(model_save_path, include_optimizer=False)"
      ]
    },
    {
      "cell_type": "code",
      "execution_count": 20,
      "metadata": {
        "colab": {
          "base_uri": "https://localhost:8080/"
        },
        "id": "zRfuK8Y59hE6",
        "outputId": "a4ca585c-b5d5-4244-8291-8674063209bb"
      },
      "outputs": [
        {
          "name": "stderr",
          "output_type": "stream",
          "text": [
            "WARNING:absl:Found untraced functions such as _update_step_xla while saving (showing 1 of 1). These functions will not be directly callable after loading.\n"
          ]
        },
        {
          "name": "stdout",
          "output_type": "stream",
          "text": [
            "INFO:tensorflow:Assets written to: C:\\Users\\Alfian\\AppData\\Local\\Temp\\tmpsch6qo2j\\assets\n"
          ]
        },
        {
          "name": "stderr",
          "output_type": "stream",
          "text": [
            "INFO:tensorflow:Assets written to: C:\\Users\\Alfian\\AppData\\Local\\Temp\\tmpsch6qo2j\\assets\n"
          ]
        },
        {
          "data": {
            "text/plain": [
              "164672"
            ]
          },
          "execution_count": 20,
          "metadata": {},
          "output_type": "execute_result"
        }
      ],
      "source": [
        "# Transform model (quantization)\n",
        "\n",
        "converter = tf.lite.TFLiteConverter.from_keras_model(model)\n",
        "converter.optimizations = [tf.lite.Optimize.DEFAULT]\n",
        "tflite_quantized_model = converter.convert()\n",
        "\n",
        "open(tflite_save_path, 'wb').write(tflite_quantized_model)"
      ]
    },
    {
      "cell_type": "markdown",
      "metadata": {
        "id": "CHBPBXdx9hE6"
      },
      "source": [
        "# Inference test"
      ]
    },
    {
      "cell_type": "code",
      "execution_count": 21,
      "metadata": {
        "id": "mGAzLocO9hE7"
      },
      "outputs": [],
      "source": [
        "interpreter = tf.lite.Interpreter(model_path=tflite_save_path)\n",
        "interpreter.allocate_tensors()"
      ]
    },
    {
      "cell_type": "code",
      "execution_count": 22,
      "metadata": {
        "id": "oQuDK8YS9hE7"
      },
      "outputs": [],
      "source": [
        "# Get I / O tensor\n",
        "input_details = interpreter.get_input_details()\n",
        "output_details = interpreter.get_output_details()"
      ]
    },
    {
      "cell_type": "code",
      "execution_count": 23,
      "metadata": {
        "id": "2_ixAf_l9hE7"
      },
      "outputs": [],
      "source": [
        "interpreter.set_tensor(input_details[0]['index'], np.array([X_test[0]]))"
      ]
    },
    {
      "cell_type": "code",
      "execution_count": 24,
      "metadata": {
        "colab": {
          "base_uri": "https://localhost:8080/"
        },
        "id": "s4FoAnuc9hE7",
        "outputId": "91f18257-8d8b-4ef3-c558-e9b5f94fabbf",
        "scrolled": true
      },
      "outputs": [
        {
          "name": "stdout",
          "output_type": "stream",
          "text": [
            "CPU times: total: 0 ns\n",
            "Wall time: 229 ms\n"
          ]
        }
      ],
      "source": [
        "%%time\n",
        "# Inference implementation\n",
        "interpreter.invoke()\n",
        "tflite_results = interpreter.get_tensor(output_details[0]['index'])"
      ]
    },
    {
      "cell_type": "code",
      "execution_count": 25,
      "metadata": {
        "colab": {
          "base_uri": "https://localhost:8080/"
        },
        "id": "vONjp19J9hE8",
        "outputId": "77205e24-fd00-42c4-f7b6-e06e527c2cba"
      },
      "outputs": [
        {
          "name": "stdout",
          "output_type": "stream",
          "text": [
            "[6.4512956e-06 5.3238336e-06 3.9409433e-06 1.6985038e-01 3.2388746e-07\n",
            " 8.8567504e-12 1.7313688e-03 2.6396883e-04 1.2774075e-07 1.9642137e-06\n",
            " 2.5742773e-05 5.9225373e-03 6.6648031e-06 9.8905939e-06 4.8059182e-08\n",
            " 2.1807451e-05 2.6286953e-05 8.9123443e-04 2.1087339e-05 2.0601353e-02\n",
            " 4.2675569e-04 2.3290074e-04 1.8692310e-05 6.5978283e-01 8.4433815e-10\n",
            " 1.4014843e-01]\n",
            "23\n"
          ]
        }
      ],
      "source": [
        "print(np.squeeze(tflite_results))\n",
        "print(np.argmax(np.squeeze(tflite_results)))"
      ]
    },
    {
      "cell_type": "code",
      "execution_count": null,
      "metadata": {},
      "outputs": [],
      "source": []
    }
  ],
  "metadata": {
    "accelerator": "GPU",
    "colab": {
      "collapsed_sections": [],
      "name": "keypoint_classification_EN.ipynb",
      "provenance": [],
      "toc_visible": true
    },
    "kernelspec": {
      "display_name": "Python 3.8.12 ('manisya')",
      "language": "python",
      "name": "python3"
    },
    "language_info": {
      "codemirror_mode": {
        "name": "ipython",
        "version": 3
      },
      "file_extension": ".py",
      "mimetype": "text/x-python",
      "name": "python",
      "nbconvert_exporter": "python",
      "pygments_lexer": "ipython3",
      "version": "3.8.15"
    },
    "vscode": {
      "interpreter": {
        "hash": "d32f55ab14ccf165a807847bf3bd71a6d3ac9b7802bd2c99c93b000cc2002ae9"
      }
    }
  },
  "nbformat": 4,
  "nbformat_minor": 0
}
