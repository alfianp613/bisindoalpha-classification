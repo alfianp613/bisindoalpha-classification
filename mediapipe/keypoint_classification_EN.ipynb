{
  "cells": [
    {
      "cell_type": "code",
      "execution_count": 1,
      "metadata": {
        "id": "igMyGnjE9hEp"
      },
      "outputs": [],
      "source": [
        "import csv\n",
        "import pandas as pd\n",
        "import numpy as np\n",
        "import tensorflow as tf\n",
        "from sklearn.model_selection import train_test_split\n",
        "\n",
        "RANDOM_SEED = 42"
      ]
    },
    {
      "cell_type": "markdown",
      "metadata": {
        "id": "t2HDvhIu9hEr"
      },
      "source": [
        "# Specify each path"
      ]
    },
    {
      "cell_type": "code",
      "execution_count": 2,
      "metadata": {
        "id": "9NvZP2Zn9hEy"
      },
      "outputs": [],
      "source": [
        "dataset = 'model/keypoint_classifier/keypoint.csv'\n",
        "model_save_path = 'model/keypoint_classifier/keypoint_classifier.hdf5'\n",
        "tflite_save_path = 'model/keypoint_classifier/keypoint_classifier.tflite'"
      ]
    },
    {
      "cell_type": "markdown",
      "metadata": {
        "id": "s5oMH7x19hEz"
      },
      "source": [
        "# Set number of classes"
      ]
    },
    {
      "cell_type": "code",
      "execution_count": 3,
      "metadata": {
        "id": "du4kodXL9hEz"
      },
      "outputs": [],
      "source": [
        "NUM_CLASSES = 26"
      ]
    },
    {
      "cell_type": "markdown",
      "metadata": {
        "id": "XjnL0uso9hEz"
      },
      "source": [
        "# Dataset reading"
      ]
    },
    {
      "cell_type": "code",
      "execution_count": 4,
      "metadata": {
        "id": "QT5ZqtEz9hE0"
      },
      "outputs": [],
      "source": [
        "X_dataset = np.loadtxt(dataset, delimiter=',', dtype='float32', usecols=list(range(1, (21 * 2) + 1)))"
      ]
    },
    {
      "cell_type": "code",
      "execution_count": 5,
      "metadata": {
        "id": "QmoKFsp49hE0"
      },
      "outputs": [],
      "source": [
        "y_dataset = np.loadtxt(dataset, delimiter=',', dtype='int32', usecols=(0))"
      ]
    },
    {
      "cell_type": "code",
      "execution_count": 6,
      "metadata": {},
      "outputs": [
        {
          "data": {
            "text/plain": [
              "{0: 296,\n",
              " 1: 349,\n",
              " 2: 307,\n",
              " 3: 328,\n",
              " 4: 305,\n",
              " 5: 503,\n",
              " 6: 268,\n",
              " 7: 299,\n",
              " 8: 404,\n",
              " 9: 247,\n",
              " 10: 393,\n",
              " 11: 417,\n",
              " 12: 307,\n",
              " 13: 278,\n",
              " 14: 247,\n",
              " 15: 258,\n",
              " 16: 289,\n",
              " 17: 300,\n",
              " 18: 409,\n",
              " 19: 337,\n",
              " 20: 323,\n",
              " 21: 311,\n",
              " 22: 357,\n",
              " 23: 221,\n",
              " 24: 404,\n",
              " 25: 282}"
            ]
          },
          "execution_count": 6,
          "metadata": {},
          "output_type": "execute_result"
        }
      ],
      "source": [
        "unique, counts = np.unique(y_dataset, return_counts=True)\n",
        "dict(zip(unique, counts))"
      ]
    },
    {
      "cell_type": "markdown",
      "metadata": {},
      "source": [
        "# Balancing"
      ]
    },
    {
      "cell_type": "code",
      "execution_count": 23,
      "metadata": {},
      "outputs": [],
      "source": [
        "from imblearn.over_sampling import SMOTE\n",
        "sm = SMOTE(random_state=42)\n",
        "X_res, y_res = sm.fit_resample(X_dataset, y_dataset)"
      ]
    },
    {
      "cell_type": "code",
      "execution_count": 24,
      "metadata": {},
      "outputs": [
        {
          "data": {
            "text/plain": [
              "(13078, 42)"
            ]
          },
          "execution_count": 24,
          "metadata": {},
          "output_type": "execute_result"
        }
      ],
      "source": [
        "X_res.shape"
      ]
    },
    {
      "cell_type": "code",
      "execution_count": 25,
      "metadata": {},
      "outputs": [
        {
          "data": {
            "text/plain": [
              "{0: 503,\n",
              " 1: 503,\n",
              " 2: 503,\n",
              " 3: 503,\n",
              " 4: 503,\n",
              " 5: 503,\n",
              " 6: 503,\n",
              " 7: 503,\n",
              " 8: 503,\n",
              " 9: 503,\n",
              " 10: 503,\n",
              " 11: 503,\n",
              " 12: 503,\n",
              " 13: 503,\n",
              " 14: 503,\n",
              " 15: 503,\n",
              " 16: 503,\n",
              " 17: 503,\n",
              " 18: 503,\n",
              " 19: 503,\n",
              " 20: 503,\n",
              " 21: 503,\n",
              " 22: 503,\n",
              " 23: 503,\n",
              " 24: 503,\n",
              " 25: 503}"
            ]
          },
          "execution_count": 25,
          "metadata": {},
          "output_type": "execute_result"
        }
      ],
      "source": [
        "unique, counts = np.unique(y_res, return_counts=True)\n",
        "dict(zip(unique, counts))"
      ]
    },
    {
      "cell_type": "markdown",
      "metadata": {},
      "source": [
        "# Split Data"
      ]
    },
    {
      "cell_type": "code",
      "execution_count": 26,
      "metadata": {
        "id": "xQU7JTZ_9hE0"
      },
      "outputs": [],
      "source": [
        "X_train, X_test, y_train, y_test = train_test_split(X_res, y_res, train_size=0.75, random_state=RANDOM_SEED, stratify=y_res)\n",
        "X_train, X_val, y_train, y_val = train_test_split(X_train, y_train, train_size=0.75, random_state=RANDOM_SEED, stratify=y_train)"
      ]
    },
    {
      "cell_type": "code",
      "execution_count": 27,
      "metadata": {},
      "outputs": [
        {
          "data": {
            "text/plain": [
              "(7356, 42)"
            ]
          },
          "execution_count": 27,
          "metadata": {},
          "output_type": "execute_result"
        }
      ],
      "source": [
        "X_train.shape"
      ]
    },
    {
      "cell_type": "markdown",
      "metadata": {
        "id": "mxK_lETT9hE0"
      },
      "source": [
        "# Model building"
      ]
    },
    {
      "cell_type": "code",
      "execution_count": 28,
      "metadata": {
        "id": "vHBmUf1t9hE1"
      },
      "outputs": [],
      "source": [
        "model = tf.keras.models.Sequential([\n",
        "    tf.keras.layers.Input((21 * 2, )),\n",
        "    tf.keras.layers.Dropout(0.2),\n",
        "    tf.keras.layers.Dense(512, activation='relu'),\n",
        "    tf.keras.layers.Dropout(0.4),\n",
        "    tf.keras.layers.Dense(256, activation='relu'),\n",
        "    tf.keras.layers.Dense(NUM_CLASSES, activation='softmax')\n",
        "])"
      ]
    },
    {
      "cell_type": "code",
      "execution_count": 29,
      "metadata": {
        "colab": {
          "base_uri": "https://localhost:8080/"
        },
        "id": "ypqky9tc9hE1",
        "outputId": "5db082bb-30e3-4110-bf63-a1ee777ecd46"
      },
      "outputs": [
        {
          "name": "stdout",
          "output_type": "stream",
          "text": [
            "Model: \"sequential_1\"\n",
            "_________________________________________________________________\n",
            " Layer (type)                Output Shape              Param #   \n",
            "=================================================================\n",
            " dropout_2 (Dropout)         (None, 42)                0         \n",
            "                                                                 \n",
            " dense_3 (Dense)             (None, 512)               22016     \n",
            "                                                                 \n",
            " dropout_3 (Dropout)         (None, 512)               0         \n",
            "                                                                 \n",
            " dense_4 (Dense)             (None, 256)               131328    \n",
            "                                                                 \n",
            " dense_5 (Dense)             (None, 26)                6682      \n",
            "                                                                 \n",
            "=================================================================\n",
            "Total params: 160,026\n",
            "Trainable params: 160,026\n",
            "Non-trainable params: 0\n",
            "_________________________________________________________________\n"
          ]
        }
      ],
      "source": [
        "model.summary()  # tf.keras.utils.plot_model(model, show_shapes=True)"
      ]
    },
    {
      "cell_type": "code",
      "execution_count": 30,
      "metadata": {
        "id": "MbMjOflQ9hE1"
      },
      "outputs": [],
      "source": [
        "# Model checkpoint callback\n",
        "cp_callback = tf.keras.callbacks.ModelCheckpoint(\n",
        "    model_save_path, verbose=1, save_weights_only=False)"
      ]
    },
    {
      "cell_type": "code",
      "execution_count": 31,
      "metadata": {
        "id": "c3Dac0M_9hE2"
      },
      "outputs": [],
      "source": [
        "# Model compilation\n",
        "model.compile(\n",
        "    optimizer='adam',\n",
        "    loss='sparse_categorical_crossentropy',\n",
        "    metrics=['accuracy']\n",
        ")"
      ]
    },
    {
      "cell_type": "markdown",
      "metadata": {
        "id": "7XI0j1Iu9hE2"
      },
      "source": [
        "# Model training"
      ]
    },
    {
      "cell_type": "code",
      "execution_count": 32,
      "metadata": {
        "colab": {
          "base_uri": "https://localhost:8080/"
        },
        "id": "WirBl-JE9hE3",
        "outputId": "71b30ca2-8294-4d9d-8aa2-800d90d399de",
        "scrolled": true
      },
      "outputs": [
        {
          "name": "stdout",
          "output_type": "stream",
          "text": [
            "Epoch 1/100\n",
            "49/58 [========================>.....] - ETA: 0s - loss: 2.8280 - accuracy: 0.1747\n",
            "Epoch 1: saving model to model/keypoint_classifier\\keypoint_classifier.hdf5\n",
            "58/58 [==============================] - 2s 12ms/step - loss: 2.7523 - accuracy: 0.1906 - val_loss: 1.9875 - val_accuracy: 0.4617\n",
            "Epoch 2/100\n",
            "49/58 [========================>.....] - ETA: 0s - loss: 2.0134 - accuracy: 0.3654\n",
            "Epoch 2: saving model to model/keypoint_classifier\\keypoint_classifier.hdf5\n",
            "58/58 [==============================] - 0s 7ms/step - loss: 1.9860 - accuracy: 0.3753 - val_loss: 1.2871 - val_accuracy: 0.7141\n",
            "Epoch 3/100\n",
            "54/58 [==========================>...] - ETA: 0s - loss: 1.6863 - accuracy: 0.4688\n",
            "Epoch 3: saving model to model/keypoint_classifier\\keypoint_classifier.hdf5\n",
            "58/58 [==============================] - 0s 8ms/step - loss: 1.6769 - accuracy: 0.4706 - val_loss: 0.9884 - val_accuracy: 0.7467\n",
            "Epoch 4/100\n",
            "48/58 [=======================>......] - ETA: 0s - loss: 1.4770 - accuracy: 0.5153\n",
            "Epoch 4: saving model to model/keypoint_classifier\\keypoint_classifier.hdf5\n",
            "58/58 [==============================] - 1s 11ms/step - loss: 1.4610 - accuracy: 0.5179 - val_loss: 0.7968 - val_accuracy: 0.8042\n",
            "Epoch 5/100\n",
            "53/58 [==========================>...] - ETA: 0s - loss: 1.3340 - accuracy: 0.5535\n",
            "Epoch 5: saving model to model/keypoint_classifier\\keypoint_classifier.hdf5\n",
            "58/58 [==============================] - 1s 13ms/step - loss: 1.3262 - accuracy: 0.5571 - val_loss: 0.6934 - val_accuracy: 0.8308\n",
            "Epoch 6/100\n",
            "49/58 [========================>.....] - ETA: 0s - loss: 1.2298 - accuracy: 0.5855\n",
            "Epoch 6: saving model to model/keypoint_classifier\\keypoint_classifier.hdf5\n",
            "58/58 [==============================] - 0s 7ms/step - loss: 1.2182 - accuracy: 0.5896 - val_loss: 0.6104 - val_accuracy: 0.8744\n",
            "Epoch 7/100\n",
            "53/58 [==========================>...] - ETA: 0s - loss: 1.1558 - accuracy: 0.6066\n",
            "Epoch 7: saving model to model/keypoint_classifier\\keypoint_classifier.hdf5\n",
            "58/58 [==============================] - 0s 8ms/step - loss: 1.1583 - accuracy: 0.6063 - val_loss: 0.5602 - val_accuracy: 0.8813\n",
            "Epoch 8/100\n",
            "57/58 [============================>.] - ETA: 0s - loss: 1.0600 - accuracy: 0.6323\n",
            "Epoch 8: saving model to model/keypoint_classifier\\keypoint_classifier.hdf5\n",
            "58/58 [==============================] - 0s 8ms/step - loss: 1.0592 - accuracy: 0.6323 - val_loss: 0.5082 - val_accuracy: 0.8846\n",
            "Epoch 9/100\n",
            "57/58 [============================>.] - ETA: 0s - loss: 1.0166 - accuracy: 0.6487\n",
            "Epoch 9: saving model to model/keypoint_classifier\\keypoint_classifier.hdf5\n",
            "58/58 [==============================] - 1s 9ms/step - loss: 1.0178 - accuracy: 0.6483 - val_loss: 0.4915 - val_accuracy: 0.8923\n",
            "Epoch 10/100\n",
            "58/58 [==============================] - ETA: 0s - loss: 0.9566 - accuracy: 0.6683\n",
            "Epoch 10: saving model to model/keypoint_classifier\\keypoint_classifier.hdf5\n",
            "58/58 [==============================] - 1s 9ms/step - loss: 0.9566 - accuracy: 0.6683 - val_loss: 0.4365 - val_accuracy: 0.9262\n",
            "Epoch 11/100\n",
            "51/58 [=========================>....] - ETA: 0s - loss: 0.9141 - accuracy: 0.6800\n",
            "Epoch 11: saving model to model/keypoint_classifier\\keypoint_classifier.hdf5\n",
            "58/58 [==============================] - 1s 9ms/step - loss: 0.9147 - accuracy: 0.6800 - val_loss: 0.4362 - val_accuracy: 0.9038\n",
            "Epoch 12/100\n",
            "52/58 [=========================>....] - ETA: 0s - loss: 0.8681 - accuracy: 0.6928\n",
            "Epoch 12: saving model to model/keypoint_classifier\\keypoint_classifier.hdf5\n",
            "58/58 [==============================] - 1s 9ms/step - loss: 0.8622 - accuracy: 0.6948 - val_loss: 0.3970 - val_accuracy: 0.9286\n",
            "Epoch 13/100\n",
            "52/58 [=========================>....] - ETA: 0s - loss: 0.8375 - accuracy: 0.7046\n",
            "Epoch 13: saving model to model/keypoint_classifier\\keypoint_classifier.hdf5\n",
            "58/58 [==============================] - 0s 8ms/step - loss: 0.8379 - accuracy: 0.7065 - val_loss: 0.3885 - val_accuracy: 0.9144\n",
            "Epoch 14/100\n",
            "55/58 [===========================>..] - ETA: 0s - loss: 0.8042 - accuracy: 0.7232\n",
            "Epoch 14: saving model to model/keypoint_classifier\\keypoint_classifier.hdf5\n",
            "58/58 [==============================] - 0s 8ms/step - loss: 0.8048 - accuracy: 0.7225 - val_loss: 0.3562 - val_accuracy: 0.9225\n",
            "Epoch 15/100\n",
            "55/58 [===========================>..] - ETA: 0s - loss: 0.7662 - accuracy: 0.7315\n",
            "Epoch 15: saving model to model/keypoint_classifier\\keypoint_classifier.hdf5\n",
            "58/58 [==============================] - 0s 8ms/step - loss: 0.7635 - accuracy: 0.7333 - val_loss: 0.3416 - val_accuracy: 0.9201\n",
            "Epoch 16/100\n",
            "49/58 [========================>.....] - ETA: 0s - loss: 0.7337 - accuracy: 0.7484\n",
            "Epoch 16: saving model to model/keypoint_classifier\\keypoint_classifier.hdf5\n",
            "58/58 [==============================] - 0s 9ms/step - loss: 0.7369 - accuracy: 0.7463 - val_loss: 0.3343 - val_accuracy: 0.9139\n",
            "Epoch 17/100\n",
            "51/58 [=========================>....] - ETA: 0s - loss: 0.7209 - accuracy: 0.7462\n",
            "Epoch 17: saving model to model/keypoint_classifier\\keypoint_classifier.hdf5\n",
            "58/58 [==============================] - 0s 8ms/step - loss: 0.7142 - accuracy: 0.7488 - val_loss: 0.3223 - val_accuracy: 0.9417\n",
            "Epoch 18/100\n",
            "52/58 [=========================>....] - ETA: 0s - loss: 0.6921 - accuracy: 0.7584\n",
            "Epoch 18: saving model to model/keypoint_classifier\\keypoint_classifier.hdf5\n",
            "58/58 [==============================] - 0s 9ms/step - loss: 0.6921 - accuracy: 0.7583 - val_loss: 0.3235 - val_accuracy: 0.9462\n",
            "Epoch 19/100\n",
            "51/58 [=========================>....] - ETA: 0s - loss: 0.6726 - accuracy: 0.7646\n",
            "Epoch 19: saving model to model/keypoint_classifier\\keypoint_classifier.hdf5\n",
            "58/58 [==============================] - 0s 8ms/step - loss: 0.6735 - accuracy: 0.7635 - val_loss: 0.3163 - val_accuracy: 0.9233\n",
            "Epoch 20/100\n",
            "54/58 [==========================>...] - ETA: 0s - loss: 0.6405 - accuracy: 0.7786\n",
            "Epoch 20: saving model to model/keypoint_classifier\\keypoint_classifier.hdf5\n",
            "58/58 [==============================] - 0s 8ms/step - loss: 0.6437 - accuracy: 0.7790 - val_loss: 0.3042 - val_accuracy: 0.9396\n",
            "Epoch 21/100\n",
            "56/58 [===========================>..] - ETA: 0s - loss: 0.6145 - accuracy: 0.7874\n",
            "Epoch 21: saving model to model/keypoint_classifier\\keypoint_classifier.hdf5\n",
            "58/58 [==============================] - 0s 8ms/step - loss: 0.6136 - accuracy: 0.7879 - val_loss: 0.2892 - val_accuracy: 0.9303\n",
            "Epoch 22/100\n",
            "57/58 [============================>.] - ETA: 0s - loss: 0.5841 - accuracy: 0.7956\n",
            "Epoch 22: saving model to model/keypoint_classifier\\keypoint_classifier.hdf5\n",
            "58/58 [==============================] - 1s 9ms/step - loss: 0.5850 - accuracy: 0.7954 - val_loss: 0.2843 - val_accuracy: 0.9258\n",
            "Epoch 23/100\n",
            "57/58 [============================>.] - ETA: 0s - loss: 0.5610 - accuracy: 0.8025\n",
            "Epoch 23: saving model to model/keypoint_classifier\\keypoint_classifier.hdf5\n",
            "58/58 [==============================] - 0s 8ms/step - loss: 0.5606 - accuracy: 0.8025 - val_loss: 0.2582 - val_accuracy: 0.9372\n",
            "Epoch 24/100\n",
            "49/58 [========================>.....] - ETA: 0s - loss: 0.5638 - accuracy: 0.8063\n",
            "Epoch 24: saving model to model/keypoint_classifier\\keypoint_classifier.hdf5\n",
            "58/58 [==============================] - 0s 7ms/step - loss: 0.5650 - accuracy: 0.8066 - val_loss: 0.2752 - val_accuracy: 0.9229\n",
            "Epoch 25/100\n",
            "57/58 [============================>.] - ETA: 0s - loss: 0.5403 - accuracy: 0.8110\n",
            "Epoch 25: saving model to model/keypoint_classifier\\keypoint_classifier.hdf5\n",
            "58/58 [==============================] - 0s 7ms/step - loss: 0.5408 - accuracy: 0.8108 - val_loss: 0.2497 - val_accuracy: 0.9502\n",
            "Epoch 26/100\n",
            "53/58 [==========================>...] - ETA: 0s - loss: 0.5343 - accuracy: 0.8088\n",
            "Epoch 26: saving model to model/keypoint_classifier\\keypoint_classifier.hdf5\n",
            "58/58 [==============================] - 0s 8ms/step - loss: 0.5362 - accuracy: 0.8086 - val_loss: 0.2414 - val_accuracy: 0.9592\n",
            "Epoch 27/100\n",
            "50/58 [========================>.....] - ETA: 0s - loss: 0.5180 - accuracy: 0.8197\n",
            "Epoch 27: saving model to model/keypoint_classifier\\keypoint_classifier.hdf5\n",
            "58/58 [==============================] - 0s 7ms/step - loss: 0.5221 - accuracy: 0.8180 - val_loss: 0.2479 - val_accuracy: 0.9241\n",
            "Epoch 28/100\n",
            "53/58 [==========================>...] - ETA: 0s - loss: 0.5132 - accuracy: 0.8274\n",
            "Epoch 28: saving model to model/keypoint_classifier\\keypoint_classifier.hdf5\n",
            "58/58 [==============================] - 0s 8ms/step - loss: 0.5106 - accuracy: 0.8279 - val_loss: 0.2459 - val_accuracy: 0.9270\n",
            "Epoch 29/100\n",
            "53/58 [==========================>...] - ETA: 0s - loss: 0.4791 - accuracy: 0.8342\n",
            "Epoch 29: saving model to model/keypoint_classifier\\keypoint_classifier.hdf5\n",
            "58/58 [==============================] - 0s 7ms/step - loss: 0.4775 - accuracy: 0.8347 - val_loss: 0.2254 - val_accuracy: 0.9600\n",
            "Epoch 30/100\n",
            "52/58 [=========================>....] - ETA: 0s - loss: 0.4751 - accuracy: 0.8349\n",
            "Epoch 30: saving model to model/keypoint_classifier\\keypoint_classifier.hdf5\n",
            "58/58 [==============================] - 0s 7ms/step - loss: 0.4726 - accuracy: 0.8351 - val_loss: 0.2443 - val_accuracy: 0.9356\n",
            "Epoch 31/100\n",
            "54/58 [==========================>...] - ETA: 0s - loss: 0.4669 - accuracy: 0.8371\n",
            "Epoch 31: saving model to model/keypoint_classifier\\keypoint_classifier.hdf5\n",
            "58/58 [==============================] - 0s 7ms/step - loss: 0.4694 - accuracy: 0.8367 - val_loss: 0.2534 - val_accuracy: 0.9294\n",
            "Epoch 32/100\n",
            "54/58 [==========================>...] - ETA: 0s - loss: 0.4652 - accuracy: 0.8394\n",
            "Epoch 32: saving model to model/keypoint_classifier\\keypoint_classifier.hdf5\n",
            "58/58 [==============================] - 1s 10ms/step - loss: 0.4652 - accuracy: 0.8393 - val_loss: 0.2530 - val_accuracy: 0.9405\n",
            "Epoch 33/100\n",
            "54/58 [==========================>...] - ETA: 0s - loss: 0.4454 - accuracy: 0.8403\n",
            "Epoch 33: saving model to model/keypoint_classifier\\keypoint_classifier.hdf5\n",
            "58/58 [==============================] - 1s 9ms/step - loss: 0.4447 - accuracy: 0.8399 - val_loss: 0.2373 - val_accuracy: 0.9233\n",
            "Epoch 34/100\n",
            "51/58 [=========================>....] - ETA: 0s - loss: 0.4440 - accuracy: 0.8401\n",
            "Epoch 34: saving model to model/keypoint_classifier\\keypoint_classifier.hdf5\n",
            "58/58 [==============================] - 1s 13ms/step - loss: 0.4452 - accuracy: 0.8412 - val_loss: 0.2284 - val_accuracy: 0.9478\n",
            "Epoch 35/100\n",
            "53/58 [==========================>...] - ETA: 0s - loss: 0.4191 - accuracy: 0.8508\n",
            "Epoch 35: saving model to model/keypoint_classifier\\keypoint_classifier.hdf5\n",
            "58/58 [==============================] - 1s 10ms/step - loss: 0.4210 - accuracy: 0.8491 - val_loss: 0.2169 - val_accuracy: 0.9474\n",
            "Epoch 36/100\n",
            "49/58 [========================>.....] - ETA: 0s - loss: 0.4172 - accuracy: 0.8552\n",
            "Epoch 36: saving model to model/keypoint_classifier\\keypoint_classifier.hdf5\n",
            "58/58 [==============================] - 0s 8ms/step - loss: 0.4197 - accuracy: 0.8532 - val_loss: 0.2154 - val_accuracy: 0.9482\n",
            "Epoch 37/100\n",
            "52/58 [=========================>....] - ETA: 0s - loss: 0.4121 - accuracy: 0.8567\n",
            "Epoch 37: saving model to model/keypoint_classifier\\keypoint_classifier.hdf5\n",
            "58/58 [==============================] - 0s 8ms/step - loss: 0.4080 - accuracy: 0.8573 - val_loss: 0.2200 - val_accuracy: 0.9576\n",
            "Epoch 38/100\n",
            "49/58 [========================>.....] - ETA: 0s - loss: 0.3932 - accuracy: 0.8579\n",
            "Epoch 38: saving model to model/keypoint_classifier\\keypoint_classifier.hdf5\n",
            "58/58 [==============================] - 0s 7ms/step - loss: 0.3902 - accuracy: 0.8605 - val_loss: 0.2094 - val_accuracy: 0.9429\n",
            "Epoch 39/100\n",
            "51/58 [=========================>....] - ETA: 0s - loss: 0.4110 - accuracy: 0.8549\n",
            "Epoch 39: saving model to model/keypoint_classifier\\keypoint_classifier.hdf5\n",
            "58/58 [==============================] - 0s 7ms/step - loss: 0.4115 - accuracy: 0.8526 - val_loss: 0.2317 - val_accuracy: 0.9250\n",
            "Epoch 40/100\n",
            "54/58 [==========================>...] - ETA: 0s - loss: 0.4051 - accuracy: 0.8559\n",
            "Epoch 40: saving model to model/keypoint_classifier\\keypoint_classifier.hdf5\n",
            "58/58 [==============================] - 0s 7ms/step - loss: 0.4043 - accuracy: 0.8569 - val_loss: 0.2199 - val_accuracy: 0.9392\n",
            "Epoch 41/100\n",
            "54/58 [==========================>...] - ETA: 0s - loss: 0.3879 - accuracy: 0.8653\n",
            "Epoch 41: saving model to model/keypoint_classifier\\keypoint_classifier.hdf5\n",
            "58/58 [==============================] - 0s 7ms/step - loss: 0.3872 - accuracy: 0.8660 - val_loss: 0.2225 - val_accuracy: 0.9254\n",
            "Epoch 42/100\n",
            "53/58 [==========================>...] - ETA: 0s - loss: 0.3908 - accuracy: 0.8628\n",
            "Epoch 42: saving model to model/keypoint_classifier\\keypoint_classifier.hdf5\n",
            "58/58 [==============================] - 0s 7ms/step - loss: 0.3913 - accuracy: 0.8632 - val_loss: 0.2179 - val_accuracy: 0.9368\n",
            "Epoch 43/100\n",
            "57/58 [============================>.] - ETA: 0s - loss: 0.3749 - accuracy: 0.8706\n",
            "Epoch 43: saving model to model/keypoint_classifier\\keypoint_classifier.hdf5\n",
            "58/58 [==============================] - 0s 8ms/step - loss: 0.3747 - accuracy: 0.8710 - val_loss: 0.2215 - val_accuracy: 0.9515\n",
            "Epoch 44/100\n",
            "56/58 [===========================>..] - ETA: 0s - loss: 0.3789 - accuracy: 0.8644\n",
            "Epoch 44: saving model to model/keypoint_classifier\\keypoint_classifier.hdf5\n",
            "58/58 [==============================] - 1s 9ms/step - loss: 0.3781 - accuracy: 0.8647 - val_loss: 0.2289 - val_accuracy: 0.9409\n",
            "Epoch 45/100\n",
            "55/58 [===========================>..] - ETA: 0s - loss: 0.3742 - accuracy: 0.8649\n",
            "Epoch 45: saving model to model/keypoint_classifier\\keypoint_classifier.hdf5\n",
            "58/58 [==============================] - 1s 9ms/step - loss: 0.3737 - accuracy: 0.8645 - val_loss: 0.2103 - val_accuracy: 0.9392\n",
            "Epoch 46/100\n",
            "55/58 [===========================>..] - ETA: 0s - loss: 0.3615 - accuracy: 0.8747\n",
            "Epoch 46: saving model to model/keypoint_classifier\\keypoint_classifier.hdf5\n",
            "58/58 [==============================] - 1s 10ms/step - loss: 0.3600 - accuracy: 0.8747 - val_loss: 0.2194 - val_accuracy: 0.9282\n",
            "Epoch 47/100\n",
            "56/58 [===========================>..] - ETA: 0s - loss: 0.3469 - accuracy: 0.8677\n",
            "Epoch 47: saving model to model/keypoint_classifier\\keypoint_classifier.hdf5\n",
            "58/58 [==============================] - 0s 7ms/step - loss: 0.3470 - accuracy: 0.8670 - val_loss: 0.2146 - val_accuracy: 0.9372\n",
            "Epoch 48/100\n",
            "49/58 [========================>.....] - ETA: 0s - loss: 0.3516 - accuracy: 0.8710\n",
            "Epoch 48: saving model to model/keypoint_classifier\\keypoint_classifier.hdf5\n",
            "58/58 [==============================] - 0s 7ms/step - loss: 0.3522 - accuracy: 0.8726 - val_loss: 0.1873 - val_accuracy: 0.9576\n",
            "Epoch 49/100\n",
            "55/58 [===========================>..] - ETA: 0s - loss: 0.3357 - accuracy: 0.8767\n",
            "Epoch 49: saving model to model/keypoint_classifier\\keypoint_classifier.hdf5\n",
            "58/58 [==============================] - 0s 7ms/step - loss: 0.3389 - accuracy: 0.8757 - val_loss: 0.1867 - val_accuracy: 0.9702\n",
            "Epoch 50/100\n",
            "55/58 [===========================>..] - ETA: 0s - loss: 0.3347 - accuracy: 0.8825\n",
            "Epoch 50: saving model to model/keypoint_classifier\\keypoint_classifier.hdf5\n",
            "58/58 [==============================] - 0s 7ms/step - loss: 0.3344 - accuracy: 0.8828 - val_loss: 0.1935 - val_accuracy: 0.9400\n",
            "Epoch 51/100\n",
            "51/58 [=========================>....] - ETA: 0s - loss: 0.3475 - accuracy: 0.8781\n",
            "Epoch 51: saving model to model/keypoint_classifier\\keypoint_classifier.hdf5\n",
            "58/58 [==============================] - 0s 7ms/step - loss: 0.3472 - accuracy: 0.8787 - val_loss: 0.2035 - val_accuracy: 0.9449\n",
            "Epoch 52/100\n",
            "57/58 [============================>.] - ETA: 0s - loss: 0.3235 - accuracy: 0.8854\n",
            "Epoch 52: saving model to model/keypoint_classifier\\keypoint_classifier.hdf5\n",
            "58/58 [==============================] - 0s 8ms/step - loss: 0.3235 - accuracy: 0.8855 - val_loss: 0.2403 - val_accuracy: 0.9078\n",
            "Epoch 53/100\n",
            "48/58 [=======================>......] - ETA: 0s - loss: 0.3231 - accuracy: 0.8830\n",
            "Epoch 53: saving model to model/keypoint_classifier\\keypoint_classifier.hdf5\n",
            "58/58 [==============================] - 0s 7ms/step - loss: 0.3211 - accuracy: 0.8832 - val_loss: 0.1872 - val_accuracy: 0.9653\n",
            "Epoch 54/100\n",
            "54/58 [==========================>...] - ETA: 0s - loss: 0.3299 - accuracy: 0.8817\n",
            "Epoch 54: saving model to model/keypoint_classifier\\keypoint_classifier.hdf5\n",
            "58/58 [==============================] - 0s 7ms/step - loss: 0.3270 - accuracy: 0.8827 - val_loss: 0.2323 - val_accuracy: 0.9347\n",
            "Epoch 55/100\n",
            "54/58 [==========================>...] - ETA: 0s - loss: 0.3154 - accuracy: 0.8900\n",
            "Epoch 55: saving model to model/keypoint_classifier\\keypoint_classifier.hdf5\n",
            "58/58 [==============================] - 0s 8ms/step - loss: 0.3164 - accuracy: 0.8896 - val_loss: 0.2157 - val_accuracy: 0.9409\n",
            "Epoch 56/100\n",
            "49/58 [========================>.....] - ETA: 0s - loss: 0.3145 - accuracy: 0.8874\n",
            "Epoch 56: saving model to model/keypoint_classifier\\keypoint_classifier.hdf5\n",
            "58/58 [==============================] - 1s 9ms/step - loss: 0.3181 - accuracy: 0.8849 - val_loss: 0.1931 - val_accuracy: 0.9462\n",
            "Epoch 57/100\n",
            "52/58 [=========================>....] - ETA: 0s - loss: 0.3113 - accuracy: 0.8870\n",
            "Epoch 57: saving model to model/keypoint_classifier\\keypoint_classifier.hdf5\n",
            "58/58 [==============================] - 0s 8ms/step - loss: 0.3101 - accuracy: 0.8885 - val_loss: 0.1920 - val_accuracy: 0.9498\n",
            "Epoch 58/100\n",
            "52/58 [=========================>....] - ETA: 0s - loss: 0.3018 - accuracy: 0.8929\n",
            "Epoch 58: saving model to model/keypoint_classifier\\keypoint_classifier.hdf5\n",
            "58/58 [==============================] - 0s 8ms/step - loss: 0.3022 - accuracy: 0.8918 - val_loss: 0.1888 - val_accuracy: 0.9653\n",
            "Epoch 59/100\n",
            "57/58 [============================>.] - ETA: 0s - loss: 0.3112 - accuracy: 0.8887\n",
            "Epoch 59: saving model to model/keypoint_classifier\\keypoint_classifier.hdf5\n",
            "58/58 [==============================] - 0s 7ms/step - loss: 0.3118 - accuracy: 0.8887 - val_loss: 0.2176 - val_accuracy: 0.9221\n",
            "Epoch 60/100\n",
            "51/58 [=========================>....] - ETA: 0s - loss: 0.2969 - accuracy: 0.9009\n",
            "Epoch 60: saving model to model/keypoint_classifier\\keypoint_classifier.hdf5\n",
            "58/58 [==============================] - 0s 8ms/step - loss: 0.2965 - accuracy: 0.8990 - val_loss: 0.2311 - val_accuracy: 0.9139\n",
            "Epoch 61/100\n",
            "53/58 [==========================>...] - ETA: 0s - loss: 0.2947 - accuracy: 0.8922\n",
            "Epoch 61: saving model to model/keypoint_classifier\\keypoint_classifier.hdf5\n",
            "58/58 [==============================] - 0s 8ms/step - loss: 0.2957 - accuracy: 0.8921 - val_loss: 0.1808 - val_accuracy: 0.9511\n",
            "Epoch 62/100\n",
            "51/58 [=========================>....] - ETA: 0s - loss: 0.2890 - accuracy: 0.8974\n",
            "Epoch 62: saving model to model/keypoint_classifier\\keypoint_classifier.hdf5\n",
            "58/58 [==============================] - 0s 7ms/step - loss: 0.2870 - accuracy: 0.8975 - val_loss: 0.2364 - val_accuracy: 0.9091\n",
            "Epoch 63/100\n",
            "54/58 [==========================>...] - ETA: 0s - loss: 0.2846 - accuracy: 0.8950\n",
            "Epoch 63: saving model to model/keypoint_classifier\\keypoint_classifier.hdf5\n",
            "58/58 [==============================] - 0s 7ms/step - loss: 0.2888 - accuracy: 0.8936 - val_loss: 0.1987 - val_accuracy: 0.9380\n",
            "Epoch 64/100\n",
            "53/58 [==========================>...] - ETA: 0s - loss: 0.2691 - accuracy: 0.9088\n",
            "Epoch 64: saving model to model/keypoint_classifier\\keypoint_classifier.hdf5\n",
            "58/58 [==============================] - 0s 7ms/step - loss: 0.2722 - accuracy: 0.9069 - val_loss: 0.1822 - val_accuracy: 0.9429\n",
            "Epoch 65/100\n",
            "48/58 [=======================>......] - ETA: 0s - loss: 0.2861 - accuracy: 0.9028\n",
            "Epoch 65: saving model to model/keypoint_classifier\\keypoint_classifier.hdf5\n",
            "58/58 [==============================] - 0s 7ms/step - loss: 0.2841 - accuracy: 0.9032 - val_loss: 0.2185 - val_accuracy: 0.9347\n",
            "Epoch 66/100\n",
            "52/58 [=========================>....] - ETA: 0s - loss: 0.2887 - accuracy: 0.9010\n",
            "Epoch 66: saving model to model/keypoint_classifier\\keypoint_classifier.hdf5\n",
            "58/58 [==============================] - 0s 7ms/step - loss: 0.2896 - accuracy: 0.8999 - val_loss: 0.2551 - val_accuracy: 0.9225\n",
            "Epoch 67/100\n",
            "51/58 [=========================>....] - ETA: 0s - loss: 0.2775 - accuracy: 0.8986\n",
            "Epoch 67: saving model to model/keypoint_classifier\\keypoint_classifier.hdf5\n",
            "58/58 [==============================] - 0s 7ms/step - loss: 0.2812 - accuracy: 0.8982 - val_loss: 0.2356 - val_accuracy: 0.9139\n",
            "Epoch 68/100\n",
            "55/58 [===========================>..] - ETA: 0s - loss: 0.2912 - accuracy: 0.8973\n",
            "Epoch 68: saving model to model/keypoint_classifier\\keypoint_classifier.hdf5\n",
            "58/58 [==============================] - 0s 7ms/step - loss: 0.2886 - accuracy: 0.8972 - val_loss: 0.2339 - val_accuracy: 0.9246\n",
            "Epoch 69/100\n",
            "55/58 [===========================>..] - ETA: 0s - loss: 0.2521 - accuracy: 0.9098\n",
            "Epoch 69: saving model to model/keypoint_classifier\\keypoint_classifier.hdf5\n",
            "58/58 [==============================] - 0s 7ms/step - loss: 0.2514 - accuracy: 0.9096 - val_loss: 0.1681 - val_accuracy: 0.9596\n",
            "Epoch 70/100\n",
            "49/58 [========================>.....] - ETA: 0s - loss: 0.2765 - accuracy: 0.8973\n",
            "Epoch 70: saving model to model/keypoint_classifier\\keypoint_classifier.hdf5\n",
            "58/58 [==============================] - 0s 7ms/step - loss: 0.2720 - accuracy: 0.8990 - val_loss: 0.1754 - val_accuracy: 0.9478\n",
            "Epoch 71/100\n",
            "48/58 [=======================>......] - ETA: 0s - loss: 0.2696 - accuracy: 0.9032\n",
            "Epoch 71: saving model to model/keypoint_classifier\\keypoint_classifier.hdf5\n",
            "58/58 [==============================] - 0s 7ms/step - loss: 0.2697 - accuracy: 0.9020 - val_loss: 0.2499 - val_accuracy: 0.8960\n",
            "Epoch 72/100\n",
            "53/58 [==========================>...] - ETA: 0s - loss: 0.2504 - accuracy: 0.9124\n",
            "Epoch 72: saving model to model/keypoint_classifier\\keypoint_classifier.hdf5\n",
            "58/58 [==============================] - 0s 7ms/step - loss: 0.2534 - accuracy: 0.9118 - val_loss: 0.1581 - val_accuracy: 0.9494\n",
            "Epoch 73/100\n",
            "53/58 [==========================>...] - ETA: 0s - loss: 0.2644 - accuracy: 0.9049\n",
            "Epoch 73: saving model to model/keypoint_classifier\\keypoint_classifier.hdf5\n",
            "58/58 [==============================] - 0s 7ms/step - loss: 0.2632 - accuracy: 0.9046 - val_loss: 0.2748 - val_accuracy: 0.9021\n",
            "Epoch 74/100\n",
            "55/58 [===========================>..] - ETA: 0s - loss: 0.2709 - accuracy: 0.9036\n",
            "Epoch 74: saving model to model/keypoint_classifier\\keypoint_classifier.hdf5\n",
            "58/58 [==============================] - 0s 7ms/step - loss: 0.2712 - accuracy: 0.9038 - val_loss: 0.2261 - val_accuracy: 0.9303\n",
            "Epoch 75/100\n",
            "53/58 [==========================>...] - ETA: 0s - loss: 0.2532 - accuracy: 0.9117\n",
            "Epoch 75: saving model to model/keypoint_classifier\\keypoint_classifier.hdf5\n",
            "58/58 [==============================] - 0s 7ms/step - loss: 0.2526 - accuracy: 0.9111 - val_loss: 0.2162 - val_accuracy: 0.9270\n",
            "Epoch 76/100\n",
            "53/58 [==========================>...] - ETA: 0s - loss: 0.2695 - accuracy: 0.9036\n",
            "Epoch 76: saving model to model/keypoint_classifier\\keypoint_classifier.hdf5\n",
            "58/58 [==============================] - 0s 7ms/step - loss: 0.2672 - accuracy: 0.9051 - val_loss: 0.2304 - val_accuracy: 0.9250\n",
            "Epoch 77/100\n",
            "51/58 [=========================>....] - ETA: 0s - loss: 0.2553 - accuracy: 0.9101\n",
            "Epoch 77: saving model to model/keypoint_classifier\\keypoint_classifier.hdf5\n",
            "58/58 [==============================] - 0s 7ms/step - loss: 0.2517 - accuracy: 0.9114 - val_loss: 0.1867 - val_accuracy: 0.9498\n",
            "Epoch 78/100\n",
            "55/58 [===========================>..] - ETA: 0s - loss: 0.2551 - accuracy: 0.9091\n",
            "Epoch 78: saving model to model/keypoint_classifier\\keypoint_classifier.hdf5\n",
            "58/58 [==============================] - 0s 7ms/step - loss: 0.2532 - accuracy: 0.9097 - val_loss: 0.2056 - val_accuracy: 0.9319\n",
            "Epoch 79/100\n",
            "56/58 [===========================>..] - ETA: 0s - loss: 0.2319 - accuracy: 0.9159\n",
            "Epoch 79: saving model to model/keypoint_classifier\\keypoint_classifier.hdf5\n",
            "58/58 [==============================] - 0s 7ms/step - loss: 0.2315 - accuracy: 0.9159 - val_loss: 0.1879 - val_accuracy: 0.9372\n",
            "Epoch 80/100\n",
            "53/58 [==========================>...] - ETA: 0s - loss: 0.2507 - accuracy: 0.9127\n",
            "Epoch 80: saving model to model/keypoint_classifier\\keypoint_classifier.hdf5\n",
            "58/58 [==============================] - 0s 7ms/step - loss: 0.2487 - accuracy: 0.9144 - val_loss: 0.1952 - val_accuracy: 0.9290\n",
            "Epoch 81/100\n",
            "55/58 [===========================>..] - ETA: 0s - loss: 0.2509 - accuracy: 0.9087\n",
            "Epoch 81: saving model to model/keypoint_classifier\\keypoint_classifier.hdf5\n",
            "58/58 [==============================] - 0s 7ms/step - loss: 0.2489 - accuracy: 0.9096 - val_loss: 0.1849 - val_accuracy: 0.9494\n",
            "Epoch 82/100\n",
            "49/58 [========================>.....] - ETA: 0s - loss: 0.2369 - accuracy: 0.9166\n",
            "Epoch 82: saving model to model/keypoint_classifier\\keypoint_classifier.hdf5\n",
            "58/58 [==============================] - 0s 7ms/step - loss: 0.2373 - accuracy: 0.9164 - val_loss: 0.2067 - val_accuracy: 0.9241\n",
            "Epoch 83/100\n",
            "47/58 [=======================>......] - ETA: 0s - loss: 0.2402 - accuracy: 0.9167\n",
            "Epoch 83: saving model to model/keypoint_classifier\\keypoint_classifier.hdf5\n",
            "58/58 [==============================] - 0s 7ms/step - loss: 0.2368 - accuracy: 0.9175 - val_loss: 0.2815 - val_accuracy: 0.8952\n",
            "Epoch 84/100\n",
            "54/58 [==========================>...] - ETA: 0s - loss: 0.2317 - accuracy: 0.9181\n",
            "Epoch 84: saving model to model/keypoint_classifier\\keypoint_classifier.hdf5\n",
            "58/58 [==============================] - 0s 7ms/step - loss: 0.2325 - accuracy: 0.9178 - val_loss: 0.2280 - val_accuracy: 0.9107\n",
            "Epoch 85/100\n",
            "53/58 [==========================>...] - ETA: 0s - loss: 0.2363 - accuracy: 0.9148\n",
            "Epoch 85: saving model to model/keypoint_classifier\\keypoint_classifier.hdf5\n",
            "58/58 [==============================] - 0s 7ms/step - loss: 0.2365 - accuracy: 0.9150 - val_loss: 0.1734 - val_accuracy: 0.9519\n",
            "Epoch 86/100\n",
            "52/58 [=========================>....] - ETA: 0s - loss: 0.2437 - accuracy: 0.9144\n",
            "Epoch 86: saving model to model/keypoint_classifier\\keypoint_classifier.hdf5\n",
            "58/58 [==============================] - 0s 8ms/step - loss: 0.2414 - accuracy: 0.9156 - val_loss: 0.2395 - val_accuracy: 0.9078\n",
            "Epoch 87/100\n",
            "51/58 [=========================>....] - ETA: 0s - loss: 0.2457 - accuracy: 0.9118\n",
            "Epoch 87: saving model to model/keypoint_classifier\\keypoint_classifier.hdf5\n",
            "58/58 [==============================] - 0s 7ms/step - loss: 0.2421 - accuracy: 0.9125 - val_loss: 0.1863 - val_accuracy: 0.9417\n",
            "Epoch 88/100\n",
            "54/58 [==========================>...] - ETA: 0s - loss: 0.2218 - accuracy: 0.9213\n",
            "Epoch 88: saving model to model/keypoint_classifier\\keypoint_classifier.hdf5\n",
            "58/58 [==============================] - 0s 7ms/step - loss: 0.2242 - accuracy: 0.9202 - val_loss: 0.2440 - val_accuracy: 0.9095\n",
            "Epoch 89/100\n",
            "54/58 [==========================>...] - ETA: 0s - loss: 0.2194 - accuracy: 0.9197\n",
            "Epoch 89: saving model to model/keypoint_classifier\\keypoint_classifier.hdf5\n",
            "58/58 [==============================] - 0s 7ms/step - loss: 0.2209 - accuracy: 0.9198 - val_loss: 0.1664 - val_accuracy: 0.9511\n",
            "Epoch 90/100\n",
            "53/58 [==========================>...] - ETA: 0s - loss: 0.2227 - accuracy: 0.9205\n",
            "Epoch 90: saving model to model/keypoint_classifier\\keypoint_classifier.hdf5\n",
            "58/58 [==============================] - 0s 7ms/step - loss: 0.2219 - accuracy: 0.9201 - val_loss: 0.2068 - val_accuracy: 0.9221\n",
            "Epoch 91/100\n",
            "54/58 [==========================>...] - ETA: 0s - loss: 0.2248 - accuracy: 0.9200\n",
            "Epoch 91: saving model to model/keypoint_classifier\\keypoint_classifier.hdf5\n",
            "58/58 [==============================] - 0s 7ms/step - loss: 0.2245 - accuracy: 0.9209 - val_loss: 0.1804 - val_accuracy: 0.9466\n",
            "Epoch 92/100\n",
            "50/58 [========================>.....] - ETA: 0s - loss: 0.2223 - accuracy: 0.9184\n",
            "Epoch 92: saving model to model/keypoint_classifier\\keypoint_classifier.hdf5\n",
            "58/58 [==============================] - 0s 7ms/step - loss: 0.2172 - accuracy: 0.9198 - val_loss: 0.2386 - val_accuracy: 0.9095\n",
            "Epoch 93/100\n",
            "56/58 [===========================>..] - ETA: 0s - loss: 0.2167 - accuracy: 0.9233\n",
            "Epoch 93: saving model to model/keypoint_classifier\\keypoint_classifier.hdf5\n",
            "58/58 [==============================] - 0s 7ms/step - loss: 0.2166 - accuracy: 0.9232 - val_loss: 0.2492 - val_accuracy: 0.8968\n",
            "Epoch 94/100\n",
            "54/58 [==========================>...] - ETA: 0s - loss: 0.2231 - accuracy: 0.9216\n",
            "Epoch 94: saving model to model/keypoint_classifier\\keypoint_classifier.hdf5\n",
            "58/58 [==============================] - 0s 7ms/step - loss: 0.2185 - accuracy: 0.9236 - val_loss: 0.3280 - val_accuracy: 0.8740\n",
            "Epoch 95/100\n",
            "48/58 [=======================>......] - ETA: 0s - loss: 0.2216 - accuracy: 0.9217\n",
            "Epoch 95: saving model to model/keypoint_classifier\\keypoint_classifier.hdf5\n",
            "58/58 [==============================] - 0s 7ms/step - loss: 0.2171 - accuracy: 0.9233 - val_loss: 0.2732 - val_accuracy: 0.8781\n",
            "Epoch 96/100\n",
            "53/58 [==========================>...] - ETA: 0s - loss: 0.2208 - accuracy: 0.9204\n",
            "Epoch 96: saving model to model/keypoint_classifier\\keypoint_classifier.hdf5\n",
            "58/58 [==============================] - 0s 7ms/step - loss: 0.2216 - accuracy: 0.9195 - val_loss: 0.2255 - val_accuracy: 0.9156\n",
            "Epoch 97/100\n",
            "54/58 [==========================>...] - ETA: 0s - loss: 0.2153 - accuracy: 0.9223\n",
            "Epoch 97: saving model to model/keypoint_classifier\\keypoint_classifier.hdf5\n",
            "58/58 [==============================] - 0s 7ms/step - loss: 0.2153 - accuracy: 0.9221 - val_loss: 0.2130 - val_accuracy: 0.9201\n",
            "Epoch 98/100\n",
            "54/58 [==========================>...] - ETA: 0s - loss: 0.2052 - accuracy: 0.9251\n",
            "Epoch 98: saving model to model/keypoint_classifier\\keypoint_classifier.hdf5\n",
            "58/58 [==============================] - 0s 7ms/step - loss: 0.2050 - accuracy: 0.9256 - val_loss: 0.2108 - val_accuracy: 0.9241\n",
            "Epoch 99/100\n",
            "58/58 [==============================] - ETA: 0s - loss: 0.2036 - accuracy: 0.9244\n",
            "Epoch 99: saving model to model/keypoint_classifier\\keypoint_classifier.hdf5\n",
            "58/58 [==============================] - 0s 6ms/step - loss: 0.2036 - accuracy: 0.9244 - val_loss: 0.1951 - val_accuracy: 0.9278\n",
            "Epoch 100/100\n",
            "51/58 [=========================>....] - ETA: 0s - loss: 0.2220 - accuracy: 0.9187\n",
            "Epoch 100: saving model to model/keypoint_classifier\\keypoint_classifier.hdf5\n",
            "58/58 [==============================] - 0s 7ms/step - loss: 0.2192 - accuracy: 0.9206 - val_loss: 0.2100 - val_accuracy: 0.9205\n"
          ]
        },
        {
          "data": {
            "text/plain": [
              "<keras.callbacks.History at 0x225ccef18e0>"
            ]
          },
          "execution_count": 32,
          "metadata": {},
          "output_type": "execute_result"
        }
      ],
      "source": [
        "model.fit(\n",
        "    X_train,\n",
        "    y_train,\n",
        "    epochs=100,\n",
        "    batch_size=128,\n",
        "    validation_data=(X_val, y_val),\n",
        "    callbacks=[cp_callback]\n",
        ")"
      ]
    },
    {
      "cell_type": "code",
      "execution_count": 33,
      "metadata": {
        "colab": {
          "base_uri": "https://localhost:8080/"
        },
        "id": "pxvb2Y299hE3",
        "outputId": "59eb3185-2e37-4b9e-bc9d-ab1b8ac29b7f"
      },
      "outputs": [
        {
          "name": "stdout",
          "output_type": "stream",
          "text": [
            "26/26 [==============================] - 0s 3ms/step - loss: 0.2029 - accuracy: 0.9248\n"
          ]
        }
      ],
      "source": [
        "# Model evaluation\n",
        "val_loss, val_acc = model.evaluate(X_test, y_test, batch_size=128)"
      ]
    },
    {
      "cell_type": "code",
      "execution_count": 34,
      "metadata": {
        "id": "RBkmDeUW9hE4"
      },
      "outputs": [],
      "source": [
        "# Loading the saved model\n",
        "model = tf.keras.models.load_model(model_save_path)"
      ]
    },
    {
      "cell_type": "code",
      "execution_count": 35,
      "metadata": {},
      "outputs": [
        {
          "data": {
            "text/plain": [
              "(42,)"
            ]
          },
          "execution_count": 35,
          "metadata": {},
          "output_type": "execute_result"
        }
      ],
      "source": [
        "X_test[0].shape"
      ]
    },
    {
      "cell_type": "code",
      "execution_count": 36,
      "metadata": {
        "colab": {
          "base_uri": "https://localhost:8080/"
        },
        "id": "tFz9Tb0I9hE4",
        "outputId": "1c3b3528-54ae-4ee2-ab04-77429211cbef"
      },
      "outputs": [
        {
          "name": "stdout",
          "output_type": "stream",
          "text": [
            "1/1 [==============================] - 0s 84ms/step\n",
            "[1.48644431e-05 4.99428454e-09 4.18325072e-08 5.19103417e-03\n",
            " 9.22741137e-08 8.97733585e-08 2.53476435e-03 1.96558218e-02\n",
            " 3.81578815e-07 4.08543227e-03 1.09850328e-06 4.91296021e-07\n",
            " 1.14328832e-04 5.06766773e-05 7.22463665e-05 3.51113122e-05\n",
            " 7.66302719e-07 4.39877567e-06 2.82865240e-05 9.66795504e-01\n",
            " 4.50409452e-08 1.03557218e-10 4.89129082e-13 1.40147365e-03\n",
            " 2.35421311e-07 1.27537605e-05]\n",
            "19\n"
          ]
        }
      ],
      "source": [
        "# Inference test\n",
        "predict_result = model.predict(np.array([X_test[0]]))\n",
        "print(np.squeeze(predict_result))\n",
        "print(np.argmax(np.squeeze(predict_result)))"
      ]
    },
    {
      "cell_type": "markdown",
      "metadata": {
        "id": "S3U4yNWx9hE4"
      },
      "source": [
        "# Confusion matrix"
      ]
    },
    {
      "cell_type": "code",
      "execution_count": 37,
      "metadata": {
        "colab": {
          "base_uri": "https://localhost:8080/",
          "height": 582
        },
        "id": "AP1V6SCk9hE5",
        "outputId": "08e41a80-7a4a-4619-8125-ecc371368d19"
      },
      "outputs": [
        {
          "name": "stdout",
          "output_type": "stream",
          "text": [
            "103/103 [==============================] - 0s 1ms/step\n"
          ]
        },
        {
          "data": {
            "image/png": "[encoded data removed]",
            "text/plain": [
              "<Figure size 700x600 with 2 Axes>"
            ]
          },
          "metadata": {},
          "output_type": "display_data"
        },
        {
          "name": "stdout",
          "output_type": "stream",
          "text": [
            "Classification Report\n",
            "              precision    recall  f1-score   support\n",
            "\n",
            "           0       0.98      0.99      0.98       125\n",
            "           1       1.00      1.00      1.00       126\n",
            "           2       1.00      0.95      0.98       126\n",
            "           3       0.79      0.95      0.87       126\n",
            "           4       1.00      0.90      0.95       126\n",
            "           5       1.00      1.00      1.00       126\n",
            "           6       1.00      0.98      0.99       126\n",
            "           7       1.00      1.00      1.00       126\n",
            "           8       0.94      1.00      0.97       125\n",
            "           9       1.00      1.00      1.00       125\n",
            "          10       0.99      1.00      1.00       126\n",
            "          11       0.96      1.00      0.98       125\n",
            "          12       0.99      0.99      0.99       126\n",
            "          13       1.00      0.95      0.98       126\n",
            "          14       1.00      0.82      0.90       126\n",
            "          15       1.00      1.00      1.00       126\n",
            "          16       1.00      0.99      1.00       125\n",
            "          17       0.95      0.97      0.96       126\n",
            "          18       0.92      0.98      0.95       126\n",
            "          19       1.00      1.00      1.00       126\n",
            "          20       1.00      0.04      0.08       126\n",
            "          21       0.52      1.00      0.68       126\n",
            "          22       1.00      1.00      1.00       126\n",
            "          23       1.00      0.57      0.73       126\n",
            "          24       1.00      0.95      0.98       125\n",
            "          25       0.67      1.00      0.81       126\n",
            "\n",
            "    accuracy                           0.92      3270\n",
            "   macro avg       0.95      0.92      0.91      3270\n",
            "weighted avg       0.95      0.92      0.91      3270\n",
            "\n"
          ]
        }
      ],
      "source": [
        "import pandas as pd\n",
        "import seaborn as sns\n",
        "import matplotlib.pyplot as plt\n",
        "from sklearn.metrics import confusion_matrix, classification_report\n",
        "\n",
        "def print_confusion_matrix(y_true, y_pred, report=True):\n",
        "    labels = sorted(list(set(y_true)))\n",
        "    cmx_data = confusion_matrix(y_true, y_pred, labels=labels)\n",
        "    \n",
        "    df_cmx = pd.DataFrame(cmx_data, index=labels, columns=labels)\n",
        " \n",
        "    fig, ax = plt.subplots(figsize=(7, 6))\n",
        "    sns.heatmap(df_cmx, annot=True, fmt='g' ,square=False)\n",
        "    ax.set_ylim(len(set(y_true)), 0)\n",
        "    plt.show()\n",
        "    \n",
        "    if report:\n",
        "        print('Classification Report')\n",
        "        print(classification_report(y_test, y_pred))\n",
        "\n",
        "Y_pred = model.predict(X_test)\n",
        "y_pred = np.argmax(Y_pred, axis=1)\n",
        "\n",
        "print_confusion_matrix(y_test, y_pred)"
      ]
    },
    {
      "cell_type": "markdown",
      "metadata": {
        "id": "FNP6aqzc9hE5"
      },
      "source": [
        "# Convert to model for Tensorflow-Lite"
      ]
    },
    {
      "cell_type": "code",
      "execution_count": 38,
      "metadata": {
        "id": "ODjnYyld9hE6"
      },
      "outputs": [],
      "source": [
        "# Save as a model dedicated to inference\n",
        "model.save(model_save_path, include_optimizer=False)"
      ]
    },
    {
      "cell_type": "code",
      "execution_count": 39,
      "metadata": {
        "colab": {
          "base_uri": "https://localhost:8080/"
        },
        "id": "zRfuK8Y59hE6",
        "outputId": "a4ca585c-b5d5-4244-8291-8674063209bb"
      },
      "outputs": [
        {
          "name": "stderr",
          "output_type": "stream",
          "text": [
            "WARNING:absl:Found untraced functions such as _update_step_xla while saving (showing 1 of 1). These functions will not be directly callable after loading.\n"
          ]
        },
        {
          "name": "stdout",
          "output_type": "stream",
          "text": [
            "INFO:tensorflow:Assets written to: C:\\Users\\Alfian\\AppData\\Local\\Temp\\tmpfsilhia7\\assets\n"
          ]
        },
        {
          "name": "stderr",
          "output_type": "stream",
          "text": [
            "INFO:tensorflow:Assets written to: C:\\Users\\Alfian\\AppData\\Local\\Temp\\tmpfsilhia7\\assets\n"
          ]
        },
        {
          "data": {
            "text/plain": [
              "164704"
            ]
          },
          "execution_count": 39,
          "metadata": {},
          "output_type": "execute_result"
        }
      ],
      "source": [
        "# Transform model (quantization)\n",
        "\n",
        "converter = tf.lite.TFLiteConverter.from_keras_model(model)\n",
        "converter.optimizations = [tf.lite.Optimize.DEFAULT]\n",
        "tflite_quantized_model = converter.convert()\n",
        "\n",
        "open(tflite_save_path, 'wb').write(tflite_quantized_model)"
      ]
    },
    {
      "cell_type": "markdown",
      "metadata": {
        "id": "CHBPBXdx9hE6"
      },
      "source": [
        "# Inference test"
      ]
    },
    {
      "cell_type": "code",
      "execution_count": 40,
      "metadata": {
        "id": "mGAzLocO9hE7"
      },
      "outputs": [],
      "source": [
        "interpreter = tf.lite.Interpreter(model_path=tflite_save_path)\n",
        "interpreter.allocate_tensors()"
      ]
    },
    {
      "cell_type": "code",
      "execution_count": 41,
      "metadata": {
        "id": "oQuDK8YS9hE7"
      },
      "outputs": [],
      "source": [
        "# Get I / O tensor\n",
        "input_details = interpreter.get_input_details()\n",
        "output_details = interpreter.get_output_details()"
      ]
    },
    {
      "cell_type": "code",
      "execution_count": 42,
      "metadata": {
        "id": "2_ixAf_l9hE7"
      },
      "outputs": [],
      "source": [
        "interpreter.set_tensor(input_details[0]['index'], np.array([X_test[0]]))"
      ]
    },
    {
      "cell_type": "code",
      "execution_count": 43,
      "metadata": {
        "colab": {
          "base_uri": "https://localhost:8080/"
        },
        "id": "s4FoAnuc9hE7",
        "outputId": "91f18257-8d8b-4ef3-c558-e9b5f94fabbf",
        "scrolled": true
      },
      "outputs": [
        {
          "name": "stdout",
          "output_type": "stream",
          "text": [
            "CPU times: total: 0 ns\n",
            "Wall time: 3.57 ms\n"
          ]
        }
      ],
      "source": [
        "%%time\n",
        "# Inference implementation\n",
        "interpreter.invoke()\n",
        "tflite_results = interpreter.get_tensor(output_details[0]['index'])"
      ]
    },
    {
      "cell_type": "code",
      "execution_count": 44,
      "metadata": {
        "colab": {
          "base_uri": "https://localhost:8080/"
        },
        "id": "vONjp19J9hE8",
        "outputId": "77205e24-fd00-42c4-f7b6-e06e527c2cba"
      },
      "outputs": [
        {
          "name": "stdout",
          "output_type": "stream",
          "text": [
            "[1.5574529e-05 6.3236989e-09 4.8830376e-08 5.3025028e-03 1.1707144e-07\n",
            " 1.1157938e-07 2.7137569e-03 2.1514257e-02 4.6191201e-07 4.6058008e-03\n",
            " 1.1691061e-06 5.4413607e-07 1.2143861e-04 5.1135288e-05 7.6437573e-05\n",
            " 4.0408548e-05 8.7589643e-07 4.8954835e-06 3.2211243e-05 9.6401203e-01\n",
            " 5.1206410e-08 1.1887925e-10 6.3315195e-13 1.4911322e-03 2.7602022e-07\n",
            " 1.4837925e-05]\n",
            "19\n"
          ]
        }
      ],
      "source": [
        "print(np.squeeze(tflite_results))\n",
        "print(np.argmax(np.squeeze(tflite_results)))"
      ]
    },
    {
      "cell_type": "code",
      "execution_count": null,
      "metadata": {},
      "outputs": [],
      "source": []
    }
  ],
  "metadata": {
    "accelerator": "GPU",
    "colab": {
      "collapsed_sections": [],
      "name": "keypoint_classification_EN.ipynb",
      "provenance": [],
      "toc_visible": true
    },
    "kernelspec": {
      "display_name": "Python 3.8.12 ('manisya')",
      "language": "python",
      "name": "python3"
    },
    "language_info": {
      "codemirror_mode": {
        "name": "ipython",
        "version": 3
      },
      "file_extension": ".py",
      "mimetype": "text/x-python",
      "name": "python",
      "nbconvert_exporter": "python",
      "pygments_lexer": "ipython3",
      "version": "3.8.15"
    },
    "vscode": {
      "interpreter": {
        "hash": "d32f55ab14ccf165a807847bf3bd71a6d3ac9b7802bd2c99c93b000cc2002ae9"
      }
    }
  },
  "nbformat": 4,
  "nbformat_minor": 0
}
