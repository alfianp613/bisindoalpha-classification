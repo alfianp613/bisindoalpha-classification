{
  "cells": [
    {
      "cell_type": "code",
      "execution_count": 1,
      "metadata": {
        "id": "igMyGnjE9hEp"
      },
      "outputs": [],
      "source": [
        "import csv\n",
        "\n",
        "import numpy as np\n",
        "import tensorflow as tf\n",
        "from sklearn.model_selection import train_test_split\n",
        "\n",
        "RANDOM_SEED = 42"
      ]
    },
    {
      "cell_type": "markdown",
      "metadata": {
        "id": "t2HDvhIu9hEr"
      },
      "source": [
        "# Specify each path"
      ]
    },
    {
      "cell_type": "code",
      "execution_count": 2,
      "metadata": {
        "id": "9NvZP2Zn9hEy"
      },
      "outputs": [],
      "source": [
        "dataset = 'model/keypoint_classifier/keypoint.csv'\n",
        "model_save_path = 'model/keypoint_classifier/keypoint_classifier.hdf5'\n",
        "tflite_save_path = 'model/keypoint_classifier/keypoint_classifier.tflite'"
      ]
    },
    {
      "cell_type": "markdown",
      "metadata": {
        "id": "s5oMH7x19hEz"
      },
      "source": [
        "# Set number of classes"
      ]
    },
    {
      "cell_type": "code",
      "execution_count": 3,
      "metadata": {
        "id": "du4kodXL9hEz"
      },
      "outputs": [],
      "source": [
        "NUM_CLASSES = 5"
      ]
    },
    {
      "cell_type": "markdown",
      "metadata": {
        "id": "XjnL0uso9hEz"
      },
      "source": [
        "# Dataset reading"
      ]
    },
    {
      "cell_type": "code",
      "execution_count": 4,
      "metadata": {
        "id": "QT5ZqtEz9hE0"
      },
      "outputs": [],
      "source": [
        "X_dataset = np.loadtxt(dataset, delimiter=',', dtype='float32', usecols=list(range(1, (21 * 2) + 1)))"
      ]
    },
    {
      "cell_type": "code",
      "execution_count": 5,
      "metadata": {
        "id": "QmoKFsp49hE0"
      },
      "outputs": [],
      "source": [
        "y_dataset = np.loadtxt(dataset, delimiter=',', dtype='int32', usecols=(0))"
      ]
    },
    {
      "cell_type": "code",
      "execution_count": 6,
      "metadata": {
        "id": "xQU7JTZ_9hE0"
      },
      "outputs": [],
      "source": [
        "X_train, X_test, y_train, y_test = train_test_split(X_dataset, y_dataset, train_size=0.75, random_state=RANDOM_SEED)"
      ]
    },
    {
      "cell_type": "markdown",
      "metadata": {
        "id": "mxK_lETT9hE0"
      },
      "source": [
        "# Model building"
      ]
    },
    {
      "cell_type": "code",
      "execution_count": 7,
      "metadata": {
        "id": "vHBmUf1t9hE1"
      },
      "outputs": [],
      "source": [
        "model = tf.keras.models.Sequential([\n",
        "    tf.keras.layers.Input((21 * 2, )),\n",
        "    tf.keras.layers.Dropout(0.2),\n",
        "    tf.keras.layers.Dense(20, activation='relu'),\n",
        "    tf.keras.layers.Dropout(0.4),\n",
        "    tf.keras.layers.Dense(10, activation='relu'),\n",
        "    tf.keras.layers.Dense(NUM_CLASSES, activation='softmax')\n",
        "])"
      ]
    },
    {
      "cell_type": "code",
      "execution_count": 8,
      "metadata": {
        "colab": {
          "base_uri": "https://localhost:8080/"
        },
        "id": "ypqky9tc9hE1",
        "outputId": "5db082bb-30e3-4110-bf63-a1ee777ecd46"
      },
      "outputs": [
        {
          "name": "stdout",
          "output_type": "stream",
          "text": [
            "Model: \"sequential\"\n",
            "_________________________________________________________________\n",
            " Layer (type)                Output Shape              Param #   \n",
            "=================================================================\n",
            " dropout (Dropout)           (None, 42)                0         \n",
            "                                                                 \n",
            " dense (Dense)               (None, 20)                860       \n",
            "                                                                 \n",
            " dropout_1 (Dropout)         (None, 20)                0         \n",
            "                                                                 \n",
            " dense_1 (Dense)             (None, 10)                210       \n",
            "                                                                 \n",
            " dense_2 (Dense)             (None, 5)                 55        \n",
            "                                                                 \n",
            "=================================================================\n",
            "Total params: 1,125\n",
            "Trainable params: 1,125\n",
            "Non-trainable params: 0\n",
            "_________________________________________________________________\n"
          ]
        }
      ],
      "source": [
        "model.summary()  # tf.keras.utils.plot_model(model, show_shapes=True)"
      ]
    },
    {
      "cell_type": "code",
      "execution_count": 9,
      "metadata": {
        "id": "MbMjOflQ9hE1"
      },
      "outputs": [],
      "source": [
        "# Model checkpoint callback\n",
        "cp_callback = tf.keras.callbacks.ModelCheckpoint(\n",
        "    model_save_path, verbose=1, save_weights_only=False)\n",
        "# Callback for early stopping\n",
        "es_callback = tf.keras.callbacks.EarlyStopping(patience=20, verbose=1)"
      ]
    },
    {
      "cell_type": "code",
      "execution_count": 10,
      "metadata": {
        "id": "c3Dac0M_9hE2"
      },
      "outputs": [],
      "source": [
        "# Model compilation\n",
        "model.compile(\n",
        "    optimizer='adam',\n",
        "    loss='sparse_categorical_crossentropy',\n",
        "    metrics=['accuracy']\n",
        ")"
      ]
    },
    {
      "cell_type": "markdown",
      "metadata": {
        "id": "7XI0j1Iu9hE2"
      },
      "source": [
        "# Model training"
      ]
    },
    {
      "cell_type": "code",
      "execution_count": 11,
      "metadata": {
        "colab": {
          "base_uri": "https://localhost:8080/"
        },
        "id": "WirBl-JE9hE3",
        "outputId": "71b30ca2-8294-4d9d-8aa2-800d90d399de",
        "scrolled": true
      },
      "outputs": [
        {
          "name": "stdout",
          "output_type": "stream",
          "text": [
            "Epoch 1/1000\n",
            " 1/30 [>.............................] - ETA: 18s - loss: 1.7082 - accuracy: 0.2500\n",
            "Epoch 1: saving model to model/keypoint_classifier\\keypoint_classifier.hdf5\n",
            "30/30 [==============================] - 1s 17ms/step - loss: 1.6055 - accuracy: 0.2697 - val_loss: 1.4938 - val_accuracy: 0.3412\n",
            "Epoch 2/1000\n",
            "27/30 [==========================>...] - ETA: 0s - loss: 1.4542 - accuracy: 0.3472\n",
            "Epoch 2: saving model to model/keypoint_classifier\\keypoint_classifier.hdf5\n",
            "30/30 [==============================] - 0s 4ms/step - loss: 1.4482 - accuracy: 0.3496 - val_loss: 1.3820 - val_accuracy: 0.3617\n",
            "Epoch 3/1000\n",
            "27/30 [==========================>...] - ETA: 0s - loss: 1.3724 - accuracy: 0.3938\n",
            "Epoch 3: saving model to model/keypoint_classifier\\keypoint_classifier.hdf5\n",
            "30/30 [==============================] - 0s 5ms/step - loss: 1.3690 - accuracy: 0.3930 - val_loss: 1.2821 - val_accuracy: 0.4405\n",
            "Epoch 4/1000\n",
            "29/30 [============================>.] - ETA: 0s - loss: 1.2980 - accuracy: 0.4399\n",
            "Epoch 4: saving model to model/keypoint_classifier\\keypoint_classifier.hdf5\n",
            "30/30 [==============================] - 0s 4ms/step - loss: 1.2989 - accuracy: 0.4406 - val_loss: 1.1914 - val_accuracy: 0.5855\n",
            "Epoch 5/1000\n",
            "28/30 [===========================>..] - ETA: 0s - loss: 1.2432 - accuracy: 0.4715\n",
            "Epoch 5: saving model to model/keypoint_classifier\\keypoint_classifier.hdf5\n",
            "30/30 [==============================] - 0s 4ms/step - loss: 1.2418 - accuracy: 0.4708 - val_loss: 1.1052 - val_accuracy: 0.6304\n",
            "Epoch 6/1000\n",
            " 1/30 [>.............................] - ETA: 0s - loss: 1.3079 - accuracy: 0.4609\n",
            "Epoch 6: saving model to model/keypoint_classifier\\keypoint_classifier.hdf5\n",
            "30/30 [==============================] - 0s 4ms/step - loss: 1.1853 - accuracy: 0.4992 - val_loss: 1.0343 - val_accuracy: 0.6517\n",
            "Epoch 7/1000\n",
            "26/30 [=========================>....] - ETA: 0s - loss: 1.1510 - accuracy: 0.5231\n",
            "Epoch 7: saving model to model/keypoint_classifier\\keypoint_classifier.hdf5\n",
            "30/30 [==============================] - 0s 4ms/step - loss: 1.1493 - accuracy: 0.5229 - val_loss: 0.9757 - val_accuracy: 0.6509\n",
            "Epoch 8/1000\n",
            "28/30 [===========================>..] - ETA: 0s - loss: 1.1193 - accuracy: 0.5259\n",
            "Epoch 8: saving model to model/keypoint_classifier\\keypoint_classifier.hdf5\n",
            "30/30 [==============================] - 0s 4ms/step - loss: 1.1176 - accuracy: 0.5271 - val_loss: 0.9242 - val_accuracy: 0.7092\n",
            "Epoch 9/1000\n",
            " 1/30 [>.............................] - ETA: 0s - loss: 1.1229 - accuracy: 0.6094\n",
            "Epoch 9: saving model to model/keypoint_classifier\\keypoint_classifier.hdf5\n",
            "30/30 [==============================] - 0s 4ms/step - loss: 1.0876 - accuracy: 0.5431 - val_loss: 0.8747 - val_accuracy: 0.7124\n",
            "Epoch 10/1000\n",
            " 1/30 [>.............................] - ETA: 0s - loss: 1.1139 - accuracy: 0.5469\n",
            "Epoch 10: saving model to model/keypoint_classifier\\keypoint_classifier.hdf5\n",
            "30/30 [==============================] - 0s 4ms/step - loss: 1.0583 - accuracy: 0.5513 - val_loss: 0.8315 - val_accuracy: 0.7336\n",
            "Epoch 11/1000\n",
            " 1/30 [>.............................] - ETA: 0s - loss: 1.0776 - accuracy: 0.5703\n",
            "Epoch 11: saving model to model/keypoint_classifier\\keypoint_classifier.hdf5\n",
            "30/30 [==============================] - 0s 4ms/step - loss: 1.0275 - accuracy: 0.5773 - val_loss: 0.7960 - val_accuracy: 0.7557\n",
            "Epoch 12/1000\n",
            " 1/30 [>.............................] - ETA: 0s - loss: 1.0281 - accuracy: 0.5625\n",
            "Epoch 12: saving model to model/keypoint_classifier\\keypoint_classifier.hdf5\n",
            "30/30 [==============================] - 0s 4ms/step - loss: 1.0156 - accuracy: 0.5810 - val_loss: 0.7666 - val_accuracy: 0.7817\n",
            "Epoch 13/1000\n",
            " 1/30 [>.............................] - ETA: 0s - loss: 0.9910 - accuracy: 0.5781\n",
            "Epoch 13: saving model to model/keypoint_classifier\\keypoint_classifier.hdf5\n",
            "30/30 [==============================] - 0s 4ms/step - loss: 0.9751 - accuracy: 0.5902 - val_loss: 0.7384 - val_accuracy: 0.7912\n",
            "Epoch 14/1000\n",
            " 1/30 [>.............................] - ETA: 0s - loss: 1.0381 - accuracy: 0.5547\n",
            "Epoch 14: saving model to model/keypoint_classifier\\keypoint_classifier.hdf5\n",
            "30/30 [==============================] - 0s 4ms/step - loss: 0.9784 - accuracy: 0.6054 - val_loss: 0.7085 - val_accuracy: 0.8022\n",
            "Epoch 15/1000\n",
            " 1/30 [>.............................] - ETA: 0s - loss: 0.8183 - accuracy: 0.7031\n",
            "Epoch 15: saving model to model/keypoint_classifier\\keypoint_classifier.hdf5\n",
            "30/30 [==============================] - 0s 4ms/step - loss: 0.9358 - accuracy: 0.6262 - val_loss: 0.6774 - val_accuracy: 0.8195\n",
            "Epoch 16/1000\n",
            "29/30 [============================>.] - ETA: 0s - loss: 0.9254 - accuracy: 0.6150\n",
            "Epoch 16: saving model to model/keypoint_classifier\\keypoint_classifier.hdf5\n",
            "30/30 [==============================] - 0s 4ms/step - loss: 0.9258 - accuracy: 0.6157 - val_loss: 0.6592 - val_accuracy: 0.8219\n",
            "Epoch 17/1000\n",
            "26/30 [=========================>....] - ETA: 0s - loss: 0.9130 - accuracy: 0.6337\n",
            "Epoch 17: saving model to model/keypoint_classifier\\keypoint_classifier.hdf5\n",
            "30/30 [==============================] - 0s 4ms/step - loss: 0.9117 - accuracy: 0.6333 - val_loss: 0.6383 - val_accuracy: 0.8385\n",
            "Epoch 18/1000\n",
            "23/30 [======================>.......] - ETA: 0s - loss: 0.8923 - accuracy: 0.6410\n",
            "Epoch 18: saving model to model/keypoint_classifier\\keypoint_classifier.hdf5\n",
            "30/30 [==============================] - 0s 5ms/step - loss: 0.8888 - accuracy: 0.6438 - val_loss: 0.6124 - val_accuracy: 0.8408\n",
            "Epoch 19/1000\n",
            "27/30 [==========================>...] - ETA: 0s - loss: 0.8999 - accuracy: 0.6369\n",
            "Epoch 19: saving model to model/keypoint_classifier\\keypoint_classifier.hdf5\n",
            "30/30 [==============================] - 0s 5ms/step - loss: 0.8997 - accuracy: 0.6341 - val_loss: 0.5954 - val_accuracy: 0.8511\n",
            "Epoch 20/1000\n",
            "29/30 [============================>.] - ETA: 0s - loss: 0.8686 - accuracy: 0.6498\n",
            "Epoch 20: saving model to model/keypoint_classifier\\keypoint_classifier.hdf5\n",
            "30/30 [==============================] - 0s 4ms/step - loss: 0.8693 - accuracy: 0.6475 - val_loss: 0.5803 - val_accuracy: 0.8558\n",
            "Epoch 21/1000\n",
            " 1/30 [>.............................] - ETA: 0s - loss: 0.9652 - accuracy: 0.5859\n",
            "Epoch 21: saving model to model/keypoint_classifier\\keypoint_classifier.hdf5\n",
            "30/30 [==============================] - 0s 4ms/step - loss: 0.8658 - accuracy: 0.6572 - val_loss: 0.5650 - val_accuracy: 0.8597\n",
            "Epoch 22/1000\n",
            "30/30 [==============================] - ETA: 0s - loss: 0.8625 - accuracy: 0.6654\n",
            "Epoch 22: saving model to model/keypoint_classifier\\keypoint_classifier.hdf5\n",
            "30/30 [==============================] - 0s 4ms/step - loss: 0.8625 - accuracy: 0.6654 - val_loss: 0.5494 - val_accuracy: 0.8637\n",
            "Epoch 23/1000\n",
            " 1/30 [>.............................] - ETA: 0s - loss: 0.9338 - accuracy: 0.6172\n",
            "Epoch 23: saving model to model/keypoint_classifier\\keypoint_classifier.hdf5\n",
            "30/30 [==============================] - 0s 4ms/step - loss: 0.8588 - accuracy: 0.6583 - val_loss: 0.5335 - val_accuracy: 0.8660\n",
            "Epoch 24/1000\n",
            "28/30 [===========================>..] - ETA: 0s - loss: 0.8242 - accuracy: 0.6761\n",
            "Epoch 24: saving model to model/keypoint_classifier\\keypoint_classifier.hdf5\n",
            "30/30 [==============================] - 0s 4ms/step - loss: 0.8300 - accuracy: 0.6746 - val_loss: 0.5197 - val_accuracy: 0.8708\n",
            "Epoch 25/1000\n",
            "26/30 [=========================>....] - ETA: 0s - loss: 0.8269 - accuracy: 0.6779\n",
            "Epoch 25: saving model to model/keypoint_classifier\\keypoint_classifier.hdf5\n",
            "30/30 [==============================] - 0s 4ms/step - loss: 0.8240 - accuracy: 0.6780 - val_loss: 0.5014 - val_accuracy: 0.8794\n",
            "Epoch 26/1000\n",
            " 1/30 [>.............................] - ETA: 0s - loss: 0.8244 - accuracy: 0.6953\n",
            "Epoch 26: saving model to model/keypoint_classifier\\keypoint_classifier.hdf5\n",
            "30/30 [==============================] - 0s 4ms/step - loss: 0.8149 - accuracy: 0.6811 - val_loss: 0.4918 - val_accuracy: 0.8779\n",
            "Epoch 27/1000\n",
            "29/30 [============================>.] - ETA: 0s - loss: 0.7930 - accuracy: 0.6915\n",
            "Epoch 27: saving model to model/keypoint_classifier\\keypoint_classifier.hdf5\n",
            "30/30 [==============================] - 0s 4ms/step - loss: 0.7907 - accuracy: 0.6914 - val_loss: 0.4813 - val_accuracy: 0.8810\n",
            "Epoch 28/1000\n",
            " 1/30 [>.............................] - ETA: 0s - loss: 0.7283 - accuracy: 0.7500\n",
            "Epoch 28: saving model to model/keypoint_classifier\\keypoint_classifier.hdf5\n",
            "30/30 [==============================] - 0s 4ms/step - loss: 0.7958 - accuracy: 0.6919 - val_loss: 0.4633 - val_accuracy: 0.8857\n",
            "Epoch 29/1000\n",
            " 1/30 [>.............................] - ETA: 0s - loss: 0.8179 - accuracy: 0.6641\n",
            "Epoch 29: saving model to model/keypoint_classifier\\keypoint_classifier.hdf5\n",
            "30/30 [==============================] - 0s 3ms/step - loss: 0.7678 - accuracy: 0.7056 - val_loss: 0.4551 - val_accuracy: 0.8881\n",
            "Epoch 30/1000\n",
            " 1/30 [>.............................] - ETA: 0s - loss: 0.7726 - accuracy: 0.6484\n",
            "Epoch 30: saving model to model/keypoint_classifier\\keypoint_classifier.hdf5\n",
            "30/30 [==============================] - 0s 3ms/step - loss: 0.7654 - accuracy: 0.6990 - val_loss: 0.4391 - val_accuracy: 0.8889\n",
            "Epoch 31/1000\n",
            " 1/30 [>.............................] - ETA: 0s - loss: 0.7676 - accuracy: 0.6797\n",
            "Epoch 31: saving model to model/keypoint_classifier\\keypoint_classifier.hdf5\n",
            "30/30 [==============================] - 0s 4ms/step - loss: 0.7681 - accuracy: 0.7048 - val_loss: 0.4351 - val_accuracy: 0.8983\n",
            "Epoch 32/1000\n",
            " 1/30 [>.............................] - ETA: 0s - loss: 0.9434 - accuracy: 0.7188\n",
            "Epoch 32: saving model to model/keypoint_classifier\\keypoint_classifier.hdf5\n",
            "30/30 [==============================] - 0s 4ms/step - loss: 0.7599 - accuracy: 0.7072 - val_loss: 0.4174 - val_accuracy: 0.9039\n",
            "Epoch 33/1000\n",
            "30/30 [==============================] - ETA: 0s - loss: 0.7497 - accuracy: 0.7135\n",
            "Epoch 33: saving model to model/keypoint_classifier\\keypoint_classifier.hdf5\n",
            "30/30 [==============================] - 0s 4ms/step - loss: 0.7497 - accuracy: 0.7135 - val_loss: 0.4085 - val_accuracy: 0.9078\n",
            "Epoch 34/1000\n",
            "29/30 [============================>.] - ETA: 0s - loss: 0.7525 - accuracy: 0.7029\n",
            "Epoch 34: saving model to model/keypoint_classifier\\keypoint_classifier.hdf5\n",
            "30/30 [==============================] - 0s 4ms/step - loss: 0.7526 - accuracy: 0.7022 - val_loss: 0.4015 - val_accuracy: 0.9102\n",
            "Epoch 35/1000\n",
            "28/30 [===========================>..] - ETA: 0s - loss: 0.7433 - accuracy: 0.7213\n",
            "Epoch 35: saving model to model/keypoint_classifier\\keypoint_classifier.hdf5\n",
            "30/30 [==============================] - 0s 4ms/step - loss: 0.7447 - accuracy: 0.7192 - val_loss: 0.3982 - val_accuracy: 0.9070\n",
            "Epoch 36/1000\n",
            " 1/30 [>.............................] - ETA: 0s - loss: 0.7622 - accuracy: 0.7422\n",
            "Epoch 36: saving model to model/keypoint_classifier\\keypoint_classifier.hdf5\n",
            "30/30 [==============================] - 0s 4ms/step - loss: 0.7280 - accuracy: 0.7245 - val_loss: 0.3904 - val_accuracy: 0.9117\n",
            "Epoch 37/1000\n",
            " 1/30 [>.............................] - ETA: 0s - loss: 0.7357 - accuracy: 0.7656\n",
            "Epoch 37: saving model to model/keypoint_classifier\\keypoint_classifier.hdf5\n",
            "30/30 [==============================] - 0s 4ms/step - loss: 0.7396 - accuracy: 0.7198 - val_loss: 0.3834 - val_accuracy: 0.9125\n",
            "Epoch 38/1000\n",
            " 1/30 [>.............................] - ETA: 0s - loss: 0.7961 - accuracy: 0.7188\n",
            "Epoch 38: saving model to model/keypoint_classifier\\keypoint_classifier.hdf5\n",
            "30/30 [==============================] - 0s 4ms/step - loss: 0.7280 - accuracy: 0.7295 - val_loss: 0.3755 - val_accuracy: 0.9157\n",
            "Epoch 39/1000\n",
            " 1/30 [>.............................] - ETA: 0s - loss: 0.7422 - accuracy: 0.7109\n",
            "Epoch 39: saving model to model/keypoint_classifier\\keypoint_classifier.hdf5\n",
            "30/30 [==============================] - 0s 4ms/step - loss: 0.7453 - accuracy: 0.7169 - val_loss: 0.3729 - val_accuracy: 0.9141\n",
            "Epoch 40/1000\n",
            " 1/30 [>.............................] - ETA: 0s - loss: 0.7066 - accuracy: 0.7891\n",
            "Epoch 40: saving model to model/keypoint_classifier\\keypoint_classifier.hdf5\n",
            "30/30 [==============================] - 0s 3ms/step - loss: 0.7080 - accuracy: 0.7324 - val_loss: 0.3649 - val_accuracy: 0.9165\n",
            "Epoch 41/1000\n",
            " 1/30 [>.............................] - ETA: 0s - loss: 0.8673 - accuracy: 0.6875\n",
            "Epoch 41: saving model to model/keypoint_classifier\\keypoint_classifier.hdf5\n",
            "30/30 [==============================] - 0s 4ms/step - loss: 0.7245 - accuracy: 0.7305 - val_loss: 0.3560 - val_accuracy: 0.9188\n",
            "Epoch 42/1000\n",
            "26/30 [=========================>....] - ETA: 0s - loss: 0.7053 - accuracy: 0.7338\n",
            "Epoch 42: saving model to model/keypoint_classifier\\keypoint_classifier.hdf5\n",
            "30/30 [==============================] - 0s 5ms/step - loss: 0.7064 - accuracy: 0.7326 - val_loss: 0.3597 - val_accuracy: 0.9165\n",
            "Epoch 43/1000\n",
            "23/30 [======================>.......] - ETA: 0s - loss: 0.7202 - accuracy: 0.7255\n",
            "Epoch 43: saving model to model/keypoint_classifier\\keypoint_classifier.hdf5\n",
            "30/30 [==============================] - 0s 5ms/step - loss: 0.7187 - accuracy: 0.7237 - val_loss: 0.3517 - val_accuracy: 0.9173\n",
            "Epoch 44/1000\n",
            "29/30 [============================>.] - ETA: 0s - loss: 0.7045 - accuracy: 0.7338\n",
            "Epoch 44: saving model to model/keypoint_classifier\\keypoint_classifier.hdf5\n",
            "30/30 [==============================] - 0s 4ms/step - loss: 0.7013 - accuracy: 0.7358 - val_loss: 0.3478 - val_accuracy: 0.9188\n",
            "Epoch 45/1000\n",
            "29/30 [============================>.] - ETA: 0s - loss: 0.6960 - accuracy: 0.7357\n",
            "Epoch 45: saving model to model/keypoint_classifier\\keypoint_classifier.hdf5\n",
            "30/30 [==============================] - 0s 4ms/step - loss: 0.6984 - accuracy: 0.7358 - val_loss: 0.3443 - val_accuracy: 0.9165\n",
            "Epoch 46/1000\n",
            "27/30 [==========================>...] - ETA: 0s - loss: 0.6886 - accuracy: 0.7378\n",
            "Epoch 46: saving model to model/keypoint_classifier\\keypoint_classifier.hdf5\n",
            "30/30 [==============================] - 0s 4ms/step - loss: 0.6851 - accuracy: 0.7405 - val_loss: 0.3363 - val_accuracy: 0.9385\n",
            "Epoch 47/1000\n",
            " 1/30 [>.............................] - ETA: 0s - loss: 0.7036 - accuracy: 0.7500\n",
            "Epoch 47: saving model to model/keypoint_classifier\\keypoint_classifier.hdf5\n",
            "30/30 [==============================] - 0s 4ms/step - loss: 0.6867 - accuracy: 0.7442 - val_loss: 0.3333 - val_accuracy: 0.9275\n",
            "Epoch 48/1000\n",
            " 1/30 [>.............................] - ETA: 0s - loss: 0.6622 - accuracy: 0.7500\n",
            "Epoch 48: saving model to model/keypoint_classifier\\keypoint_classifier.hdf5\n",
            "30/30 [==============================] - 0s 4ms/step - loss: 0.6851 - accuracy: 0.7374 - val_loss: 0.3283 - val_accuracy: 0.9377\n",
            "Epoch 49/1000\n",
            "27/30 [==========================>...] - ETA: 0s - loss: 0.6733 - accuracy: 0.7428\n",
            "Epoch 49: saving model to model/keypoint_classifier\\keypoint_classifier.hdf5\n",
            "30/30 [==============================] - 0s 4ms/step - loss: 0.6700 - accuracy: 0.7461 - val_loss: 0.3216 - val_accuracy: 0.9393\n",
            "Epoch 50/1000\n",
            " 1/30 [>.............................] - ETA: 0s - loss: 0.6507 - accuracy: 0.7656\n",
            "Epoch 50: saving model to model/keypoint_classifier\\keypoint_classifier.hdf5\n",
            "30/30 [==============================] - 0s 4ms/step - loss: 0.6596 - accuracy: 0.7463 - val_loss: 0.3094 - val_accuracy: 0.9377\n",
            "Epoch 51/1000\n",
            "27/30 [==========================>...] - ETA: 0s - loss: 0.6518 - accuracy: 0.7416\n",
            "Epoch 51: saving model to model/keypoint_classifier\\keypoint_classifier.hdf5\n",
            "30/30 [==============================] - 0s 4ms/step - loss: 0.6564 - accuracy: 0.7405 - val_loss: 0.3120 - val_accuracy: 0.9393\n",
            "Epoch 52/1000\n",
            " 1/30 [>.............................] - ETA: 0s - loss: 0.7590 - accuracy: 0.7188\n",
            "Epoch 52: saving model to model/keypoint_classifier\\keypoint_classifier.hdf5\n",
            "30/30 [==============================] - 0s 4ms/step - loss: 0.6551 - accuracy: 0.7445 - val_loss: 0.3077 - val_accuracy: 0.9401\n",
            "Epoch 53/1000\n",
            " 1/30 [>.............................] - ETA: 0s - loss: 0.6585 - accuracy: 0.7109\n",
            "Epoch 53: saving model to model/keypoint_classifier\\keypoint_classifier.hdf5\n",
            "30/30 [==============================] - 0s 4ms/step - loss: 0.6704 - accuracy: 0.7424 - val_loss: 0.3040 - val_accuracy: 0.9464\n",
            "Epoch 54/1000\n",
            " 1/30 [>.............................] - ETA: 0s - loss: 0.7322 - accuracy: 0.6875\n",
            "Epoch 54: saving model to model/keypoint_classifier\\keypoint_classifier.hdf5\n",
            "30/30 [==============================] - 0s 4ms/step - loss: 0.6556 - accuracy: 0.7537 - val_loss: 0.3037 - val_accuracy: 0.9448\n",
            "Epoch 55/1000\n",
            " 1/30 [>.............................] - ETA: 0s - loss: 0.6579 - accuracy: 0.7422\n",
            "Epoch 55: saving model to model/keypoint_classifier\\keypoint_classifier.hdf5\n",
            "30/30 [==============================] - 0s 4ms/step - loss: 0.6354 - accuracy: 0.7524 - val_loss: 0.2941 - val_accuracy: 0.9472\n",
            "Epoch 56/1000\n",
            " 1/30 [>.............................] - ETA: 0s - loss: 0.5876 - accuracy: 0.7656\n",
            "Epoch 56: saving model to model/keypoint_classifier\\keypoint_classifier.hdf5\n",
            "30/30 [==============================] - 0s 4ms/step - loss: 0.6417 - accuracy: 0.7610 - val_loss: 0.2927 - val_accuracy: 0.9393\n",
            "Epoch 57/1000\n",
            " 1/30 [>.............................] - ETA: 0s - loss: 0.4973 - accuracy: 0.8047\n",
            "Epoch 57: saving model to model/keypoint_classifier\\keypoint_classifier.hdf5\n",
            "30/30 [==============================] - 0s 4ms/step - loss: 0.6324 - accuracy: 0.7566 - val_loss: 0.2883 - val_accuracy: 0.9448\n",
            "Epoch 58/1000\n",
            " 1/30 [>.............................] - ETA: 0s - loss: 0.7325 - accuracy: 0.7109\n",
            "Epoch 58: saving model to model/keypoint_classifier\\keypoint_classifier.hdf5\n",
            "30/30 [==============================] - 0s 4ms/step - loss: 0.6676 - accuracy: 0.7400 - val_loss: 0.2923 - val_accuracy: 0.9456\n",
            "Epoch 59/1000\n",
            " 1/30 [>.............................] - ETA: 0s - loss: 0.5638 - accuracy: 0.7734\n",
            "Epoch 59: saving model to model/keypoint_classifier\\keypoint_classifier.hdf5\n",
            "30/30 [==============================] - 0s 4ms/step - loss: 0.6418 - accuracy: 0.7576 - val_loss: 0.2876 - val_accuracy: 0.9464\n",
            "Epoch 60/1000\n",
            "28/30 [===========================>..] - ETA: 0s - loss: 0.6529 - accuracy: 0.7570\n",
            "Epoch 60: saving model to model/keypoint_classifier\\keypoint_classifier.hdf5\n",
            "30/30 [==============================] - 0s 4ms/step - loss: 0.6577 - accuracy: 0.7547 - val_loss: 0.2902 - val_accuracy: 0.9511\n",
            "Epoch 61/1000\n",
            " 1/30 [>.............................] - ETA: 0s - loss: 0.6033 - accuracy: 0.7500\n",
            "Epoch 61: saving model to model/keypoint_classifier\\keypoint_classifier.hdf5\n",
            "30/30 [==============================] - 0s 4ms/step - loss: 0.6531 - accuracy: 0.7516 - val_loss: 0.2825 - val_accuracy: 0.9472\n",
            "Epoch 62/1000\n",
            " 1/30 [>.............................] - ETA: 0s - loss: 0.5548 - accuracy: 0.7578\n",
            "Epoch 62: saving model to model/keypoint_classifier\\keypoint_classifier.hdf5\n",
            "30/30 [==============================] - 0s 4ms/step - loss: 0.6322 - accuracy: 0.7563 - val_loss: 0.2730 - val_accuracy: 0.9527\n",
            "Epoch 63/1000\n",
            " 1/30 [>.............................] - ETA: 0s - loss: 0.6894 - accuracy: 0.7266\n",
            "Epoch 63: saving model to model/keypoint_classifier\\keypoint_classifier.hdf5\n",
            "30/30 [==============================] - 0s 4ms/step - loss: 0.6593 - accuracy: 0.7511 - val_loss: 0.2830 - val_accuracy: 0.9441\n",
            "Epoch 64/1000\n",
            " 1/30 [>.............................] - ETA: 0s - loss: 0.6148 - accuracy: 0.7578\n",
            "Epoch 64: saving model to model/keypoint_classifier\\keypoint_classifier.hdf5\n",
            "30/30 [==============================] - 0s 4ms/step - loss: 0.6450 - accuracy: 0.7434 - val_loss: 0.2759 - val_accuracy: 0.9551\n",
            "Epoch 65/1000\n",
            " 1/30 [>.............................] - ETA: 0s - loss: 0.6949 - accuracy: 0.7031\n",
            "Epoch 65: saving model to model/keypoint_classifier\\keypoint_classifier.hdf5\n",
            "30/30 [==============================] - 0s 4ms/step - loss: 0.6387 - accuracy: 0.7566 - val_loss: 0.2719 - val_accuracy: 0.9543\n",
            "Epoch 66/1000\n",
            " 1/30 [>.............................] - ETA: 0s - loss: 0.6076 - accuracy: 0.7812\n",
            "Epoch 66: saving model to model/keypoint_classifier\\keypoint_classifier.hdf5\n",
            "30/30 [==============================] - 0s 4ms/step - loss: 0.6335 - accuracy: 0.7595 - val_loss: 0.2752 - val_accuracy: 0.9543\n",
            "Epoch 67/1000\n",
            " 1/30 [>.............................] - ETA: 0s - loss: 0.5979 - accuracy: 0.7500\n",
            "Epoch 67: saving model to model/keypoint_classifier\\keypoint_classifier.hdf5\n",
            "30/30 [==============================] - 0s 4ms/step - loss: 0.6369 - accuracy: 0.7532 - val_loss: 0.2678 - val_accuracy: 0.9543\n",
            "Epoch 68/1000\n",
            " 1/30 [>.............................] - ETA: 0s - loss: 0.6376 - accuracy: 0.7656\n",
            "Epoch 68: saving model to model/keypoint_classifier\\keypoint_classifier.hdf5\n",
            "30/30 [==============================] - 0s 4ms/step - loss: 0.6384 - accuracy: 0.7597 - val_loss: 0.2709 - val_accuracy: 0.9519\n",
            "Epoch 69/1000\n",
            "24/30 [=======================>......] - ETA: 0s - loss: 0.6077 - accuracy: 0.7705\n",
            "Epoch 69: saving model to model/keypoint_classifier\\keypoint_classifier.hdf5\n",
            "30/30 [==============================] - 0s 5ms/step - loss: 0.6139 - accuracy: 0.7658 - val_loss: 0.2638 - val_accuracy: 0.9551\n",
            "Epoch 70/1000\n",
            "27/30 [==========================>...] - ETA: 0s - loss: 0.6184 - accuracy: 0.7584\n",
            "Epoch 70: saving model to model/keypoint_classifier\\keypoint_classifier.hdf5\n",
            "30/30 [==============================] - 0s 4ms/step - loss: 0.6256 - accuracy: 0.7576 - val_loss: 0.2640 - val_accuracy: 0.9527\n",
            "Epoch 71/1000\n",
            "29/30 [============================>.] - ETA: 0s - loss: 0.6330 - accuracy: 0.7610\n",
            "Epoch 71: saving model to model/keypoint_classifier\\keypoint_classifier.hdf5\n",
            "30/30 [==============================] - 0s 4ms/step - loss: 0.6310 - accuracy: 0.7631 - val_loss: 0.2670 - val_accuracy: 0.9488\n",
            "Epoch 72/1000\n",
            "29/30 [============================>.] - ETA: 0s - loss: 0.6320 - accuracy: 0.7632\n",
            "Epoch 72: saving model to model/keypoint_classifier\\keypoint_classifier.hdf5\n",
            "30/30 [==============================] - 0s 4ms/step - loss: 0.6312 - accuracy: 0.7642 - val_loss: 0.2625 - val_accuracy: 0.9527\n",
            "Epoch 73/1000\n",
            " 1/30 [>.............................] - ETA: 0s - loss: 0.5042 - accuracy: 0.8281\n",
            "Epoch 73: saving model to model/keypoint_classifier\\keypoint_classifier.hdf5\n",
            "30/30 [==============================] - 0s 4ms/step - loss: 0.6166 - accuracy: 0.7684 - val_loss: 0.2567 - val_accuracy: 0.9598\n",
            "Epoch 74/1000\n",
            " 1/30 [>.............................] - ETA: 0s - loss: 0.5192 - accuracy: 0.8047\n",
            "Epoch 74: saving model to model/keypoint_classifier\\keypoint_classifier.hdf5\n",
            "30/30 [==============================] - 0s 4ms/step - loss: 0.6018 - accuracy: 0.7729 - val_loss: 0.2642 - val_accuracy: 0.9504\n",
            "Epoch 75/1000\n",
            "10/30 [=========>....................] - ETA: 0s - loss: 0.5951 - accuracy: 0.7656\n",
            "Epoch 75: saving model to model/keypoint_classifier\\keypoint_classifier.hdf5\n",
            "30/30 [==============================] - 0s 5ms/step - loss: 0.6170 - accuracy: 0.7663 - val_loss: 0.2538 - val_accuracy: 0.9511\n",
            "Epoch 76/1000\n",
            "30/30 [==============================] - ETA: 0s - loss: 0.6135 - accuracy: 0.7710\n",
            "Epoch 76: saving model to model/keypoint_classifier\\keypoint_classifier.hdf5\n",
            "30/30 [==============================] - 0s 4ms/step - loss: 0.6135 - accuracy: 0.7710 - val_loss: 0.2552 - val_accuracy: 0.9527\n",
            "Epoch 77/1000\n",
            " 1/30 [>.............................] - ETA: 0s - loss: 0.6770 - accuracy: 0.7266\n",
            "Epoch 77: saving model to model/keypoint_classifier\\keypoint_classifier.hdf5\n",
            "30/30 [==============================] - 0s 4ms/step - loss: 0.6122 - accuracy: 0.7731 - val_loss: 0.2538 - val_accuracy: 0.9527\n",
            "Epoch 78/1000\n",
            " 1/30 [>.............................] - ETA: 0s - loss: 0.6317 - accuracy: 0.7188\n",
            "Epoch 78: saving model to model/keypoint_classifier\\keypoint_classifier.hdf5\n",
            "30/30 [==============================] - 0s 4ms/step - loss: 0.6194 - accuracy: 0.7616 - val_loss: 0.2517 - val_accuracy: 0.9543\n",
            "Epoch 79/1000\n",
            " 1/30 [>.............................] - ETA: 0s - loss: 0.7755 - accuracy: 0.7266\n",
            "Epoch 79: saving model to model/keypoint_classifier\\keypoint_classifier.hdf5\n",
            "30/30 [==============================] - 0s 4ms/step - loss: 0.5818 - accuracy: 0.7800 - val_loss: 0.2445 - val_accuracy: 0.9519\n",
            "Epoch 80/1000\n",
            "26/30 [=========================>....] - ETA: 0s - loss: 0.6030 - accuracy: 0.7701\n",
            "Epoch 80: saving model to model/keypoint_classifier\\keypoint_classifier.hdf5\n",
            "30/30 [==============================] - 0s 4ms/step - loss: 0.6056 - accuracy: 0.7676 - val_loss: 0.2460 - val_accuracy: 0.9543\n",
            "Epoch 81/1000\n",
            "29/30 [============================>.] - ETA: 0s - loss: 0.6027 - accuracy: 0.7694\n",
            "Epoch 81: saving model to model/keypoint_classifier\\keypoint_classifier.hdf5\n",
            "30/30 [==============================] - 0s 4ms/step - loss: 0.6020 - accuracy: 0.7697 - val_loss: 0.2457 - val_accuracy: 0.9598\n",
            "Epoch 82/1000\n",
            " 1/30 [>.............................] - ETA: 0s - loss: 0.5482 - accuracy: 0.7734\n",
            "Epoch 82: saving model to model/keypoint_classifier\\keypoint_classifier.hdf5\n",
            "30/30 [==============================] - 0s 4ms/step - loss: 0.5974 - accuracy: 0.7716 - val_loss: 0.2467 - val_accuracy: 0.9511\n",
            "Epoch 83/1000\n",
            "19/30 [==================>...........] - ETA: 0s - loss: 0.5879 - accuracy: 0.7771\n",
            "Epoch 83: saving model to model/keypoint_classifier\\keypoint_classifier.hdf5\n",
            "30/30 [==============================] - 0s 5ms/step - loss: 0.5971 - accuracy: 0.7729 - val_loss: 0.2462 - val_accuracy: 0.9504\n",
            "Epoch 84/1000\n",
            " 1/30 [>.............................] - ETA: 0s - loss: 0.5457 - accuracy: 0.7891\n",
            "Epoch 84: saving model to model/keypoint_classifier\\keypoint_classifier.hdf5\n",
            "30/30 [==============================] - 0s 4ms/step - loss: 0.5796 - accuracy: 0.7884 - val_loss: 0.2354 - val_accuracy: 0.9590\n",
            "Epoch 85/1000\n",
            "14/30 [=============>................] - ETA: 0s - loss: 0.5712 - accuracy: 0.7829\n",
            "Epoch 85: saving model to model/keypoint_classifier\\keypoint_classifier.hdf5\n",
            "30/30 [==============================] - 0s 6ms/step - loss: 0.5949 - accuracy: 0.7726 - val_loss: 0.2444 - val_accuracy: 0.9504\n",
            "Epoch 86/1000\n",
            "27/30 [==========================>...] - ETA: 0s - loss: 0.5995 - accuracy: 0.7784\n",
            "Epoch 86: saving model to model/keypoint_classifier\\keypoint_classifier.hdf5\n",
            "30/30 [==============================] - 0s 5ms/step - loss: 0.5961 - accuracy: 0.7792 - val_loss: 0.2365 - val_accuracy: 0.9598\n",
            "Epoch 87/1000\n",
            "29/30 [============================>.] - ETA: 0s - loss: 0.5742 - accuracy: 0.7780\n",
            "Epoch 87: saving model to model/keypoint_classifier\\keypoint_classifier.hdf5\n",
            "30/30 [==============================] - 0s 4ms/step - loss: 0.5757 - accuracy: 0.7771 - val_loss: 0.2355 - val_accuracy: 0.9535\n",
            "Epoch 88/1000\n",
            "29/30 [============================>.] - ETA: 0s - loss: 0.5763 - accuracy: 0.7880\n",
            "Epoch 88: saving model to model/keypoint_classifier\\keypoint_classifier.hdf5\n",
            "30/30 [==============================] - 0s 4ms/step - loss: 0.5759 - accuracy: 0.7884 - val_loss: 0.2365 - val_accuracy: 0.9567\n",
            "Epoch 89/1000\n",
            " 1/30 [>.............................] - ETA: 0s - loss: 0.5574 - accuracy: 0.8047\n",
            "Epoch 89: saving model to model/keypoint_classifier\\keypoint_classifier.hdf5\n",
            "30/30 [==============================] - 0s 4ms/step - loss: 0.5920 - accuracy: 0.7702 - val_loss: 0.2349 - val_accuracy: 0.9559\n",
            "Epoch 90/1000\n",
            " 1/30 [>.............................] - ETA: 0s - loss: 0.6442 - accuracy: 0.7578\n",
            "Epoch 90: saving model to model/keypoint_classifier\\keypoint_classifier.hdf5\n",
            "30/30 [==============================] - 0s 4ms/step - loss: 0.6031 - accuracy: 0.7616 - val_loss: 0.2398 - val_accuracy: 0.9519\n",
            "Epoch 91/1000\n",
            "29/30 [============================>.] - ETA: 0s - loss: 0.6090 - accuracy: 0.7764\n",
            "Epoch 91: saving model to model/keypoint_classifier\\keypoint_classifier.hdf5\n",
            "30/30 [==============================] - 0s 4ms/step - loss: 0.6067 - accuracy: 0.7771 - val_loss: 0.2332 - val_accuracy: 0.9590\n",
            "Epoch 92/1000\n",
            " 1/30 [>.............................] - ETA: 0s - loss: 0.5745 - accuracy: 0.7500\n",
            "Epoch 92: saving model to model/keypoint_classifier\\keypoint_classifier.hdf5\n",
            "30/30 [==============================] - 0s 4ms/step - loss: 0.6109 - accuracy: 0.7702 - val_loss: 0.2405 - val_accuracy: 0.9504\n",
            "Epoch 93/1000\n",
            "29/30 [============================>.] - ETA: 0s - loss: 0.5812 - accuracy: 0.7815\n",
            "Epoch 93: saving model to model/keypoint_classifier\\keypoint_classifier.hdf5\n",
            "30/30 [==============================] - 0s 4ms/step - loss: 0.5807 - accuracy: 0.7808 - val_loss: 0.2347 - val_accuracy: 0.9559\n",
            "Epoch 94/1000\n",
            "27/30 [==========================>...] - ETA: 0s - loss: 0.5910 - accuracy: 0.7731\n",
            "Epoch 94: saving model to model/keypoint_classifier\\keypoint_classifier.hdf5\n",
            "30/30 [==============================] - 0s 4ms/step - loss: 0.5894 - accuracy: 0.7763 - val_loss: 0.2351 - val_accuracy: 0.9527\n",
            "Epoch 95/1000\n",
            " 1/30 [>.............................] - ETA: 0s - loss: 0.4733 - accuracy: 0.8281\n",
            "Epoch 95: saving model to model/keypoint_classifier\\keypoint_classifier.hdf5\n",
            "30/30 [==============================] - 0s 6ms/step - loss: 0.5937 - accuracy: 0.7763 - val_loss: 0.2340 - val_accuracy: 0.9504\n",
            "Epoch 96/1000\n",
            "21/30 [====================>.........] - ETA: 0s - loss: 0.5924 - accuracy: 0.7812\n",
            "Epoch 96: saving model to model/keypoint_classifier\\keypoint_classifier.hdf5\n",
            "30/30 [==============================] - 0s 7ms/step - loss: 0.6023 - accuracy: 0.7760 - val_loss: 0.2425 - val_accuracy: 0.9511\n",
            "Epoch 97/1000\n",
            "13/30 [============>.................] - ETA: 0s - loss: 0.5885 - accuracy: 0.7680\n",
            "Epoch 97: saving model to model/keypoint_classifier\\keypoint_classifier.hdf5\n",
            "30/30 [==============================] - 0s 7ms/step - loss: 0.5858 - accuracy: 0.7766 - val_loss: 0.2429 - val_accuracy: 0.9527\n",
            "Epoch 98/1000\n",
            "23/30 [======================>.......] - ETA: 0s - loss: 0.5784 - accuracy: 0.7853\n",
            "Epoch 98: saving model to model/keypoint_classifier\\keypoint_classifier.hdf5\n",
            "30/30 [==============================] - 0s 5ms/step - loss: 0.5798 - accuracy: 0.7873 - val_loss: 0.2296 - val_accuracy: 0.9598\n",
            "Epoch 99/1000\n",
            "22/30 [=====================>........] - ETA: 0s - loss: 0.5654 - accuracy: 0.7905\n",
            "Epoch 99: saving model to model/keypoint_classifier\\keypoint_classifier.hdf5\n",
            "30/30 [==============================] - 0s 5ms/step - loss: 0.5647 - accuracy: 0.7902 - val_loss: 0.2329 - val_accuracy: 0.9519\n",
            "Epoch 100/1000\n",
            "23/30 [======================>.......] - ETA: 0s - loss: 0.5883 - accuracy: 0.7782\n",
            "Epoch 100: saving model to model/keypoint_classifier\\keypoint_classifier.hdf5\n",
            "30/30 [==============================] - 0s 5ms/step - loss: 0.5852 - accuracy: 0.7787 - val_loss: 0.2345 - val_accuracy: 0.9488\n",
            "Epoch 101/1000\n",
            "27/30 [==========================>...] - ETA: 0s - loss: 0.5796 - accuracy: 0.7873\n",
            "Epoch 101: saving model to model/keypoint_classifier\\keypoint_classifier.hdf5\n",
            "30/30 [==============================] - 0s 4ms/step - loss: 0.5765 - accuracy: 0.7876 - val_loss: 0.2345 - val_accuracy: 0.9535\n",
            "Epoch 102/1000\n",
            "25/30 [========================>.....] - ETA: 0s - loss: 0.5801 - accuracy: 0.7859\n",
            "Epoch 102: saving model to model/keypoint_classifier\\keypoint_classifier.hdf5\n",
            "30/30 [==============================] - 0s 4ms/step - loss: 0.5685 - accuracy: 0.7905 - val_loss: 0.2327 - val_accuracy: 0.9527\n",
            "Epoch 103/1000\n",
            " 1/30 [>.............................] - ETA: 0s - loss: 0.6347 - accuracy: 0.7578\n",
            "Epoch 103: saving model to model/keypoint_classifier\\keypoint_classifier.hdf5\n",
            "30/30 [==============================] - 0s 4ms/step - loss: 0.5792 - accuracy: 0.7876 - val_loss: 0.2312 - val_accuracy: 0.9551\n",
            "Epoch 104/1000\n",
            "27/30 [==========================>...] - ETA: 0s - loss: 0.5553 - accuracy: 0.7885\n",
            "Epoch 104: saving model to model/keypoint_classifier\\keypoint_classifier.hdf5\n",
            "30/30 [==============================] - 0s 4ms/step - loss: 0.5522 - accuracy: 0.7913 - val_loss: 0.2294 - val_accuracy: 0.9527\n",
            "Epoch 105/1000\n",
            " 1/30 [>.............................] - ETA: 0s - loss: 0.5606 - accuracy: 0.7812\n",
            "Epoch 105: saving model to model/keypoint_classifier\\keypoint_classifier.hdf5\n",
            "30/30 [==============================] - 0s 4ms/step - loss: 0.5897 - accuracy: 0.7702 - val_loss: 0.2260 - val_accuracy: 0.9598\n",
            "Epoch 106/1000\n",
            " 1/30 [>.............................] - ETA: 0s - loss: 0.5443 - accuracy: 0.7500\n",
            "Epoch 106: saving model to model/keypoint_classifier\\keypoint_classifier.hdf5\n",
            "30/30 [==============================] - 0s 4ms/step - loss: 0.5736 - accuracy: 0.7847 - val_loss: 0.2363 - val_accuracy: 0.9535\n",
            "Epoch 107/1000\n",
            "24/30 [=======================>......] - ETA: 0s - loss: 0.5807 - accuracy: 0.7826\n",
            "Epoch 107: saving model to model/keypoint_classifier\\keypoint_classifier.hdf5\n",
            "30/30 [==============================] - 0s 5ms/step - loss: 0.5654 - accuracy: 0.7879 - val_loss: 0.2314 - val_accuracy: 0.9535\n",
            "Epoch 108/1000\n",
            "28/30 [===========================>..] - ETA: 0s - loss: 0.5582 - accuracy: 0.7891\n",
            "Epoch 108: saving model to model/keypoint_classifier\\keypoint_classifier.hdf5\n",
            "30/30 [==============================] - 0s 4ms/step - loss: 0.5606 - accuracy: 0.7876 - val_loss: 0.2241 - val_accuracy: 0.9574\n",
            "Epoch 109/1000\n",
            " 1/30 [>.............................] - ETA: 0s - loss: 0.5370 - accuracy: 0.8125\n",
            "Epoch 109: saving model to model/keypoint_classifier\\keypoint_classifier.hdf5\n",
            "30/30 [==============================] - 0s 4ms/step - loss: 0.5620 - accuracy: 0.7931 - val_loss: 0.2267 - val_accuracy: 0.9535\n",
            "Epoch 110/1000\n",
            " 1/30 [>.............................] - ETA: 0s - loss: 0.5275 - accuracy: 0.8047\n",
            "Epoch 110: saving model to model/keypoint_classifier\\keypoint_classifier.hdf5\n",
            "30/30 [==============================] - 0s 4ms/step - loss: 0.5477 - accuracy: 0.7950 - val_loss: 0.2179 - val_accuracy: 0.9622\n",
            "Epoch 111/1000\n",
            "28/30 [===========================>..] - ETA: 0s - loss: 0.5572 - accuracy: 0.7932\n",
            "Epoch 111: saving model to model/keypoint_classifier\\keypoint_classifier.hdf5\n",
            "30/30 [==============================] - 0s 4ms/step - loss: 0.5594 - accuracy: 0.7915 - val_loss: 0.2220 - val_accuracy: 0.9606\n",
            "Epoch 112/1000\n",
            " 1/30 [>.............................] - ETA: 0s - loss: 0.6632 - accuracy: 0.7109\n",
            "Epoch 112: saving model to model/keypoint_classifier\\keypoint_classifier.hdf5\n",
            "30/30 [==============================] - 0s 4ms/step - loss: 0.5795 - accuracy: 0.7876 - val_loss: 0.2308 - val_accuracy: 0.9519\n",
            "Epoch 113/1000\n",
            " 1/30 [>.............................] - ETA: 0s - loss: 0.5426 - accuracy: 0.7969\n",
            "Epoch 113: saving model to model/keypoint_classifier\\keypoint_classifier.hdf5\n",
            "30/30 [==============================] - 0s 4ms/step - loss: 0.5683 - accuracy: 0.7823 - val_loss: 0.2315 - val_accuracy: 0.9559\n",
            "Epoch 114/1000\n",
            " 1/30 [>.............................] - ETA: 0s - loss: 0.4742 - accuracy: 0.8359\n",
            "Epoch 114: saving model to model/keypoint_classifier\\keypoint_classifier.hdf5\n",
            "30/30 [==============================] - 0s 4ms/step - loss: 0.5771 - accuracy: 0.7847 - val_loss: 0.2361 - val_accuracy: 0.9504\n",
            "Epoch 115/1000\n",
            "30/30 [==============================] - ETA: 0s - loss: 0.5559 - accuracy: 0.7847\n",
            "Epoch 115: saving model to model/keypoint_classifier\\keypoint_classifier.hdf5\n",
            "30/30 [==============================] - 0s 4ms/step - loss: 0.5559 - accuracy: 0.7847 - val_loss: 0.2250 - val_accuracy: 0.9559\n",
            "Epoch 116/1000\n",
            " 1/30 [>.............................] - ETA: 0s - loss: 0.5516 - accuracy: 0.7734\n",
            "Epoch 116: saving model to model/keypoint_classifier\\keypoint_classifier.hdf5\n",
            "30/30 [==============================] - 0s 4ms/step - loss: 0.5824 - accuracy: 0.7900 - val_loss: 0.2256 - val_accuracy: 0.9567\n",
            "Epoch 117/1000\n",
            "29/30 [============================>.] - ETA: 0s - loss: 0.5726 - accuracy: 0.7850\n",
            "Epoch 117: saving model to model/keypoint_classifier\\keypoint_classifier.hdf5\n",
            "30/30 [==============================] - 0s 4ms/step - loss: 0.5703 - accuracy: 0.7863 - val_loss: 0.2319 - val_accuracy: 0.9535\n",
            "Epoch 118/1000\n",
            "10/30 [=========>....................] - ETA: 0s - loss: 0.5525 - accuracy: 0.7930\n",
            "Epoch 118: saving model to model/keypoint_classifier\\keypoint_classifier.hdf5\n",
            "30/30 [==============================] - 0s 6ms/step - loss: 0.5555 - accuracy: 0.7942 - val_loss: 0.2269 - val_accuracy: 0.9559\n",
            "Epoch 119/1000\n",
            "25/30 [========================>.....] - ETA: 0s - loss: 0.5707 - accuracy: 0.7794\n",
            "Epoch 119: saving model to model/keypoint_classifier\\keypoint_classifier.hdf5\n",
            "30/30 [==============================] - 0s 5ms/step - loss: 0.5632 - accuracy: 0.7850 - val_loss: 0.2317 - val_accuracy: 0.9574\n",
            "Epoch 120/1000\n",
            " 1/30 [>.............................] - ETA: 0s - loss: 0.5376 - accuracy: 0.8125\n",
            "Epoch 120: saving model to model/keypoint_classifier\\keypoint_classifier.hdf5\n",
            "30/30 [==============================] - 0s 4ms/step - loss: 0.5543 - accuracy: 0.7984 - val_loss: 0.2287 - val_accuracy: 0.9543\n",
            "Epoch 121/1000\n",
            "27/30 [==========================>...] - ETA: 0s - loss: 0.5800 - accuracy: 0.7836\n",
            "Epoch 121: saving model to model/keypoint_classifier\\keypoint_classifier.hdf5\n",
            "30/30 [==============================] - 0s 4ms/step - loss: 0.5790 - accuracy: 0.7847 - val_loss: 0.2251 - val_accuracy: 0.9590\n",
            "Epoch 122/1000\n",
            "27/30 [==========================>...] - ETA: 0s - loss: 0.5499 - accuracy: 0.7969\n",
            "Epoch 122: saving model to model/keypoint_classifier\\keypoint_classifier.hdf5\n",
            "30/30 [==============================] - 0s 4ms/step - loss: 0.5423 - accuracy: 0.7976 - val_loss: 0.2280 - val_accuracy: 0.9574\n",
            "Epoch 123/1000\n",
            "30/30 [==============================] - ETA: 0s - loss: 0.5402 - accuracy: 0.8013\n",
            "Epoch 123: saving model to model/keypoint_classifier\\keypoint_classifier.hdf5\n",
            "30/30 [==============================] - 0s 4ms/step - loss: 0.5402 - accuracy: 0.8013 - val_loss: 0.2231 - val_accuracy: 0.9598\n",
            "Epoch 124/1000\n",
            "21/30 [====================>.........] - ETA: 0s - loss: 0.5472 - accuracy: 0.8002\n",
            "Epoch 124: saving model to model/keypoint_classifier\\keypoint_classifier.hdf5\n",
            "30/30 [==============================] - 0s 10ms/step - loss: 0.5454 - accuracy: 0.8007 - val_loss: 0.2202 - val_accuracy: 0.9574\n",
            "Epoch 125/1000\n",
            "29/30 [============================>.] - ETA: 0s - loss: 0.5359 - accuracy: 0.8020\n",
            "Epoch 125: saving model to model/keypoint_classifier\\keypoint_classifier.hdf5\n",
            "30/30 [==============================] - 0s 8ms/step - loss: 0.5360 - accuracy: 0.8028 - val_loss: 0.2211 - val_accuracy: 0.9559\n",
            "Epoch 126/1000\n",
            "20/30 [===================>..........] - ETA: 0s - loss: 0.5618 - accuracy: 0.7875\n",
            "Epoch 126: saving model to model/keypoint_classifier\\keypoint_classifier.hdf5\n",
            "30/30 [==============================] - 0s 7ms/step - loss: 0.5564 - accuracy: 0.7881 - val_loss: 0.2201 - val_accuracy: 0.9543\n",
            "Epoch 127/1000\n",
            "25/30 [========================>.....] - ETA: 0s - loss: 0.5727 - accuracy: 0.7841\n",
            "Epoch 127: saving model to model/keypoint_classifier\\keypoint_classifier.hdf5\n",
            "30/30 [==============================] - 0s 5ms/step - loss: 0.5682 - accuracy: 0.7855 - val_loss: 0.2338 - val_accuracy: 0.9488\n",
            "Epoch 128/1000\n",
            "29/30 [============================>.] - ETA: 0s - loss: 0.5642 - accuracy: 0.7888\n",
            "Epoch 128: saving model to model/keypoint_classifier\\keypoint_classifier.hdf5\n",
            "30/30 [==============================] - 0s 4ms/step - loss: 0.5655 - accuracy: 0.7884 - val_loss: 0.2226 - val_accuracy: 0.9606\n",
            "Epoch 129/1000\n",
            "25/30 [========================>.....] - ETA: 0s - loss: 0.5396 - accuracy: 0.7953\n",
            "Epoch 129: saving model to model/keypoint_classifier\\keypoint_classifier.hdf5\n",
            "30/30 [==============================] - 0s 5ms/step - loss: 0.5444 - accuracy: 0.7934 - val_loss: 0.2159 - val_accuracy: 0.9543\n",
            "Epoch 130/1000\n",
            "25/30 [========================>.....] - ETA: 0s - loss: 0.5594 - accuracy: 0.7791\n",
            "Epoch 130: saving model to model/keypoint_classifier\\keypoint_classifier.hdf5\n",
            "30/30 [==============================] - 0s 5ms/step - loss: 0.5686 - accuracy: 0.7776 - val_loss: 0.2199 - val_accuracy: 0.9614\n",
            "Epoch 131/1000\n",
            "24/30 [=======================>......] - ETA: 0s - loss: 0.5594 - accuracy: 0.7868\n",
            "Epoch 131: saving model to model/keypoint_classifier\\keypoint_classifier.hdf5\n",
            "30/30 [==============================] - 0s 5ms/step - loss: 0.5581 - accuracy: 0.7881 - val_loss: 0.2296 - val_accuracy: 0.9527\n",
            "Epoch 132/1000\n",
            "17/30 [================>.............] - ETA: 0s - loss: 0.5358 - accuracy: 0.7987\n",
            "Epoch 132: saving model to model/keypoint_classifier\\keypoint_classifier.hdf5\n",
            "30/30 [==============================] - 0s 7ms/step - loss: 0.5476 - accuracy: 0.7942 - val_loss: 0.2296 - val_accuracy: 0.9511\n",
            "Epoch 133/1000\n",
            "17/30 [================>.............] - ETA: 0s - loss: 0.5795 - accuracy: 0.7923\n",
            "Epoch 133: saving model to model/keypoint_classifier\\keypoint_classifier.hdf5\n",
            "30/30 [==============================] - 0s 6ms/step - loss: 0.5664 - accuracy: 0.7957 - val_loss: 0.2356 - val_accuracy: 0.9496\n",
            "Epoch 134/1000\n",
            "21/30 [====================>.........] - ETA: 0s - loss: 0.5375 - accuracy: 0.8047\n",
            "Epoch 134: saving model to model/keypoint_classifier\\keypoint_classifier.hdf5\n",
            "30/30 [==============================] - 0s 5ms/step - loss: 0.5356 - accuracy: 0.8007 - val_loss: 0.2188 - val_accuracy: 0.9630\n",
            "Epoch 135/1000\n",
            "22/30 [=====================>........] - ETA: 0s - loss: 0.5456 - accuracy: 0.7958\n",
            "Epoch 135: saving model to model/keypoint_classifier\\keypoint_classifier.hdf5\n",
            "30/30 [==============================] - 0s 6ms/step - loss: 0.5412 - accuracy: 0.7981 - val_loss: 0.2223 - val_accuracy: 0.9496\n",
            "Epoch 136/1000\n",
            "29/30 [============================>.] - ETA: 0s - loss: 0.5408 - accuracy: 0.7928\n",
            "Epoch 136: saving model to model/keypoint_classifier\\keypoint_classifier.hdf5\n",
            "30/30 [==============================] - 0s 7ms/step - loss: 0.5450 - accuracy: 0.7934 - val_loss: 0.2220 - val_accuracy: 0.9567\n",
            "Epoch 137/1000\n",
            "27/30 [==========================>...] - ETA: 0s - loss: 0.5407 - accuracy: 0.8032\n",
            "Epoch 137: saving model to model/keypoint_classifier\\keypoint_classifier.hdf5\n",
            "30/30 [==============================] - 0s 9ms/step - loss: 0.5360 - accuracy: 0.8042 - val_loss: 0.2223 - val_accuracy: 0.9559\n",
            "Epoch 138/1000\n",
            "25/30 [========================>.....] - ETA: 0s - loss: 0.5709 - accuracy: 0.7822\n",
            "Epoch 138: saving model to model/keypoint_classifier\\keypoint_classifier.hdf5\n",
            "30/30 [==============================] - 0s 9ms/step - loss: 0.5641 - accuracy: 0.7879 - val_loss: 0.2215 - val_accuracy: 0.9519\n",
            "Epoch 139/1000\n",
            "15/30 [==============>...............] - ETA: 0s - loss: 0.5594 - accuracy: 0.7906\n",
            "Epoch 139: saving model to model/keypoint_classifier\\keypoint_classifier.hdf5\n",
            "30/30 [==============================] - 0s 7ms/step - loss: 0.5330 - accuracy: 0.8034 - val_loss: 0.2181 - val_accuracy: 0.9559\n",
            "Epoch 140/1000\n",
            "17/30 [================>.............] - ETA: 0s - loss: 0.5370 - accuracy: 0.7996\n",
            "Epoch 140: saving model to model/keypoint_classifier\\keypoint_classifier.hdf5\n",
            "30/30 [==============================] - 0s 7ms/step - loss: 0.5297 - accuracy: 0.7960 - val_loss: 0.2164 - val_accuracy: 0.9622\n",
            "Epoch 141/1000\n",
            "29/30 [============================>.] - ETA: 0s - loss: 0.5384 - accuracy: 0.7939\n",
            "Epoch 141: saving model to model/keypoint_classifier\\keypoint_classifier.hdf5\n",
            "30/30 [==============================] - 0s 9ms/step - loss: 0.5416 - accuracy: 0.7923 - val_loss: 0.2192 - val_accuracy: 0.9590\n",
            "Epoch 142/1000\n",
            "17/30 [================>.............] - ETA: 0s - loss: 0.5319 - accuracy: 0.8051\n",
            "Epoch 142: saving model to model/keypoint_classifier\\keypoint_classifier.hdf5\n",
            "30/30 [==============================] - 0s 6ms/step - loss: 0.5315 - accuracy: 0.8089 - val_loss: 0.2266 - val_accuracy: 0.9535\n",
            "Epoch 143/1000\n",
            "24/30 [=======================>......] - ETA: 0s - loss: 0.5621 - accuracy: 0.7806\n",
            "Epoch 143: saving model to model/keypoint_classifier\\keypoint_classifier.hdf5\n",
            "30/30 [==============================] - 0s 5ms/step - loss: 0.5534 - accuracy: 0.7844 - val_loss: 0.2198 - val_accuracy: 0.9567\n",
            "Epoch 144/1000\n",
            "23/30 [======================>.......] - ETA: 0s - loss: 0.5489 - accuracy: 0.7901\n",
            "Epoch 144: saving model to model/keypoint_classifier\\keypoint_classifier.hdf5\n",
            "30/30 [==============================] - 0s 5ms/step - loss: 0.5518 - accuracy: 0.7860 - val_loss: 0.2210 - val_accuracy: 0.9582\n",
            "Epoch 145/1000\n",
            "21/30 [====================>.........] - ETA: 0s - loss: 0.5407 - accuracy: 0.8025\n",
            "Epoch 145: saving model to model/keypoint_classifier\\keypoint_classifier.hdf5\n",
            "30/30 [==============================] - 0s 5ms/step - loss: 0.5461 - accuracy: 0.7952 - val_loss: 0.2228 - val_accuracy: 0.9567\n",
            "Epoch 146/1000\n",
            "23/30 [======================>.......] - ETA: 0s - loss: 0.5589 - accuracy: 0.7938\n",
            "Epoch 146: saving model to model/keypoint_classifier\\keypoint_classifier.hdf5\n",
            "30/30 [==============================] - 0s 7ms/step - loss: 0.5571 - accuracy: 0.7934 - val_loss: 0.2274 - val_accuracy: 0.9543\n",
            "Epoch 147/1000\n",
            "30/30 [==============================] - ETA: 0s - loss: 0.5259 - accuracy: 0.8018\n",
            "Epoch 147: saving model to model/keypoint_classifier\\keypoint_classifier.hdf5\n",
            "30/30 [==============================] - 0s 8ms/step - loss: 0.5259 - accuracy: 0.8018 - val_loss: 0.2325 - val_accuracy: 0.9504\n",
            "Epoch 148/1000\n",
            "30/30 [==============================] - ETA: 0s - loss: 0.5591 - accuracy: 0.7868\n",
            "Epoch 148: saving model to model/keypoint_classifier\\keypoint_classifier.hdf5\n",
            "30/30 [==============================] - 0s 7ms/step - loss: 0.5591 - accuracy: 0.7868 - val_loss: 0.2183 - val_accuracy: 0.9582\n",
            "Epoch 149/1000\n",
            "20/30 [===================>..........] - ETA: 0s - loss: 0.5356 - accuracy: 0.8035\n",
            "Epoch 149: saving model to model/keypoint_classifier\\keypoint_classifier.hdf5\n",
            "30/30 [==============================] - 0s 7ms/step - loss: 0.5335 - accuracy: 0.8052 - val_loss: 0.2296 - val_accuracy: 0.9511\n",
            "Epoch 149: early stopping\n"
          ]
        },
        {
          "data": {
            "text/plain": [
              "<keras.callbacks.History at 0x1f4d581a1f0>"
            ]
          },
          "execution_count": 11,
          "metadata": {},
          "output_type": "execute_result"
        }
      ],
      "source": [
        "model.fit(\n",
        "    X_train,\n",
        "    y_train,\n",
        "    epochs=1000,\n",
        "    batch_size=128,\n",
        "    validation_data=(X_test, y_test),\n",
        "    callbacks=[cp_callback, es_callback]\n",
        ")"
      ]
    },
    {
      "cell_type": "code",
      "execution_count": 12,
      "metadata": {
        "colab": {
          "base_uri": "https://localhost:8080/"
        },
        "id": "pxvb2Y299hE3",
        "outputId": "59eb3185-2e37-4b9e-bc9d-ab1b8ac29b7f"
      },
      "outputs": [
        {
          "name": "stdout",
          "output_type": "stream",
          "text": [
            "10/10 [==============================] - 0s 4ms/step - loss: 0.2296 - accuracy: 0.9511\n"
          ]
        }
      ],
      "source": [
        "# Model evaluation\n",
        "val_loss, val_acc = model.evaluate(X_test, y_test, batch_size=128)"
      ]
    },
    {
      "cell_type": "code",
      "execution_count": 13,
      "metadata": {
        "id": "RBkmDeUW9hE4"
      },
      "outputs": [],
      "source": [
        "# Loading the saved model\n",
        "model = tf.keras.models.load_model(model_save_path)"
      ]
    },
    {
      "cell_type": "code",
      "execution_count": 14,
      "metadata": {
        "colab": {
          "base_uri": "https://localhost:8080/"
        },
        "id": "tFz9Tb0I9hE4",
        "outputId": "1c3b3528-54ae-4ee2-ab04-77429211cbef"
      },
      "outputs": [
        {
          "name": "stdout",
          "output_type": "stream",
          "text": [
            "1/1 [==============================] - 0s 324ms/step\n",
            "[7.9730339e-03 9.8205662e-01 4.1694315e-03 2.1701722e-05 5.7792971e-03]\n",
            "1\n"
          ]
        }
      ],
      "source": [
        "# Inference test\n",
        "predict_result = model.predict(np.array([X_test[0]]))\n",
        "print(np.squeeze(predict_result))\n",
        "print(np.argmax(np.squeeze(predict_result)))"
      ]
    },
    {
      "cell_type": "markdown",
      "metadata": {
        "id": "S3U4yNWx9hE4"
      },
      "source": [
        "# Confusion matrix"
      ]
    },
    {
      "cell_type": "code",
      "execution_count": 15,
      "metadata": {
        "colab": {
          "base_uri": "https://localhost:8080/",
          "height": 582
        },
        "id": "AP1V6SCk9hE5",
        "outputId": "08e41a80-7a4a-4619-8125-ecc371368d19"
      },
      "outputs": [
        {
          "name": "stdout",
          "output_type": "stream",
          "text": [
            "40/40 [==============================] - 0s 3ms/step\n"
          ]
        },
        {
          "data": {
            "image/png": "[encoded data removed]",
            "text/plain": [
              "<Figure size 504x432 with 2 Axes>"
            ]
          },
          "metadata": {
            "needs_background": "light"
          },
          "output_type": "display_data"
        },
        {
          "name": "stdout",
          "output_type": "stream",
          "text": [
            "Classification Report\n",
            "              precision    recall  f1-score   support\n",
            "\n",
            "           0       1.00      0.94      0.97       393\n",
            "           1       0.98      0.91      0.94       376\n",
            "           2       0.91      0.98      0.94       343\n",
            "           3       0.84      1.00      0.92        92\n",
            "           4       0.97      1.00      0.98        65\n",
            "\n",
            "    accuracy                           0.95      1269\n",
            "   macro avg       0.94      0.97      0.95      1269\n",
            "weighted avg       0.95      0.95      0.95      1269\n",
            "\n"
          ]
        }
      ],
      "source": [
        "import pandas as pd\n",
        "import seaborn as sns\n",
        "import matplotlib.pyplot as plt\n",
        "from sklearn.metrics import confusion_matrix, classification_report\n",
        "\n",
        "def print_confusion_matrix(y_true, y_pred, report=True):\n",
        "    labels = sorted(list(set(y_true)))\n",
        "    cmx_data = confusion_matrix(y_true, y_pred, labels=labels)\n",
        "    \n",
        "    df_cmx = pd.DataFrame(cmx_data, index=labels, columns=labels)\n",
        " \n",
        "    fig, ax = plt.subplots(figsize=(7, 6))\n",
        "    sns.heatmap(df_cmx, annot=True, fmt='g' ,square=False)\n",
        "    ax.set_ylim(len(set(y_true)), 0)\n",
        "    plt.show()\n",
        "    \n",
        "    if report:\n",
        "        print('Classification Report')\n",
        "        print(classification_report(y_test, y_pred))\n",
        "\n",
        "Y_pred = model.predict(X_test)\n",
        "y_pred = np.argmax(Y_pred, axis=1)\n",
        "\n",
        "print_confusion_matrix(y_test, y_pred)"
      ]
    },
    {
      "cell_type": "markdown",
      "metadata": {
        "id": "FNP6aqzc9hE5"
      },
      "source": [
        "# Convert to model for Tensorflow-Lite"
      ]
    },
    {
      "cell_type": "code",
      "execution_count": 16,
      "metadata": {
        "id": "ODjnYyld9hE6"
      },
      "outputs": [],
      "source": [
        "# Save as a model dedicated to inference\n",
        "model.save(model_save_path, include_optimizer=False)"
      ]
    },
    {
      "cell_type": "code",
      "execution_count": 17,
      "metadata": {
        "colab": {
          "base_uri": "https://localhost:8080/"
        },
        "id": "zRfuK8Y59hE6",
        "outputId": "a4ca585c-b5d5-4244-8291-8674063209bb"
      },
      "outputs": [
        {
          "name": "stdout",
          "output_type": "stream",
          "text": [
            "INFO:tensorflow:Assets written to: C:\\Users\\Alfian\\AppData\\Local\\Temp\\tmpnbor7j1s\\assets\n"
          ]
        },
        {
          "data": {
            "text/plain": [
              "6588"
            ]
          },
          "execution_count": 17,
          "metadata": {},
          "output_type": "execute_result"
        }
      ],
      "source": [
        "# Transform model (quantization)\n",
        "\n",
        "converter = tf.lite.TFLiteConverter.from_keras_model(model)\n",
        "converter.optimizations = [tf.lite.Optimize.DEFAULT]\n",
        "tflite_quantized_model = converter.convert()\n",
        "\n",
        "open(tflite_save_path, 'wb').write(tflite_quantized_model)"
      ]
    },
    {
      "cell_type": "markdown",
      "metadata": {
        "id": "CHBPBXdx9hE6"
      },
      "source": [
        "# Inference test"
      ]
    },
    {
      "cell_type": "code",
      "execution_count": 18,
      "metadata": {
        "id": "mGAzLocO9hE7"
      },
      "outputs": [],
      "source": [
        "interpreter = tf.lite.Interpreter(model_path=tflite_save_path)\n",
        "interpreter.allocate_tensors()"
      ]
    },
    {
      "cell_type": "code",
      "execution_count": 19,
      "metadata": {
        "id": "oQuDK8YS9hE7"
      },
      "outputs": [],
      "source": [
        "# Get I / O tensor\n",
        "input_details = interpreter.get_input_details()\n",
        "output_details = interpreter.get_output_details()"
      ]
    },
    {
      "cell_type": "code",
      "execution_count": 20,
      "metadata": {
        "id": "2_ixAf_l9hE7"
      },
      "outputs": [],
      "source": [
        "interpreter.set_tensor(input_details[0]['index'], np.array([X_test[0]]))"
      ]
    },
    {
      "cell_type": "code",
      "execution_count": 21,
      "metadata": {
        "colab": {
          "base_uri": "https://localhost:8080/"
        },
        "id": "s4FoAnuc9hE7",
        "outputId": "91f18257-8d8b-4ef3-c558-e9b5f94fabbf",
        "scrolled": true
      },
      "outputs": [
        {
          "name": "stdout",
          "output_type": "stream",
          "text": [
            "Wall time: 1.53 ms\n"
          ]
        }
      ],
      "source": [
        "%%time\n",
        "# Inference implementation\n",
        "interpreter.invoke()\n",
        "tflite_results = interpreter.get_tensor(output_details[0]['index'])"
      ]
    },
    {
      "cell_type": "code",
      "execution_count": 22,
      "metadata": {
        "colab": {
          "base_uri": "https://localhost:8080/"
        },
        "id": "vONjp19J9hE8",
        "outputId": "77205e24-fd00-42c4-f7b6-e06e527c2cba"
      },
      "outputs": [
        {
          "name": "stdout",
          "output_type": "stream",
          "text": [
            "[7.9730442e-03 9.8205650e-01 4.1694348e-03 2.1701762e-05 5.7793022e-03]\n",
            "1\n"
          ]
        }
      ],
      "source": [
        "print(np.squeeze(tflite_results))\n",
        "print(np.argmax(np.squeeze(tflite_results)))"
      ]
    }
  ],
  "metadata": {
    "accelerator": "GPU",
    "colab": {
      "collapsed_sections": [],
      "name": "keypoint_classification_EN.ipynb",
      "provenance": [],
      "toc_visible": true
    },
    "kernelspec": {
      "display_name": "Python 3.9.7 ('base')",
      "language": "python",
      "name": "python3"
    },
    "language_info": {
      "codemirror_mode": {
        "name": "ipython",
        "version": 3
      },
      "file_extension": ".py",
      "mimetype": "text/x-python",
      "name": "python",
      "nbconvert_exporter": "python",
      "pygments_lexer": "ipython3",
      "version": "3.9.7"
    },
    "vscode": {
      "interpreter": {
        "hash": "c45a8fd23574db316d2ea29d17c826963fdfde91ff67bc571ca5132ac0fdb06f"
      }
    }
  },
  "nbformat": 4,
  "nbformat_minor": 0
}
