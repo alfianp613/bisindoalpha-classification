{
 "cells": [
  {
   "cell_type": "code",
   "execution_count": 1,
   "metadata": {},
   "outputs": [],
   "source": [
    "import csv\n",
    "import copy\n",
    "import argparse\n",
    "import itertools\n",
    "\n",
    "from collections import Counter\n",
    "from collections import deque\n",
    "\n",
    "import os\n",
    "import cv2 as cv\n",
    "import numpy as np\n",
    "import mediapipe as mp"
   ]
  },
  {
   "cell_type": "code",
   "execution_count": 2,
   "metadata": {},
   "outputs": [],
   "source": [
    "## Initialized Hand Solution\n",
    "mp_hands = mp.solutions.hands\n",
    "hands = mp_hands.Hands(\n",
    "    static_image_mode=True,\n",
    "    max_num_hands=2,\n",
    "    min_detection_confidence=0.9,\n",
    "    min_tracking_confidence=0.8,\n",
    ")"
   ]
  },
  {
   "cell_type": "code",
   "execution_count": 8,
   "metadata": {},
   "outputs": [],
   "source": [
    "path = r'D:\\Kuliah\\Tugas, PPT, Buku Kuliah\\Semester 5\\Data Mining II\\Project\\Image Augmentation'\n",
    "path_sibi = r'D:\\Kuliah\\Tugas, PPT, Buku Kuliah\\Semester 5\\Data Mining II\\Project\\SIBI'\n",
    "path_a = r\"D:\\Kuliah\\Tugas, PPT, Buku Kuliah\\Semester 5\\Data Mining II\\Project\\A\""
   ]
  },
  {
   "cell_type": "code",
   "execution_count": 10,
   "metadata": {},
   "outputs": [
    {
     "name": "stdout",
     "output_type": "stream",
     "text": [
      "Abjad A Selesai!\n",
      "Abjad B Selesai!\n",
      "Abjad C Selesai!\n",
      "Abjad D Selesai!\n",
      "Abjad E Selesai!\n",
      "Abjad F Selesai!\n",
      "Abjad G Selesai!\n",
      "Abjad H Selesai!\n",
      "Abjad I Selesai!\n",
      "Abjad J Selesai!\n",
      "Abjad K Selesai!\n",
      "Abjad L Selesai!\n",
      "Abjad M Selesai!\n",
      "Abjad N Selesai!\n",
      "Abjad O Selesai!\n",
      "Abjad P Selesai!\n",
      "Abjad Q Selesai!\n",
      "Abjad R Selesai!\n",
      "Abjad S Selesai!\n",
      "Abjad T Selesai!\n",
      "Abjad U Selesai!\n",
      "Abjad V Selesai!\n",
      "Abjad W Selesai!\n",
      "Abjad X Selesai!\n",
      "Abjad Y Selesai!\n",
      "Abjad Z Selesai!\n"
     ]
    }
   ],
   "source": [
    "abjad = ['A','B','C','D','E','F','G','H','I','J','K','L','M','N','O','P','Q','R','S','T','U','V','W','X','Y','Z']\n",
    "for i in range(0,26):\n",
    "    path_abjad = f\"{path}\\{abjad[i]}\"\n",
    "    for gambar in os.listdir(path_abjad):\n",
    "        # Read Image\n",
    "        image = cv.imread(f\"{path_abjad}\\{gambar}\")\n",
    "        image = cv.flip(image, 1)  # Mirror display\n",
    "        debug_image = copy.deepcopy(image)\n",
    "        # Detection implementation #############################################################\n",
    "        image = cv.cvtColor(image, cv.COLOR_BGR2RGB)\n",
    "        image.flags.writeable = False\n",
    "        results = hands.process(image)\n",
    "        image.flags.writeable = True\n",
    "        #  ####################################################################\n",
    "        if results.multi_hand_landmarks is not None:\n",
    "            for hand_landmarks, handedness in zip(results.multi_hand_landmarks,\n",
    "                                                    results.multi_handedness):\n",
    "                # Landmark calculation\n",
    "                landmark_list = calc_landmark_list(debug_image, hand_landmarks)\n",
    "\n",
    "                # Conversion to relative coordinates / normalized coordinates\n",
    "                pre_processed_landmark_list = pre_process_landmark(\n",
    "                    landmark_list)\n",
    "\n",
    "                # Write to the dataset file\n",
    "                logging_csv(i, pre_processed_landmark_list)\n",
    "    print(\"Abjad\",abjad[i],\"Selesai!\")\n"
   ]
  },
  {
   "cell_type": "code",
   "execution_count": 4,
   "metadata": {},
   "outputs": [],
   "source": [
    "def calc_landmark_list(image, landmarks):\n",
    "    image_width, image_height = image.shape[1], image.shape[0]\n",
    "\n",
    "    landmark_point = []\n",
    "\n",
    "    # Keypoint\n",
    "    for _, landmark in enumerate(landmarks.landmark):\n",
    "        landmark_x = min(int(landmark.x * image_width), image_width - 1)\n",
    "        landmark_y = min(int(landmark.y * image_height), image_height - 1)\n",
    "        # landmark_z = landmark.z\n",
    "\n",
    "        landmark_point.append([landmark_x, landmark_y])\n",
    "\n",
    "    return landmark_point\n",
    "\n",
    "\n",
    "def pre_process_landmark(landmark_list):\n",
    "    temp_landmark_list = copy.deepcopy(landmark_list)\n",
    "\n",
    "    # Convert to relative coordinates\n",
    "    base_x, base_y = 0, 0\n",
    "    for index, landmark_point in enumerate(temp_landmark_list):\n",
    "        if index == 0:\n",
    "            base_x, base_y = landmark_point[0], landmark_point[1]\n",
    "\n",
    "        temp_landmark_list[index][0] = temp_landmark_list[index][0] - base_x\n",
    "        temp_landmark_list[index][1] = temp_landmark_list[index][1] - base_y\n",
    "\n",
    "    # Convert to a one-dimensional list\n",
    "    temp_landmark_list = list(\n",
    "        itertools.chain.from_iterable(temp_landmark_list))\n",
    "\n",
    "    # Normalization\n",
    "    max_value = max(list(map(abs, temp_landmark_list)))\n",
    "\n",
    "    def normalize_(n):\n",
    "        return n / max_value\n",
    "\n",
    "    temp_landmark_list = list(map(normalize_, temp_landmark_list))\n",
    "\n",
    "    return temp_landmark_list\n",
    "\n",
    "def logging_csv(number, landmark_list):\n",
    "    csv_path = 'model/keypoint_classifier/keypoint.csv'\n",
    "    with open(csv_path, 'a', newline=\"\") as f:\n",
    "        writer = csv.writer(f)\n",
    "        writer.writerow([number, *landmark_list])"
   ]
  }
 ],
 "metadata": {
  "kernelspec": {
   "display_name": "Python 3.8.15 ('manisya')",
   "language": "python",
   "name": "python3"
  },
  "language_info": {
   "codemirror_mode": {
    "name": "ipython",
    "version": 3
   },
   "file_extension": ".py",
   "mimetype": "text/x-python",
   "name": "python",
   "nbconvert_exporter": "python",
   "pygments_lexer": "ipython3",
   "version": "3.8.15"
  },
  "orig_nbformat": 4,
  "vscode": {
   "interpreter": {
    "hash": "d32f55ab14ccf165a807847bf3bd71a6d3ac9b7802bd2c99c93b000cc2002ae9"
   }
  }
 },
 "nbformat": 4,
 "nbformat_minor": 2
}
